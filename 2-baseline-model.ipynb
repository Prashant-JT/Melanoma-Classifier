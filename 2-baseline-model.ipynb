{
 "cells": [
  {
   "cell_type": "markdown",
   "id": "35c42084",
   "metadata": {
    "papermill": {
     "duration": 0.020025,
     "end_time": "2021-11-24T22:48:24.387699",
     "exception": false,
     "start_time": "2021-11-24T22:48:24.367674",
     "status": "completed"
    },
    "tags": []
   },
   "source": [
    "# Modelo base"
   ]
  },
  {
   "cell_type": "code",
   "execution_count": 1,
   "id": "b212c515",
   "metadata": {
    "execution": {
     "iopub.execute_input": "2021-11-24T22:48:24.430954Z",
     "iopub.status.busy": "2021-11-24T22:48:24.429489Z",
     "iopub.status.idle": "2021-11-24T22:48:24.515393Z",
     "shell.execute_reply": "2021-11-24T22:48:24.514246Z",
     "shell.execute_reply.started": "2021-11-24T22:36:35.806503Z"
    },
    "papermill": {
     "duration": 0.108004,
     "end_time": "2021-11-24T22:48:24.515558",
     "exception": false,
     "start_time": "2021-11-24T22:48:24.407554",
     "status": "completed"
    },
    "tags": []
   },
   "outputs": [],
   "source": [
    "import numpy as np \n",
    "import pandas as pd\n",
    "import matplotlib.pylab as plt\n",
    "import os\n",
    "from os import listdir\n",
    "from os.path import isfile, join"
   ]
  },
  {
   "cell_type": "markdown",
   "id": "5abc3902",
   "metadata": {
    "papermill": {
     "duration": 0.017972,
     "end_time": "2021-11-24T22:48:24.552038",
     "exception": false,
     "start_time": "2021-11-24T22:48:24.534066",
     "status": "completed"
    },
    "tags": []
   },
   "source": [
    "## <font color=red>1. </font>Cargar las imágenes y los datos tabulares"
   ]
  },
  {
   "cell_type": "code",
   "execution_count": 2,
   "id": "2b2c6195",
   "metadata": {
    "execution": {
     "iopub.execute_input": "2021-11-24T22:48:24.593616Z",
     "iopub.status.busy": "2021-11-24T22:48:24.593025Z",
     "iopub.status.idle": "2021-11-24T22:48:54.453653Z",
     "shell.execute_reply": "2021-11-24T22:48:54.453094Z",
     "shell.execute_reply.started": "2021-11-24T22:36:35.814356Z"
    },
    "papermill": {
     "duration": 29.883752,
     "end_time": "2021-11-24T22:48:54.453778",
     "exception": false,
     "start_time": "2021-11-24T22:48:24.570026",
     "status": "completed"
    },
    "tags": []
   },
   "outputs": [],
   "source": [
    "# Resized images directory\n",
    "dir_2019_images = \"/kaggle/input/resizedsiimisic/train_resized/\"\n",
    "images_2019 = [f for f in listdir(dir_2019_images) if isfile(join(dir_2019_images, f))]\n",
    "\n",
    "# CSV file\n",
    "train_df = pd.read_csv('/kaggle/input/resizedsiimisic/train.csv')"
   ]
  },
  {
   "cell_type": "code",
   "execution_count": 3,
   "id": "00645c60",
   "metadata": {
    "execution": {
     "iopub.execute_input": "2021-11-24T22:48:54.493590Z",
     "iopub.status.busy": "2021-11-24T22:48:54.492743Z",
     "iopub.status.idle": "2021-11-24T22:48:54.516841Z",
     "shell.execute_reply": "2021-11-24T22:48:54.517288Z",
     "shell.execute_reply.started": "2021-11-24T22:36:43.336695Z"
    },
    "papermill": {
     "duration": 0.045138,
     "end_time": "2021-11-24T22:48:54.517441",
     "exception": false,
     "start_time": "2021-11-24T22:48:54.472303",
     "status": "completed"
    },
    "tags": []
   },
   "outputs": [
    {
     "data": {
      "text/html": [
       "<div>\n",
       "<style scoped>\n",
       "    .dataframe tbody tr th:only-of-type {\n",
       "        vertical-align: middle;\n",
       "    }\n",
       "\n",
       "    .dataframe tbody tr th {\n",
       "        vertical-align: top;\n",
       "    }\n",
       "\n",
       "    .dataframe thead th {\n",
       "        text-align: right;\n",
       "    }\n",
       "</style>\n",
       "<table border=\"1\" class=\"dataframe\">\n",
       "  <thead>\n",
       "    <tr style=\"text-align: right;\">\n",
       "      <th></th>\n",
       "      <th>image_name</th>\n",
       "      <th>sex</th>\n",
       "      <th>age_approx</th>\n",
       "      <th>anatom_site_general_challenge</th>\n",
       "      <th>target</th>\n",
       "    </tr>\n",
       "  </thead>\n",
       "  <tbody>\n",
       "    <tr>\n",
       "      <th>0</th>\n",
       "      <td>ISIC_0000000.jpg</td>\n",
       "      <td>female</td>\n",
       "      <td>55.0</td>\n",
       "      <td>anterior torso</td>\n",
       "      <td>0.0</td>\n",
       "    </tr>\n",
       "    <tr>\n",
       "      <th>1</th>\n",
       "      <td>ISIC_0000001.jpg</td>\n",
       "      <td>female</td>\n",
       "      <td>30.0</td>\n",
       "      <td>anterior torso</td>\n",
       "      <td>0.0</td>\n",
       "    </tr>\n",
       "    <tr>\n",
       "      <th>2</th>\n",
       "      <td>ISIC_0000002.jpg</td>\n",
       "      <td>female</td>\n",
       "      <td>60.0</td>\n",
       "      <td>upper extremity</td>\n",
       "      <td>1.0</td>\n",
       "    </tr>\n",
       "    <tr>\n",
       "      <th>3</th>\n",
       "      <td>ISIC_0000003.jpg</td>\n",
       "      <td>male</td>\n",
       "      <td>30.0</td>\n",
       "      <td>upper extremity</td>\n",
       "      <td>0.0</td>\n",
       "    </tr>\n",
       "    <tr>\n",
       "      <th>4</th>\n",
       "      <td>ISIC_0000004.jpg</td>\n",
       "      <td>male</td>\n",
       "      <td>80.0</td>\n",
       "      <td>posterior torso</td>\n",
       "      <td>1.0</td>\n",
       "    </tr>\n",
       "  </tbody>\n",
       "</table>\n",
       "</div>"
      ],
      "text/plain": [
       "         image_name     sex  age_approx anatom_site_general_challenge  target\n",
       "0  ISIC_0000000.jpg  female        55.0                anterior torso     0.0\n",
       "1  ISIC_0000001.jpg  female        30.0                anterior torso     0.0\n",
       "2  ISIC_0000002.jpg  female        60.0               upper extremity     1.0\n",
       "3  ISIC_0000003.jpg    male        30.0               upper extremity     0.0\n",
       "4  ISIC_0000004.jpg    male        80.0               posterior torso     1.0"
      ]
     },
     "execution_count": 3,
     "metadata": {},
     "output_type": "execute_result"
    }
   ],
   "source": [
    "train_df.head()"
   ]
  },
  {
   "cell_type": "code",
   "execution_count": 4,
   "id": "566f8885",
   "metadata": {
    "execution": {
     "iopub.execute_input": "2021-11-24T22:48:54.560792Z",
     "iopub.status.busy": "2021-11-24T22:48:54.560120Z",
     "iopub.status.idle": "2021-11-24T22:48:54.562762Z",
     "shell.execute_reply": "2021-11-24T22:48:54.563152Z",
     "shell.execute_reply.started": "2021-11-24T22:36:43.360154Z"
    },
    "papermill": {
     "duration": 0.025856,
     "end_time": "2021-11-24T22:48:54.563291",
     "exception": false,
     "start_time": "2021-11-24T22:48:54.537435",
     "status": "completed"
    },
    "tags": []
   },
   "outputs": [
    {
     "name": "stdout",
     "output_type": "stream",
     "text": [
      "Train shape: (22480, 5)\n"
     ]
    }
   ],
   "source": [
    "print(\"Train shape:\", train_df.shape)"
   ]
  },
  {
   "cell_type": "markdown",
   "id": "8f9b7aa2",
   "metadata": {
    "papermill": {
     "duration": 0.018327,
     "end_time": "2021-11-24T22:48:54.600509",
     "exception": false,
     "start_time": "2021-11-24T22:48:54.582182",
     "status": "completed"
    },
    "tags": []
   },
   "source": [
    "## <font color=red>2. </font>Dividir conjunto de datos"
   ]
  },
  {
   "cell_type": "code",
   "execution_count": 5,
   "id": "16d17c5b",
   "metadata": {
    "execution": {
     "iopub.execute_input": "2021-11-24T22:48:54.640960Z",
     "iopub.status.busy": "2021-11-24T22:48:54.640125Z",
     "iopub.status.idle": "2021-11-24T22:48:55.408920Z",
     "shell.execute_reply": "2021-11-24T22:48:55.408392Z",
     "shell.execute_reply.started": "2021-11-24T22:36:43.368413Z"
    },
    "papermill": {
     "duration": 0.790076,
     "end_time": "2021-11-24T22:48:55.409044",
     "exception": false,
     "start_time": "2021-11-24T22:48:54.618968",
     "status": "completed"
    },
    "tags": []
   },
   "outputs": [],
   "source": [
    "from collections import Counter\n",
    "from sklearn.model_selection import train_test_split\n",
    "\n",
    "X = train_df\n",
    "y = train_df['target']"
   ]
  },
  {
   "cell_type": "code",
   "execution_count": 6,
   "id": "6a2aad4a",
   "metadata": {
    "execution": {
     "iopub.execute_input": "2021-11-24T22:48:55.453749Z",
     "iopub.status.busy": "2021-11-24T22:48:55.453193Z",
     "iopub.status.idle": "2021-11-24T22:48:55.498821Z",
     "shell.execute_reply": "2021-11-24T22:48:55.498403Z",
     "shell.execute_reply.started": "2021-11-24T22:36:43.375627Z"
    },
    "papermill": {
     "duration": 0.070963,
     "end_time": "2021-11-24T22:48:55.498949",
     "exception": false,
     "start_time": "2021-11-24T22:48:55.427986",
     "status": "completed"
    },
    "tags": []
   },
   "outputs": [
    {
     "name": "stdout",
     "output_type": "stream",
     "text": [
      "Conjunto de train: (14387, 5)\n",
      "Conjunto de validacion: (3597, 5)\n",
      "Conjunto de prueba: (4496, 5)\n",
      "-----------------------\n",
      "Distribucion de train -> Counter({0.0: 11605, 1.0: 2782})\n",
      "Distribucion de validacion -> Counter({0.0: 2902, 1.0: 695})\n",
      "Distribucion de prueba -> Counter({0.0: 3627, 1.0: 869})\n"
     ]
    }
   ],
   "source": [
    "# Split into train, validation and test sets\n",
    "X_train, X_test, y_train, y_test = train_test_split(X, y, \n",
    "                                                    test_size=0.2, \n",
    "                                                    stratify=y,\n",
    "                                                    random_state=42)\n",
    "\n",
    "X_train, X_val, y_train, y_val = train_test_split(X_train, y_train, \n",
    "                                                  test_size=0.2,\n",
    "                                                  stratify=y_train,\n",
    "                                                  random_state=42)\n",
    "\n",
    "print(\"Conjunto de train:\", X_train.shape)\n",
    "print(\"Conjunto de validacion:\", X_val.shape)\n",
    "print(\"Conjunto de prueba:\", X_test.shape)\n",
    "print(\"-----------------------\")\n",
    "print('Distribucion de train ->', Counter(y_train))\n",
    "print('Distribucion de validacion ->', Counter(y_val))\n",
    "print(\"Distribucion de prueba ->\", Counter(y_test))"
   ]
  },
  {
   "cell_type": "code",
   "execution_count": 7,
   "id": "16a0811d",
   "metadata": {
    "collapsed": true,
    "execution": {
     "iopub.execute_input": "2021-11-24T22:48:55.558836Z",
     "iopub.status.busy": "2021-11-24T22:48:55.558028Z",
     "iopub.status.idle": "2021-11-24T22:48:55.560783Z",
     "shell.execute_reply": "2021-11-24T22:48:55.561171Z",
     "shell.execute_reply.started": "2021-11-24T22:36:43.428013Z"
    },
    "jupyter": {
     "outputs_hidden": true
    },
    "papermill": {
     "duration": 0.043163,
     "end_time": "2021-11-24T22:48:55.561336",
     "exception": false,
     "start_time": "2021-11-24T22:48:55.518173",
     "status": "completed"
    },
    "tags": []
   },
   "outputs": [
    {
     "name": "stderr",
     "output_type": "stream",
     "text": [
      "/opt/conda/lib/python3.7/site-packages/ipykernel_launcher.py:3: SettingWithCopyWarning: \n",
      "A value is trying to be set on a copy of a slice from a DataFrame.\n",
      "Try using .loc[row_indexer,col_indexer] = value instead\n",
      "\n",
      "See the caveats in the documentation: https://pandas.pydata.org/pandas-docs/stable/user_guide/indexing.html#returning-a-view-versus-a-copy\n",
      "  This is separate from the ipykernel package so we can avoid doing imports until\n"
     ]
    }
   ],
   "source": [
    "X_train[\"target\"] = X_train['target'].astype(str)\n",
    "X_val[\"target\"] = X_val['target'].astype(str)\n",
    "X_test[\"target\"] = X_test['target'].astype(str)"
   ]
  },
  {
   "cell_type": "markdown",
   "id": "4d4fd18a",
   "metadata": {
    "papermill": {
     "duration": 0.019878,
     "end_time": "2021-11-24T22:48:55.601485",
     "exception": false,
     "start_time": "2021-11-24T22:48:55.581607",
     "status": "completed"
    },
    "tags": []
   },
   "source": [
    "## <font color=red>3. </font>Crear y entrenar el modelo"
   ]
  },
  {
   "cell_type": "code",
   "execution_count": 8,
   "id": "8000b7d6",
   "metadata": {
    "execution": {
     "iopub.execute_input": "2021-11-24T22:48:55.646663Z",
     "iopub.status.busy": "2021-11-24T22:48:55.642692Z",
     "iopub.status.idle": "2021-11-24T22:48:59.594964Z",
     "shell.execute_reply": "2021-11-24T22:48:59.593898Z",
     "shell.execute_reply.started": "2021-11-24T22:43:23.687130Z"
    },
    "papermill": {
     "duration": 3.973969,
     "end_time": "2021-11-24T22:48:59.595090",
     "exception": false,
     "start_time": "2021-11-24T22:48:55.621121",
     "status": "completed"
    },
    "tags": []
   },
   "outputs": [
    {
     "name": "stderr",
     "output_type": "stream",
     "text": [
      "2021-11-24 22:48:56.114776: I tensorflow/stream_executor/platform/default/dso_loader.cc:49] Successfully opened dynamic library libcudart.so.11.0\n"
     ]
    }
   ],
   "source": [
    "import tensorflow as tf\n",
    "from tensorflow.keras.layers.experimental import preprocessing\n",
    "from tensorflow.keras.preprocessing.image import ImageDataGenerator\n",
    "from tensorflow.keras.applications import DenseNet121 # input size 224x224\n",
    "from tensorflow.keras.layers import Input, Dense, GlobalAveragePooling2D\n",
    "from tensorflow.keras.metrics import TruePositives, FalsePositives, TrueNegatives, FalseNegatives, AUC\n",
    "from tensorflow.keras.optimizers import Adam\n",
    "from tensorflow.keras.losses import BinaryCrossentropy\n",
    "from tensorflow.keras.callbacks import ModelCheckpoint\n",
    "from tensorflow.keras.models import Model"
   ]
  },
  {
   "cell_type": "code",
   "execution_count": 9,
   "id": "9d430e00",
   "metadata": {
    "execution": {
     "iopub.execute_input": "2021-11-24T22:48:59.645760Z",
     "iopub.status.busy": "2021-11-24T22:48:59.644931Z",
     "iopub.status.idle": "2021-11-24T22:49:06.471689Z",
     "shell.execute_reply": "2021-11-24T22:49:06.472066Z",
     "shell.execute_reply.started": "2021-11-24T22:43:24.537583Z"
    },
    "papermill": {
     "duration": 6.855516,
     "end_time": "2021-11-24T22:49:06.472238",
     "exception": false,
     "start_time": "2021-11-24T22:48:59.616722",
     "status": "completed"
    },
    "tags": []
   },
   "outputs": [
    {
     "name": "stdout",
     "output_type": "stream",
     "text": [
      "Found 14387 validated image filenames belonging to 2 classes.\n",
      "Found 3597 validated image filenames belonging to 2 classes.\n",
      "Found 4496 validated image filenames belonging to 2 classes.\n"
     ]
    }
   ],
   "source": [
    "datagen = ImageDataGenerator(rescale=1./255.)\n",
    "\n",
    "train_generator = datagen.flow_from_dataframe(\n",
    "    dataframe=X_train,\n",
    "    directory=dir_2019_images,\n",
    "    x_col=\"image_name\",\n",
    "    y_col=\"target\",\n",
    "    batch_size=32,\n",
    "    seed=42,\n",
    "    shuffle=True,\n",
    "    class_mode=\"binary\"\n",
    ")\n",
    "\n",
    "valid_generator = datagen.flow_from_dataframe(\n",
    "    dataframe=X_val,\n",
    "    directory=dir_2019_images,\n",
    "    x_col=\"image_name\",\n",
    "    y_col=\"target\",\n",
    "    batch_size=32,\n",
    "    seed=42,\n",
    "    shuffle=True,\n",
    "    class_mode=\"binary\"\n",
    ")\n",
    "\n",
    "test_generator = datagen.flow_from_dataframe(\n",
    "    dataframe=X_test,\n",
    "    directory=dir_2019_images,\n",
    "    x_col=\"image_name\",\n",
    "    y_col=\"target\",\n",
    "    batch_size=32,\n",
    "    seed=42,\n",
    "    shuffle=False,\n",
    "    class_mode=\"binary\"\n",
    ")\n",
    "\n",
    "STEP_SIZE_TRAIN = train_generator.n//train_generator.batch_size\n",
    "STEP_SIZE_VALID = valid_generator.n//valid_generator.batch_size\n",
    "STEP_SIZE_TEST = test_generator.n//test_generator.batch_size"
   ]
  },
  {
   "cell_type": "code",
   "execution_count": 10,
   "id": "507f9f63",
   "metadata": {
    "execution": {
     "iopub.execute_input": "2021-11-24T22:49:06.521453Z",
     "iopub.status.busy": "2021-11-24T22:49:06.516370Z",
     "iopub.status.idle": "2021-11-24T22:49:11.676610Z",
     "shell.execute_reply": "2021-11-24T22:49:11.676070Z",
     "shell.execute_reply.started": "2021-11-24T22:43:31.899931Z"
    },
    "papermill": {
     "duration": 5.183712,
     "end_time": "2021-11-24T22:49:11.676753",
     "exception": false,
     "start_time": "2021-11-24T22:49:06.493041",
     "status": "completed"
    },
    "tags": []
   },
   "outputs": [
    {
     "name": "stderr",
     "output_type": "stream",
     "text": [
      "2021-11-24 22:49:06.552806: I tensorflow/compiler/jit/xla_cpu_device.cc:41] Not creating XLA devices, tf_xla_enable_xla_devices not set\n",
      "2021-11-24 22:49:06.555833: I tensorflow/stream_executor/platform/default/dso_loader.cc:49] Successfully opened dynamic library libcuda.so.1\n",
      "2021-11-24 22:49:06.603989: I tensorflow/stream_executor/cuda/cuda_gpu_executor.cc:941] successful NUMA node read from SysFS had negative value (-1), but there must be at least one NUMA node, so returning NUMA node zero\n",
      "2021-11-24 22:49:06.604621: I tensorflow/core/common_runtime/gpu/gpu_device.cc:1720] Found device 0 with properties: \n",
      "pciBusID: 0000:00:04.0 name: Tesla P100-PCIE-16GB computeCapability: 6.0\n",
      "coreClock: 1.3285GHz coreCount: 56 deviceMemorySize: 15.90GiB deviceMemoryBandwidth: 681.88GiB/s\n",
      "2021-11-24 22:49:06.604690: I tensorflow/stream_executor/platform/default/dso_loader.cc:49] Successfully opened dynamic library libcudart.so.11.0\n",
      "2021-11-24 22:49:06.654710: I tensorflow/stream_executor/platform/default/dso_loader.cc:49] Successfully opened dynamic library libcublas.so.11\n",
      "2021-11-24 22:49:06.654845: I tensorflow/stream_executor/platform/default/dso_loader.cc:49] Successfully opened dynamic library libcublasLt.so.11\n",
      "2021-11-24 22:49:06.672632: I tensorflow/stream_executor/platform/default/dso_loader.cc:49] Successfully opened dynamic library libcufft.so.10\n",
      "2021-11-24 22:49:06.720474: I tensorflow/stream_executor/platform/default/dso_loader.cc:49] Successfully opened dynamic library libcurand.so.10\n",
      "2021-11-24 22:49:06.767556: I tensorflow/stream_executor/platform/default/dso_loader.cc:49] Successfully opened dynamic library libcusolver.so.10\n",
      "2021-11-24 22:49:06.776634: I tensorflow/stream_executor/platform/default/dso_loader.cc:49] Successfully opened dynamic library libcusparse.so.11\n",
      "2021-11-24 22:49:06.779998: I tensorflow/stream_executor/platform/default/dso_loader.cc:49] Successfully opened dynamic library libcudnn.so.8\n",
      "2021-11-24 22:49:06.780197: I tensorflow/stream_executor/cuda/cuda_gpu_executor.cc:941] successful NUMA node read from SysFS had negative value (-1), but there must be at least one NUMA node, so returning NUMA node zero\n",
      "2021-11-24 22:49:06.780928: I tensorflow/stream_executor/cuda/cuda_gpu_executor.cc:941] successful NUMA node read from SysFS had negative value (-1), but there must be at least one NUMA node, so returning NUMA node zero\n",
      "2021-11-24 22:49:06.782595: I tensorflow/core/common_runtime/gpu/gpu_device.cc:1862] Adding visible gpu devices: 0\n",
      "2021-11-24 22:49:06.783131: I tensorflow/core/platform/cpu_feature_guard.cc:142] This TensorFlow binary is optimized with oneAPI Deep Neural Network Library (oneDNN) to use the following CPU instructions in performance-critical operations:  AVX2 AVX512F FMA\n",
      "To enable them in other operations, rebuild TensorFlow with the appropriate compiler flags.\n",
      "2021-11-24 22:49:06.783413: I tensorflow/compiler/jit/xla_gpu_device.cc:99] Not creating XLA devices, tf_xla_enable_xla_devices not set\n",
      "2021-11-24 22:49:06.783594: I tensorflow/stream_executor/cuda/cuda_gpu_executor.cc:941] successful NUMA node read from SysFS had negative value (-1), but there must be at least one NUMA node, so returning NUMA node zero\n",
      "2021-11-24 22:49:06.784216: I tensorflow/core/common_runtime/gpu/gpu_device.cc:1720] Found device 0 with properties: \n",
      "pciBusID: 0000:00:04.0 name: Tesla P100-PCIE-16GB computeCapability: 6.0\n",
      "coreClock: 1.3285GHz coreCount: 56 deviceMemorySize: 15.90GiB deviceMemoryBandwidth: 681.88GiB/s\n",
      "2021-11-24 22:49:06.784313: I tensorflow/stream_executor/platform/default/dso_loader.cc:49] Successfully opened dynamic library libcudart.so.11.0\n",
      "2021-11-24 22:49:06.784348: I tensorflow/stream_executor/platform/default/dso_loader.cc:49] Successfully opened dynamic library libcublas.so.11\n",
      "2021-11-24 22:49:06.784367: I tensorflow/stream_executor/platform/default/dso_loader.cc:49] Successfully opened dynamic library libcublasLt.so.11\n",
      "2021-11-24 22:49:06.784385: I tensorflow/stream_executor/platform/default/dso_loader.cc:49] Successfully opened dynamic library libcufft.so.10\n",
      "2021-11-24 22:49:06.784403: I tensorflow/stream_executor/platform/default/dso_loader.cc:49] Successfully opened dynamic library libcurand.so.10\n",
      "2021-11-24 22:49:06.784420: I tensorflow/stream_executor/platform/default/dso_loader.cc:49] Successfully opened dynamic library libcusolver.so.10\n",
      "2021-11-24 22:49:06.784439: I tensorflow/stream_executor/platform/default/dso_loader.cc:49] Successfully opened dynamic library libcusparse.so.11\n",
      "2021-11-24 22:49:06.784457: I tensorflow/stream_executor/platform/default/dso_loader.cc:49] Successfully opened dynamic library libcudnn.so.8\n",
      "2021-11-24 22:49:06.784556: I tensorflow/stream_executor/cuda/cuda_gpu_executor.cc:941] successful NUMA node read from SysFS had negative value (-1), but there must be at least one NUMA node, so returning NUMA node zero\n",
      "2021-11-24 22:49:06.785159: I tensorflow/stream_executor/cuda/cuda_gpu_executor.cc:941] successful NUMA node read from SysFS had negative value (-1), but there must be at least one NUMA node, so returning NUMA node zero\n",
      "2021-11-24 22:49:06.785716: I tensorflow/core/common_runtime/gpu/gpu_device.cc:1862] Adding visible gpu devices: 0\n",
      "2021-11-24 22:49:06.786832: I tensorflow/stream_executor/platform/default/dso_loader.cc:49] Successfully opened dynamic library libcudart.so.11.0\n",
      "2021-11-24 22:49:08.213926: I tensorflow/core/common_runtime/gpu/gpu_device.cc:1261] Device interconnect StreamExecutor with strength 1 edge matrix:\n",
      "2021-11-24 22:49:08.213973: I tensorflow/core/common_runtime/gpu/gpu_device.cc:1267]      0 \n",
      "2021-11-24 22:49:08.213983: I tensorflow/core/common_runtime/gpu/gpu_device.cc:1280] 0:   N \n",
      "2021-11-24 22:49:08.216283: I tensorflow/stream_executor/cuda/cuda_gpu_executor.cc:941] successful NUMA node read from SysFS had negative value (-1), but there must be at least one NUMA node, so returning NUMA node zero\n",
      "2021-11-24 22:49:08.216969: I tensorflow/stream_executor/cuda/cuda_gpu_executor.cc:941] successful NUMA node read from SysFS had negative value (-1), but there must be at least one NUMA node, so returning NUMA node zero\n",
      "2021-11-24 22:49:08.217658: I tensorflow/stream_executor/cuda/cuda_gpu_executor.cc:941] successful NUMA node read from SysFS had negative value (-1), but there must be at least one NUMA node, so returning NUMA node zero\n",
      "2021-11-24 22:49:08.218229: I tensorflow/core/common_runtime/gpu/gpu_device.cc:1406] Created TensorFlow device (/job:localhost/replica:0/task:0/device:GPU:0 with 14957 MB memory) -> physical GPU (device: 0, name: Tesla P100-PCIE-16GB, pci bus id: 0000:00:04.0, compute capability: 6.0)\n"
     ]
    },
    {
     "name": "stdout",
     "output_type": "stream",
     "text": [
      "Downloading data from https://storage.googleapis.com/tensorflow/keras-applications/densenet/densenet121_weights_tf_dim_ordering_tf_kernels_notop.h5\n",
      "29089792/29084464 [==============================] - 0s 0us/step\n"
     ]
    }
   ],
   "source": [
    "encoder = DenseNet121(input_shape=(None,None,3), \n",
    "                      include_top=False, \n",
    "                      weights='imagenet')"
   ]
  },
  {
   "cell_type": "code",
   "execution_count": 11,
   "id": "ce6753ae",
   "metadata": {
    "execution": {
     "iopub.execute_input": "2021-11-24T22:49:11.731242Z",
     "iopub.status.busy": "2021-11-24T22:49:11.730422Z",
     "iopub.status.idle": "2021-11-24T22:49:12.456446Z",
     "shell.execute_reply": "2021-11-24T22:49:12.455951Z",
     "shell.execute_reply.started": "2021-11-24T22:43:34.282022Z"
    },
    "papermill": {
     "duration": 0.757044,
     "end_time": "2021-11-24T22:49:12.456583",
     "exception": false,
     "start_time": "2021-11-24T22:49:11.699539",
     "status": "completed"
    },
    "tags": []
   },
   "outputs": [],
   "source": [
    "# for layer in encoder.layers:\n",
    "#    layer.trainable = False\n",
    "\n",
    "inputs = Input(shape=(None, None, 3))\n",
    "x = encoder(inputs, training=False)\n",
    "x = GlobalAveragePooling2D()(x)\n",
    "predictions = Dense(1, activation='sigmoid')(x)\n",
    "model = Model(inputs=inputs, outputs=predictions)"
   ]
  },
  {
   "cell_type": "code",
   "execution_count": 12,
   "id": "1d581484",
   "metadata": {
    "execution": {
     "iopub.execute_input": "2021-11-24T22:49:12.536182Z",
     "iopub.status.busy": "2021-11-24T22:49:12.535488Z",
     "iopub.status.idle": "2021-11-24T22:49:12.538650Z",
     "shell.execute_reply": "2021-11-24T22:49:12.539090Z",
     "shell.execute_reply.started": "2021-11-24T22:43:35.317581Z"
    },
    "papermill": {
     "duration": 0.059602,
     "end_time": "2021-11-24T22:49:12.539244",
     "exception": false,
     "start_time": "2021-11-24T22:49:12.479642",
     "status": "completed"
    },
    "tags": []
   },
   "outputs": [
    {
     "name": "stdout",
     "output_type": "stream",
     "text": [
      "Model: \"model\"\n",
      "_________________________________________________________________\n",
      "Layer (type)                 Output Shape              Param #   \n",
      "=================================================================\n",
      "input_2 (InputLayer)         [(None, None, None, 3)]   0         \n",
      "_________________________________________________________________\n",
      "densenet121 (Functional)     (None, None, None, 1024)  7037504   \n",
      "_________________________________________________________________\n",
      "global_average_pooling2d (Gl (None, 1024)              0         \n",
      "_________________________________________________________________\n",
      "dense (Dense)                (None, 1)                 1025      \n",
      "=================================================================\n",
      "Total params: 7,038,529\n",
      "Trainable params: 6,954,881\n",
      "Non-trainable params: 83,648\n",
      "_________________________________________________________________\n"
     ]
    }
   ],
   "source": [
    "model.summary()"
   ]
  },
  {
   "cell_type": "code",
   "execution_count": 13,
   "id": "b63ab0f8",
   "metadata": {
    "execution": {
     "iopub.execute_input": "2021-11-24T22:49:12.594655Z",
     "iopub.status.busy": "2021-11-24T22:49:12.593906Z",
     "iopub.status.idle": "2021-11-24T22:49:12.612361Z",
     "shell.execute_reply": "2021-11-24T22:49:12.611894Z",
     "shell.execute_reply.started": "2021-11-24T22:43:35.351844Z"
    },
    "papermill": {
     "duration": 0.050286,
     "end_time": "2021-11-24T22:49:12.612478",
     "exception": false,
     "start_time": "2021-11-24T22:49:12.562192",
     "status": "completed"
    },
    "tags": []
   },
   "outputs": [],
   "source": [
    "METRICS = [\n",
    "      TruePositives(name='tp'),\n",
    "      FalsePositives(name='fp'),\n",
    "      TrueNegatives(name='tn'),\n",
    "      FalseNegatives(name='fn'),\n",
    "      AUC(name='auc')\n",
    "]"
   ]
  },
  {
   "cell_type": "code",
   "execution_count": 14,
   "id": "35f0f577",
   "metadata": {
    "execution": {
     "iopub.execute_input": "2021-11-24T22:49:12.663319Z",
     "iopub.status.busy": "2021-11-24T22:49:12.662542Z",
     "iopub.status.idle": "2021-11-24T22:49:12.665257Z",
     "shell.execute_reply": "2021-11-24T22:49:12.664824Z",
     "shell.execute_reply.started": "2021-11-24T22:43:35.376284Z"
    },
    "papermill": {
     "duration": 0.029852,
     "end_time": "2021-11-24T22:49:12.665404",
     "exception": false,
     "start_time": "2021-11-24T22:49:12.635552",
     "status": "completed"
    },
    "tags": []
   },
   "outputs": [],
   "source": [
    "checkpoint_filepath = '/kaggle/working/base_model.h5'\n",
    "model_checkpoint_callback = ModelCheckpoint(filepath=checkpoint_filepath,\n",
    "                                            monitor='val_auc',\n",
    "                                            mode='max',\n",
    "                                            verbose=1,\n",
    "                                            save_best_only=True)"
   ]
  },
  {
   "cell_type": "code",
   "execution_count": 15,
   "id": "729e0dba",
   "metadata": {
    "execution": {
     "iopub.execute_input": "2021-11-24T22:49:12.729730Z",
     "iopub.status.busy": "2021-11-24T22:49:12.728912Z",
     "iopub.status.idle": "2021-11-24T22:49:12.737855Z",
     "shell.execute_reply": "2021-11-24T22:49:12.737434Z",
     "shell.execute_reply.started": "2021-11-24T22:43:35.384226Z"
    },
    "papermill": {
     "duration": 0.05004,
     "end_time": "2021-11-24T22:49:12.737972",
     "exception": false,
     "start_time": "2021-11-24T22:49:12.687932",
     "status": "completed"
    },
    "tags": []
   },
   "outputs": [],
   "source": [
    "model.compile(\n",
    "    optimizer=Adam(),\n",
    "    loss=BinaryCrossentropy(),\n",
    "    metrics=METRICS\n",
    ")"
   ]
  },
  {
   "cell_type": "code",
   "execution_count": 16,
   "id": "d9222588",
   "metadata": {
    "execution": {
     "iopub.execute_input": "2021-11-24T22:49:12.790853Z",
     "iopub.status.busy": "2021-11-24T22:49:12.790225Z",
     "iopub.status.idle": "2021-11-25T02:38:48.380854Z",
     "shell.execute_reply": "2021-11-25T02:38:48.381256Z",
     "shell.execute_reply.started": "2021-11-24T22:46:13.651926Z"
    },
    "papermill": {
     "duration": 13775.620307,
     "end_time": "2021-11-25T02:38:48.381507",
     "exception": false,
     "start_time": "2021-11-24T22:49:12.761200",
     "status": "completed"
    },
    "tags": []
   },
   "outputs": [
    {
     "name": "stderr",
     "output_type": "stream",
     "text": [
      "2021-11-24 22:49:13.020052: I tensorflow/compiler/mlir/mlir_graph_optimization_pass.cc:116] None of the MLIR optimization passes are enabled (registered 2)\n",
      "2021-11-24 22:49:13.024313: I tensorflow/core/platform/profile_utils/cpu_utils.cc:112] CPU Frequency: 2000179999 Hz\n"
     ]
    },
    {
     "name": "stdout",
     "output_type": "stream",
     "text": [
      "Epoch 1/100\n"
     ]
    },
    {
     "name": "stderr",
     "output_type": "stream",
     "text": [
      "2021-11-24 22:49:24.185324: I tensorflow/stream_executor/platform/default/dso_loader.cc:49] Successfully opened dynamic library libcublas.so.11\n",
      "2021-11-24 22:49:25.031991: I tensorflow/stream_executor/platform/default/dso_loader.cc:49] Successfully opened dynamic library libcublasLt.so.11\n",
      "2021-11-24 22:49:25.098184: I tensorflow/stream_executor/platform/default/dso_loader.cc:49] Successfully opened dynamic library libcudnn.so.8\n"
     ]
    },
    {
     "name": "stdout",
     "output_type": "stream",
     "text": [
      "449/449 [==============================] - 163s 321ms/step - loss: 0.9029 - tp: 11.0378 - fp: 46.8267 - tn: 5741.2756 - fn: 1411.4156 - auc: 0.5146 - val_loss: 0.4974 - val_tp: 0.0000e+00 - val_fp: 0.0000e+00 - val_tn: 2890.0000 - val_fn: 694.0000 - val_auc: 0.6566\n",
      "\n",
      "Epoch 00001: val_auc improved from -inf to 0.65657, saving model to /kaggle/working/base_model.h5\n",
      "Epoch 2/100\n",
      "449/449 [==============================] - 136s 303ms/step - loss: 0.4687 - tp: 6.9600 - fp: 12.8756 - tn: 5815.7111 - fn: 1376.1356 - auc: 0.6516 - val_loss: 0.4476 - val_tp: 0.0000e+00 - val_fp: 0.0000e+00 - val_tn: 2891.0000 - val_fn: 693.0000 - val_auc: 0.7261\n",
      "\n",
      "Epoch 00002: val_auc improved from 0.65657 to 0.72613, saving model to /kaggle/working/base_model.h5\n",
      "Epoch 3/100\n",
      "449/449 [==============================] - 135s 301ms/step - loss: 0.4335 - tp: 82.0333 - fp: 56.7578 - tn: 5768.0822 - fn: 1299.8111 - auc: 0.7285 - val_loss: 0.4243 - val_tp: 1.0000 - val_fp: 0.0000e+00 - val_tn: 2891.0000 - val_fn: 692.0000 - val_auc: 0.7564\n",
      "\n",
      "Epoch 00003: val_auc improved from 0.72613 to 0.75639, saving model to /kaggle/working/base_model.h5\n",
      "Epoch 4/100\n",
      "449/449 [==============================] - 134s 299ms/step - loss: 0.4311 - tp: 146.6667 - fp: 107.1333 - tn: 5679.3933 - fn: 1274.9933 - auc: 0.7502 - val_loss: 0.4431 - val_tp: 3.0000 - val_fp: 0.0000e+00 - val_tn: 2890.0000 - val_fn: 691.0000 - val_auc: 0.7743\n",
      "\n",
      "Epoch 00004: val_auc improved from 0.75639 to 0.77433, saving model to /kaggle/working/base_model.h5\n",
      "Epoch 5/100\n",
      "449/449 [==============================] - 135s 300ms/step - loss: 0.4184 - tp: 168.0711 - fp: 88.1444 - tn: 5743.1067 - fn: 1209.0089 - auc: 0.7531 - val_loss: 0.4491 - val_tp: 44.0000 - val_fp: 1.0000 - val_tn: 2889.0000 - val_fn: 650.0000 - val_auc: 0.7735\n",
      "\n",
      "Epoch 00005: val_auc did not improve from 0.77433\n",
      "Epoch 6/100\n",
      "449/449 [==============================] - 135s 300ms/step - loss: 0.4160 - tp: 265.2978 - fp: 126.2644 - tn: 5698.6911 - fn: 1115.3622 - auc: 0.7548 - val_loss: 0.4347 - val_tp: 189.0000 - val_fp: 94.0000 - val_tn: 2798.0000 - val_fn: 503.0000 - val_auc: 0.7865\n",
      "\n",
      "Epoch 00006: val_auc improved from 0.77433 to 0.78650, saving model to /kaggle/working/base_model.h5\n",
      "Epoch 7/100\n",
      "449/449 [==============================] - 137s 305ms/step - loss: 0.4196 - tp: 303.8244 - fp: 178.7933 - tn: 5623.6244 - fn: 1109.3400 - auc: 0.7665 - val_loss: 0.4221 - val_tp: 79.0000 - val_fp: 15.0000 - val_tn: 2875.0000 - val_fn: 615.0000 - val_auc: 0.7851\n",
      "\n",
      "Epoch 00007: val_auc did not improve from 0.78650\n",
      "Epoch 8/100\n",
      "449/449 [==============================] - 137s 305ms/step - loss: 0.3928 - tp: 289.2844 - fp: 162.0756 - tn: 5708.6711 - fn: 1055.2622 - auc: 0.7803 - val_loss: 0.3891 - val_tp: 169.0000 - val_fp: 60.0000 - val_tn: 2835.0000 - val_fn: 520.0000 - val_auc: 0.7977\n",
      "\n",
      "Epoch 00008: val_auc improved from 0.78650 to 0.79772, saving model to /kaggle/working/base_model.h5\n",
      "Epoch 9/100\n",
      "449/449 [==============================] - 137s 304ms/step - loss: 0.3983 - tp: 344.7200 - fp: 186.0756 - tn: 5644.0444 - fn: 1040.5400 - auc: 0.7810 - val_loss: 0.3917 - val_tp: 282.0000 - val_fp: 186.0000 - val_tn: 2706.0000 - val_fn: 410.0000 - val_auc: 0.8117\n",
      "\n",
      "Epoch 00009: val_auc improved from 0.79772 to 0.81166, saving model to /kaggle/working/base_model.h5\n",
      "Epoch 10/100\n",
      "449/449 [==============================] - 139s 310ms/step - loss: 0.3884 - tp: 377.0022 - fp: 194.7600 - tn: 5630.0511 - fn: 1013.5667 - auc: 0.8002 - val_loss: 0.3821 - val_tp: 169.0000 - val_fp: 60.0000 - val_tn: 2831.0000 - val_fn: 524.0000 - val_auc: 0.8055\n",
      "\n",
      "Epoch 00010: val_auc did not improve from 0.81166\n",
      "Epoch 11/100\n",
      "449/449 [==============================] - 136s 303ms/step - loss: 0.4014 - tp: 359.9978 - fp: 190.9044 - tn: 5607.6644 - fn: 1054.5600 - auc: 0.7870 - val_loss: 0.4025 - val_tp: 133.0000 - val_fp: 29.0000 - val_tn: 2862.0000 - val_fn: 560.0000 - val_auc: 0.7979\n",
      "\n",
      "Epoch 00011: val_auc did not improve from 0.81166\n",
      "Epoch 12/100\n",
      "449/449 [==============================] - 136s 303ms/step - loss: 0.3806 - tp: 389.2733 - fp: 208.3911 - tn: 5619.6067 - fn: 987.7956 - auc: 0.8059 - val_loss: 0.3803 - val_tp: 173.0000 - val_fp: 63.0000 - val_tn: 2830.0000 - val_fn: 518.0000 - val_auc: 0.8119\n",
      "\n",
      "Epoch 00012: val_auc improved from 0.81166 to 0.81187, saving model to /kaggle/working/base_model.h5\n",
      "Epoch 13/100\n",
      "449/449 [==============================] - 136s 302ms/step - loss: 0.3804 - tp: 408.5467 - fp: 192.8356 - tn: 5637.0956 - fn: 974.0711 - auc: 0.8089 - val_loss: 0.3950 - val_tp: 318.0000 - val_fp: 212.0000 - val_tn: 2681.0000 - val_fn: 373.0000 - val_auc: 0.8105\n",
      "\n",
      "Epoch 00013: val_auc did not improve from 0.81187\n",
      "Epoch 14/100\n",
      "449/449 [==============================] - 136s 303ms/step - loss: 0.4197 - tp: 296.0733 - fp: 186.7067 - tn: 5648.4444 - fn: 1080.6311 - auc: 0.7714 - val_loss: 0.4141 - val_tp: 243.0000 - val_fp: 159.0000 - val_tn: 2737.0000 - val_fn: 445.0000 - val_auc: 0.7631\n",
      "\n",
      "Epoch 00014: val_auc did not improve from 0.81187\n",
      "Epoch 15/100\n",
      "449/449 [==============================] - 137s 305ms/step - loss: 0.4133 - tp: 324.7289 - fp: 177.3022 - tn: 5641.8933 - fn: 1068.1044 - auc: 0.7620 - val_loss: 0.4094 - val_tp: 89.0000 - val_fp: 15.0000 - val_tn: 2876.0000 - val_fn: 604.0000 - val_auc: 0.7809\n",
      "\n",
      "Epoch 00015: val_auc did not improve from 0.81187\n",
      "Epoch 16/100\n",
      "449/449 [==============================] - 137s 305ms/step - loss: 0.4094 - tp: 349.5689 - fp: 181.1289 - tn: 5631.7067 - fn: 1048.3822 - auc: 0.7649 - val_loss: 0.4100 - val_tp: 324.0000 - val_fp: 245.0000 - val_tn: 2647.0000 - val_fn: 368.0000 - val_auc: 0.7990\n",
      "\n",
      "Epoch 00016: val_auc did not improve from 0.81187\n",
      "Epoch 17/100\n",
      "449/449 [==============================] - 137s 306ms/step - loss: 0.3898 - tp: 403.0378 - fp: 188.8667 - tn: 5640.8489 - fn: 980.8356 - auc: 0.7941 - val_loss: 0.4177 - val_tp: 107.0000 - val_fp: 28.0000 - val_tn: 2863.0000 - val_fn: 586.0000 - val_auc: 0.7827\n",
      "\n",
      "Epoch 00017: val_auc did not improve from 0.81187\n",
      "Epoch 18/100\n",
      "449/449 [==============================] - 137s 304ms/step - loss: 0.3885 - tp: 398.1178 - fp: 189.4356 - tn: 5630.4222 - fn: 990.7889 - auc: 0.7983 - val_loss: 0.3815 - val_tp: 180.0000 - val_fp: 59.0000 - val_tn: 2833.0000 - val_fn: 512.0000 - val_auc: 0.8102\n",
      "\n",
      "Epoch 00018: val_auc did not improve from 0.81187\n",
      "Epoch 19/100\n",
      "449/449 [==============================] - 137s 304ms/step - loss: 0.3834 - tp: 465.6956 - fp: 193.9978 - tn: 5620.9733 - fn: 932.6044 - auc: 0.8114 - val_loss: 0.3963 - val_tp: 268.0000 - val_fp: 185.0000 - val_tn: 2709.0000 - val_fn: 422.0000 - val_auc: 0.8014\n",
      "\n",
      "Epoch 00019: val_auc did not improve from 0.81187\n",
      "Epoch 20/100\n",
      "449/449 [==============================] - 137s 305ms/step - loss: 0.3855 - tp: 429.8756 - fp: 189.0156 - tn: 5624.9622 - fn: 964.8244 - auc: 0.8066 - val_loss: 0.4021 - val_tp: 97.0000 - val_fp: 15.0000 - val_tn: 2878.0000 - val_fn: 594.0000 - val_auc: 0.7976\n",
      "\n",
      "Epoch 00020: val_auc did not improve from 0.81187\n",
      "Epoch 21/100\n",
      "449/449 [==============================] - 142s 317ms/step - loss: 0.3747 - tp: 428.1867 - fp: 206.4133 - tn: 5612.2222 - fn: 958.5622 - auc: 0.8185 - val_loss: 0.3764 - val_tp: 241.0000 - val_fp: 113.0000 - val_tn: 2778.0000 - val_fn: 452.0000 - val_auc: 0.8201\n",
      "\n",
      "Epoch 00021: val_auc improved from 0.81187 to 0.82008, saving model to /kaggle/working/base_model.h5\n",
      "Epoch 22/100\n",
      "449/449 [==============================] - 137s 305ms/step - loss: 0.3743 - tp: 470.5778 - fp: 215.9756 - tn: 5597.4489 - fn: 927.2178 - auc: 0.8169 - val_loss: 0.3846 - val_tp: 136.0000 - val_fp: 29.0000 - val_tn: 2863.0000 - val_fn: 556.0000 - val_auc: 0.8221\n",
      "\n",
      "Epoch 00022: val_auc improved from 0.82008 to 0.82209, saving model to /kaggle/working/base_model.h5\n",
      "Epoch 23/100\n",
      "449/449 [==============================] - 137s 305ms/step - loss: 0.3807 - tp: 439.5267 - fp: 195.2444 - tn: 5610.6444 - fn: 957.9756 - auc: 0.8088 - val_loss: 0.3746 - val_tp: 211.0000 - val_fp: 77.0000 - val_tn: 2813.0000 - val_fn: 483.0000 - val_auc: 0.8179\n",
      "\n",
      "Epoch 00023: val_auc did not improve from 0.82209\n",
      "Epoch 24/100\n",
      "449/449 [==============================] - 137s 306ms/step - loss: 0.3632 - tp: 484.5156 - fp: 194.9689 - tn: 5633.6400 - fn: 898.1822 - auc: 0.8280 - val_loss: 0.3737 - val_tp: 257.0000 - val_fp: 120.0000 - val_tn: 2771.0000 - val_fn: 436.0000 - val_auc: 0.8182\n",
      "\n",
      "Epoch 00024: val_auc did not improve from 0.82209\n",
      "Epoch 25/100\n",
      "449/449 [==============================] - 138s 306ms/step - loss: 0.3745 - tp: 453.7089 - fp: 202.7533 - tn: 5625.5244 - fn: 932.7000 - auc: 0.8179 - val_loss: 0.3953 - val_tp: 339.0000 - val_fp: 247.0000 - val_tn: 2645.0000 - val_fn: 353.0000 - val_auc: 0.8225\n",
      "\n",
      "Epoch 00025: val_auc improved from 0.82209 to 0.82252, saving model to /kaggle/working/base_model.h5\n",
      "Epoch 26/100\n",
      "449/449 [==============================] - 138s 307ms/step - loss: 0.3650 - tp: 491.7978 - fp: 211.8133 - tn: 5603.3333 - fn: 897.5733 - auc: 0.8269 - val_loss: 0.3758 - val_tp: 162.0000 - val_fp: 46.0000 - val_tn: 2848.0000 - val_fn: 528.0000 - val_auc: 0.8216\n",
      "\n",
      "Epoch 00026: val_auc did not improve from 0.82252\n",
      "Epoch 27/100\n",
      "449/449 [==============================] - 137s 305ms/step - loss: 0.3653 - tp: 485.5222 - fp: 208.5578 - tn: 5607.3000 - fn: 909.0022 - auc: 0.8279 - val_loss: 0.3980 - val_tp: 357.0000 - val_fp: 267.0000 - val_tn: 2623.0000 - val_fn: 337.0000 - val_auc: 0.8211\n",
      "\n",
      "Epoch 00027: val_auc did not improve from 0.82252\n",
      "Epoch 28/100\n",
      "449/449 [==============================] - 137s 305ms/step - loss: 0.3616 - tp: 508.2244 - fp: 208.3267 - tn: 5600.6444 - fn: 895.9022 - auc: 0.8338 - val_loss: 0.3937 - val_tp: 270.0000 - val_fp: 171.0000 - val_tn: 2721.0000 - val_fn: 422.0000 - val_auc: 0.7993\n",
      "\n",
      "Epoch 00028: val_auc did not improve from 0.82252\n",
      "Epoch 29/100\n",
      "449/449 [==============================] - 137s 304ms/step - loss: 0.3914 - tp: 441.0000 - fp: 210.2600 - tn: 5614.8422 - fn: 937.7222 - auc: 0.8058 - val_loss: 0.4014 - val_tp: 159.0000 - val_fp: 67.0000 - val_tn: 2824.0000 - val_fn: 534.0000 - val_auc: 0.7827\n",
      "\n",
      "Epoch 00029: val_auc did not improve from 0.82252\n",
      "Epoch 30/100\n",
      "449/449 [==============================] - 138s 307ms/step - loss: 0.3997 - tp: 396.1022 - fp: 200.2311 - tn: 5586.5244 - fn: 1029.9511 - auc: 0.7866 - val_loss: 0.3692 - val_tp: 271.0000 - val_fp: 134.0000 - val_tn: 2759.0000 - val_fn: 420.0000 - val_auc: 0.8237\n",
      "\n",
      "Epoch 00030: val_auc improved from 0.82252 to 0.82369, saving model to /kaggle/working/base_model.h5\n",
      "Epoch 31/100\n",
      "449/449 [==============================] - 138s 307ms/step - loss: 0.3661 - tp: 454.6400 - fp: 195.4822 - tn: 5633.9600 - fn: 930.6911 - auc: 0.8252 - val_loss: 0.3838 - val_tp: 315.0000 - val_fp: 207.0000 - val_tn: 2684.0000 - val_fn: 378.0000 - val_auc: 0.8159\n",
      "\n",
      "Epoch 00031: val_auc did not improve from 0.82369\n",
      "Epoch 32/100\n",
      "449/449 [==============================] - 137s 304ms/step - loss: 0.3663 - tp: 476.7089 - fp: 198.6400 - tn: 5616.8511 - fn: 911.4511 - auc: 0.8291 - val_loss: 0.3705 - val_tp: 242.0000 - val_fp: 114.0000 - val_tn: 2780.0000 - val_fn: 448.0000 - val_auc: 0.8212\n",
      "\n",
      "Epoch 00032: val_auc did not improve from 0.82369\n",
      "Epoch 33/100\n",
      "449/449 [==============================] - 136s 304ms/step - loss: 0.3590 - tp: 488.4644 - fp: 204.8889 - tn: 5627.0111 - fn: 884.0956 - auc: 0.8321 - val_loss: 0.3740 - val_tp: 221.0000 - val_fp: 103.0000 - val_tn: 2790.0000 - val_fn: 470.0000 - val_auc: 0.8196\n",
      "\n",
      "Epoch 00033: val_auc did not improve from 0.82369\n",
      "Epoch 34/100\n",
      "449/449 [==============================] - 136s 303ms/step - loss: 0.3650 - tp: 519.7022 - fp: 210.5022 - tn: 5590.9311 - fn: 892.5400 - auc: 0.8342 - val_loss: 0.3647 - val_tp: 211.0000 - val_fp: 85.0000 - val_tn: 2810.0000 - val_fn: 478.0000 - val_auc: 0.8271\n",
      "\n",
      "Epoch 00034: val_auc improved from 0.82369 to 0.82715, saving model to /kaggle/working/base_model.h5\n",
      "Epoch 35/100\n",
      "449/449 [==============================] - 136s 304ms/step - loss: 0.3676 - tp: 485.9400 - fp: 194.3556 - tn: 5614.2667 - fn: 915.4156 - auc: 0.8263 - val_loss: 0.3698 - val_tp: 218.0000 - val_fp: 79.0000 - val_tn: 2810.0000 - val_fn: 477.0000 - val_auc: 0.8221\n",
      "\n",
      "Epoch 00035: val_auc did not improve from 0.82715\n",
      "Epoch 36/100\n",
      "449/449 [==============================] - 137s 305ms/step - loss: 0.3499 - tp: 520.7756 - fp: 201.5378 - tn: 5625.1800 - fn: 861.2711 - auc: 0.8363 - val_loss: 0.3704 - val_tp: 209.0000 - val_fp: 68.0000 - val_tn: 2825.0000 - val_fn: 482.0000 - val_auc: 0.8190\n",
      "\n",
      "Epoch 00036: val_auc did not improve from 0.82715\n",
      "Epoch 37/100\n",
      "449/449 [==============================] - 137s 306ms/step - loss: 0.3474 - tp: 494.0889 - fp: 195.6867 - tn: 5649.9178 - fn: 866.5289 - auc: 0.8393 - val_loss: 0.3644 - val_tp: 251.0000 - val_fp: 111.0000 - val_tn: 2780.0000 - val_fn: 442.0000 - val_auc: 0.8293\n",
      "\n",
      "Epoch 00037: val_auc improved from 0.82715 to 0.82930, saving model to /kaggle/working/base_model.h5\n",
      "Epoch 38/100\n",
      "449/449 [==============================] - 137s 304ms/step - loss: 0.3589 - tp: 513.7311 - fp: 200.8733 - tn: 5602.6800 - fn: 892.5200 - auc: 0.8330 - val_loss: 0.3732 - val_tp: 268.0000 - val_fp: 124.0000 - val_tn: 2768.0000 - val_fn: 424.0000 - val_auc: 0.8202\n",
      "\n",
      "Epoch 00038: val_auc did not improve from 0.82930\n",
      "Epoch 39/100\n",
      "449/449 [==============================] - 137s 305ms/step - loss: 0.3525 - tp: 496.2200 - fp: 208.4000 - tn: 5620.3244 - fn: 880.5844 - auc: 0.8382 - val_loss: 0.3787 - val_tp: 271.0000 - val_fp: 134.0000 - val_tn: 2758.0000 - val_fn: 421.0000 - val_auc: 0.8254\n",
      "\n",
      "Epoch 00039: val_auc did not improve from 0.82930\n",
      "Epoch 40/100\n",
      "449/449 [==============================] - 137s 306ms/step - loss: 0.3576 - tp: 519.5333 - fp: 209.6222 - tn: 5614.8333 - fn: 865.0933 - auc: 0.8366 - val_loss: 0.3716 - val_tp: 238.0000 - val_fp: 103.0000 - val_tn: 2786.0000 - val_fn: 457.0000 - val_auc: 0.8245\n",
      "\n",
      "Epoch 00040: val_auc did not improve from 0.82930\n",
      "Epoch 41/100\n",
      "449/449 [==============================] - 138s 307ms/step - loss: 0.3452 - tp: 556.8178 - fp: 198.5400 - tn: 5616.4933 - fn: 833.7933 - auc: 0.8457 - val_loss: 0.3804 - val_tp: 348.0000 - val_fp: 232.0000 - val_tn: 2660.0000 - val_fn: 344.0000 - val_auc: 0.8316\n",
      "\n",
      "Epoch 00041: val_auc improved from 0.82930 to 0.83157, saving model to /kaggle/working/base_model.h5\n",
      "Epoch 42/100\n",
      "449/449 [==============================] - 137s 306ms/step - loss: 0.3471 - tp: 553.5644 - fp: 209.4133 - tn: 5609.4133 - fn: 837.9911 - auc: 0.8421 - val_loss: 0.3581 - val_tp: 289.0000 - val_fp: 136.0000 - val_tn: 2753.0000 - val_fn: 406.0000 - val_auc: 0.8392\n",
      "\n",
      "Epoch 00042: val_auc improved from 0.83157 to 0.83920, saving model to /kaggle/working/base_model.h5\n",
      "Epoch 43/100\n",
      "449/449 [==============================] - 137s 305ms/step - loss: 0.3317 - tp: 588.3400 - fp: 205.0444 - tn: 5618.7667 - fn: 794.2444 - auc: 0.8587 - val_loss: 0.3721 - val_tp: 300.0000 - val_fp: 154.0000 - val_tn: 2742.0000 - val_fn: 388.0000 - val_auc: 0.8288\n",
      "\n",
      "Epoch 00043: val_auc did not improve from 0.83920\n",
      "Epoch 44/100\n",
      "449/449 [==============================] - 139s 308ms/step - loss: 0.3369 - tp: 619.9267 - fp: 216.3444 - tn: 5577.7289 - fn: 789.5067 - auc: 0.8608 - val_loss: 0.3800 - val_tp: 186.0000 - val_fp: 63.0000 - val_tn: 2828.0000 - val_fn: 507.0000 - val_auc: 0.8112\n",
      "\n",
      "Epoch 00044: val_auc did not improve from 0.83920\n",
      "Epoch 45/100\n",
      "449/449 [==============================] - 139s 309ms/step - loss: 0.3395 - tp: 574.1333 - fp: 204.4511 - tn: 5614.1200 - fn: 819.9889 - auc: 0.8527 - val_loss: 0.3729 - val_tp: 195.0000 - val_fp: 66.0000 - val_tn: 2826.0000 - val_fn: 497.0000 - val_auc: 0.8303\n",
      "\n",
      "Epoch 00045: val_auc did not improve from 0.83920\n",
      "Epoch 46/100\n",
      "449/449 [==============================] - 136s 303ms/step - loss: 0.3241 - tp: 634.4289 - fp: 210.0133 - tn: 5593.6622 - fn: 773.3467 - auc: 0.8696 - val_loss: 0.3763 - val_tp: 322.0000 - val_fp: 185.0000 - val_tn: 2707.0000 - val_fn: 370.0000 - val_auc: 0.8232\n",
      "\n",
      "Epoch 00046: val_auc did not improve from 0.83920\n",
      "Epoch 47/100\n",
      "449/449 [==============================] - 137s 306ms/step - loss: 0.3334 - tp: 611.5444 - fp: 200.7933 - tn: 5611.4000 - fn: 785.1133 - auc: 0.8594 - val_loss: 0.3545 - val_tp: 259.0000 - val_fp: 107.0000 - val_tn: 2786.0000 - val_fn: 432.0000 - val_auc: 0.8385\n",
      "\n",
      "Epoch 00047: val_auc did not improve from 0.83920\n",
      "Epoch 48/100\n",
      "449/449 [==============================] - 138s 306ms/step - loss: 0.3243 - tp: 622.2556 - fp: 212.3956 - tn: 5602.4667 - fn: 765.8978 - auc: 0.8664 - val_loss: 0.3613 - val_tp: 226.0000 - val_fp: 81.0000 - val_tn: 2811.0000 - val_fn: 466.0000 - val_auc: 0.8312\n",
      "\n",
      "Epoch 00048: val_auc did not improve from 0.83920\n",
      "Epoch 49/100\n",
      "449/449 [==============================] - 137s 306ms/step - loss: 0.3401 - tp: 594.0178 - fp: 196.8956 - tn: 5617.7600 - fn: 797.8089 - auc: 0.8517 - val_loss: 0.3832 - val_tp: 153.0000 - val_fp: 36.0000 - val_tn: 2856.0000 - val_fn: 539.0000 - val_auc: 0.8219\n",
      "\n",
      "Epoch 00049: val_auc did not improve from 0.83920\n",
      "Epoch 50/100\n",
      "449/449 [==============================] - 138s 307ms/step - loss: 0.3193 - tp: 639.8178 - fp: 208.8956 - tn: 5610.2378 - fn: 755.7933 - auc: 0.8694 - val_loss: 0.3710 - val_tp: 277.0000 - val_fp: 161.0000 - val_tn: 2732.0000 - val_fn: 414.0000 - val_auc: 0.8262\n",
      "\n",
      "Epoch 00050: val_auc did not improve from 0.83920\n",
      "Epoch 51/100\n",
      "449/449 [==============================] - 138s 306ms/step - loss: 0.3275 - tp: 608.5711 - fp: 189.3867 - tn: 5626.1556 - fn: 784.5644 - auc: 0.8611 - val_loss: 0.3657 - val_tp: 259.0000 - val_fp: 122.0000 - val_tn: 2771.0000 - val_fn: 432.0000 - val_auc: 0.8362\n",
      "\n",
      "Epoch 00051: val_auc did not improve from 0.83920\n",
      "Epoch 52/100\n",
      "449/449 [==============================] - 138s 307ms/step - loss: 0.3092 - tp: 648.0978 - fp: 196.7400 - tn: 5638.7133 - fn: 722.4689 - auc: 0.8780 - val_loss: 0.3823 - val_tp: 169.0000 - val_fp: 34.0000 - val_tn: 2857.0000 - val_fn: 524.0000 - val_auc: 0.8339\n",
      "\n",
      "Epoch 00052: val_auc did not improve from 0.83920\n",
      "Epoch 53/100\n",
      "449/449 [==============================] - 138s 307ms/step - loss: 0.3037 - tp: 673.5822 - fp: 194.5022 - tn: 5624.9378 - fn: 716.3778 - auc: 0.8847 - val_loss: 0.3608 - val_tp: 269.0000 - val_fp: 127.0000 - val_tn: 2764.0000 - val_fn: 424.0000 - val_auc: 0.8353\n",
      "\n",
      "Epoch 00053: val_auc did not improve from 0.83920\n",
      "Epoch 54/100\n",
      "449/449 [==============================] - 138s 307ms/step - loss: 0.3085 - tp: 693.4911 - fp: 196.8244 - tn: 5623.7422 - fn: 700.8022 - auc: 0.8800 - val_loss: 0.4065 - val_tp: 248.0000 - val_fp: 172.0000 - val_tn: 2718.0000 - val_fn: 446.0000 - val_auc: 0.7944\n",
      "\n",
      "Epoch 00054: val_auc did not improve from 0.83920\n",
      "Epoch 55/100\n",
      "449/449 [==============================] - 139s 309ms/step - loss: 0.3751 - tp: 491.1489 - fp: 214.0644 - tn: 5602.2133 - fn: 906.1911 - auc: 0.8220 - val_loss: 0.3851 - val_tp: 353.0000 - val_fp: 228.0000 - val_tn: 2664.0000 - val_fn: 339.0000 - val_auc: 0.8355\n",
      "\n",
      "Epoch 00055: val_auc did not improve from 0.83920\n",
      "Epoch 56/100\n",
      "449/449 [==============================] - 137s 305ms/step - loss: 0.3114 - tp: 649.6133 - fp: 194.7644 - tn: 5619.0867 - fn: 751.2800 - auc: 0.8803 - val_loss: 0.3650 - val_tp: 277.0000 - val_fp: 138.0000 - val_tn: 2753.0000 - val_fn: 416.0000 - val_auc: 0.8419\n",
      "\n",
      "Epoch 00056: val_auc improved from 0.83920 to 0.84193, saving model to /kaggle/working/base_model.h5\n",
      "Epoch 57/100\n",
      "449/449 [==============================] - 138s 307ms/step - loss: 0.3019 - tp: 678.9511 - fp: 190.6622 - tn: 5645.4489 - fn: 697.6600 - auc: 0.8819 - val_loss: 0.3715 - val_tp: 220.0000 - val_fp: 78.0000 - val_tn: 2813.0000 - val_fn: 473.0000 - val_auc: 0.8326\n",
      "\n",
      "Epoch 00057: val_auc did not improve from 0.84193\n",
      "Epoch 58/100\n",
      "449/449 [==============================] - 137s 305ms/step - loss: 0.3049 - tp: 705.2311 - fp: 194.0978 - tn: 5618.7622 - fn: 688.1022 - auc: 0.8833 - val_loss: 0.3866 - val_tp: 221.0000 - val_fp: 76.0000 - val_tn: 2814.0000 - val_fn: 473.0000 - val_auc: 0.8239\n",
      "\n",
      "Epoch 00058: val_auc did not improve from 0.84193\n",
      "Epoch 59/100\n",
      "449/449 [==============================] - 138s 307ms/step - loss: 0.2990 - tp: 721.7711 - fp: 185.5400 - tn: 5635.4756 - fn: 666.2667 - auc: 0.8831 - val_loss: 0.3617 - val_tp: 316.0000 - val_fp: 147.0000 - val_tn: 2744.0000 - val_fn: 377.0000 - val_auc: 0.8375\n",
      "\n",
      "Epoch 00059: val_auc did not improve from 0.84193\n",
      "Epoch 60/100\n",
      "449/449 [==============================] - 137s 306ms/step - loss: 0.2963 - tp: 746.6356 - fp: 199.5289 - tn: 5604.0333 - fn: 655.9378 - auc: 0.8902 - val_loss: 0.3999 - val_tp: 310.0000 - val_fp: 214.0000 - val_tn: 2676.0000 - val_fn: 384.0000 - val_auc: 0.8222\n",
      "\n",
      "Epoch 00060: val_auc did not improve from 0.84193\n",
      "Epoch 61/100\n",
      "449/449 [==============================] - 138s 308ms/step - loss: 0.2895 - tp: 760.1356 - fp: 193.0089 - tn: 5632.9133 - fn: 627.5600 - auc: 0.8918 - val_loss: 0.3649 - val_tp: 286.0000 - val_fp: 130.0000 - val_tn: 2763.0000 - val_fn: 405.0000 - val_auc: 0.8405\n",
      "\n",
      "Epoch 00061: val_auc did not improve from 0.84193\n",
      "Epoch 62/100\n",
      "449/449 [==============================] - 140s 311ms/step - loss: 0.2777 - tp: 765.9022 - fp: 198.9000 - tn: 5614.8911 - fn: 623.2356 - auc: 0.9034 - val_loss: 0.3733 - val_tp: 337.0000 - val_fp: 186.0000 - val_tn: 2705.0000 - val_fn: 356.0000 - val_auc: 0.8378\n",
      "\n",
      "Epoch 00062: val_auc did not improve from 0.84193\n",
      "Epoch 63/100\n",
      "449/449 [==============================] - 137s 304ms/step - loss: 0.2796 - tp: 736.0467 - fp: 182.6933 - tn: 5645.8600 - fn: 646.3022 - auc: 0.8997 - val_loss: 0.3713 - val_tp: 298.0000 - val_fp: 157.0000 - val_tn: 2734.0000 - val_fn: 395.0000 - val_auc: 0.8316\n",
      "\n",
      "Epoch 00063: val_auc did not improve from 0.84193\n",
      "Epoch 64/100\n",
      "449/449 [==============================] - 143s 317ms/step - loss: 0.2749 - tp: 815.4111 - fp: 176.0378 - tn: 5616.8444 - fn: 600.0956 - auc: 0.9071 - val_loss: 0.3589 - val_tp: 276.0000 - val_fp: 117.0000 - val_tn: 2775.0000 - val_fn: 416.0000 - val_auc: 0.8470\n",
      "\n",
      "Epoch 00064: val_auc improved from 0.84193 to 0.84700, saving model to /kaggle/working/base_model.h5\n",
      "Epoch 65/100\n",
      "449/449 [==============================] - 137s 305ms/step - loss: 0.2679 - tp: 828.0889 - fp: 186.7689 - tn: 5611.2533 - fn: 580.7178 - auc: 0.9094 - val_loss: 0.4541 - val_tp: 123.0000 - val_fp: 17.0000 - val_tn: 2877.0000 - val_fn: 567.0000 - val_auc: 0.7814\n",
      "\n",
      "Epoch 00065: val_auc did not improve from 0.84700\n",
      "Epoch 66/100\n",
      "449/449 [==============================] - 137s 305ms/step - loss: 0.2732 - tp: 800.6689 - fp: 177.3400 - tn: 5641.8467 - fn: 590.3822 - auc: 0.9086 - val_loss: 0.3899 - val_tp: 351.0000 - val_fp: 236.0000 - val_tn: 2656.0000 - val_fn: 341.0000 - val_auc: 0.8407\n",
      "\n",
      "Epoch 00066: val_auc did not improve from 0.84700\n",
      "Epoch 67/100\n",
      "449/449 [==============================] - 136s 303ms/step - loss: 0.2633 - tp: 831.4333 - fp: 167.5756 - tn: 5649.2800 - fn: 567.2933 - auc: 0.9130 - val_loss: 0.4340 - val_tp: 244.0000 - val_fp: 131.0000 - val_tn: 2760.0000 - val_fn: 449.0000 - val_auc: 0.8153\n",
      "\n",
      "Epoch 00067: val_auc did not improve from 0.84700\n",
      "Epoch 68/100\n",
      "449/449 [==============================] - 137s 305ms/step - loss: 0.2564 - tp: 870.3222 - fp: 177.2644 - tn: 5614.4289 - fn: 544.8422 - auc: 0.9191 - val_loss: 0.3756 - val_tp: 317.0000 - val_fp: 165.0000 - val_tn: 2727.0000 - val_fn: 375.0000 - val_auc: 0.8405\n",
      "\n",
      "Epoch 00068: val_auc did not improve from 0.84700\n",
      "Epoch 69/100\n",
      "449/449 [==============================] - 137s 306ms/step - loss: 0.2286 - tp: 850.3333 - fp: 159.2133 - tn: 5671.2311 - fn: 522.4978 - auc: 0.9316 - val_loss: 0.3817 - val_tp: 302.0000 - val_fp: 160.0000 - val_tn: 2731.0000 - val_fn: 391.0000 - val_auc: 0.8367\n",
      "\n",
      "Epoch 00069: val_auc did not improve from 0.84700\n",
      "Epoch 70/100\n",
      "449/449 [==============================] - 136s 304ms/step - loss: 0.2417 - tp: 876.5533 - fp: 162.2533 - tn: 5649.4956 - fn: 522.4844 - auc: 0.9272 - val_loss: 0.4053 - val_tp: 305.0000 - val_fp: 171.0000 - val_tn: 2721.0000 - val_fn: 387.0000 - val_auc: 0.8286\n",
      "\n",
      "Epoch 00070: val_auc did not improve from 0.84700\n",
      "Epoch 71/100\n",
      "449/449 [==============================] - 136s 304ms/step - loss: 0.2258 - tp: 918.6311 - fp: 160.2022 - tn: 5650.8422 - fn: 477.8178 - auc: 0.9366 - val_loss: 0.3861 - val_tp: 333.0000 - val_fp: 198.0000 - val_tn: 2693.0000 - val_fn: 360.0000 - val_auc: 0.8465\n",
      "\n",
      "Epoch 00071: val_auc did not improve from 0.84700\n",
      "Epoch 72/100\n",
      "449/449 [==============================] - 137s 304ms/step - loss: 0.2354 - tp: 903.2511 - fp: 142.5467 - tn: 5674.0556 - fn: 492.2622 - auc: 0.9302 - val_loss: 0.4219 - val_tp: 277.0000 - val_fp: 132.0000 - val_tn: 2759.0000 - val_fn: 416.0000 - val_auc: 0.8305\n",
      "\n",
      "Epoch 00072: val_auc did not improve from 0.84700\n",
      "Epoch 73/100\n",
      "449/449 [==============================] - 138s 306ms/step - loss: 0.2068 - tp: 940.1844 - fp: 165.5800 - tn: 5663.8622 - fn: 444.9733 - auc: 0.9451 - val_loss: 0.3926 - val_tp: 310.0000 - val_fp: 163.0000 - val_tn: 2728.0000 - val_fn: 383.0000 - val_auc: 0.8273\n",
      "\n",
      "Epoch 00073: val_auc did not improve from 0.84700\n",
      "Epoch 74/100\n",
      "449/449 [==============================] - 138s 307ms/step - loss: 0.2220 - tp: 961.2778 - fp: 152.7711 - tn: 5645.2956 - fn: 454.2444 - auc: 0.9401 - val_loss: 0.4411 - val_tp: 230.0000 - val_fp: 68.0000 - val_tn: 2824.0000 - val_fn: 462.0000 - val_auc: 0.8136\n",
      "\n",
      "Epoch 00074: val_auc did not improve from 0.84700\n",
      "Epoch 75/100\n",
      "449/449 [==============================] - 137s 305ms/step - loss: 0.2253 - tp: 914.5044 - fp: 164.2622 - tn: 5647.8667 - fn: 482.3333 - auc: 0.9352 - val_loss: 0.4253 - val_tp: 328.0000 - val_fp: 208.0000 - val_tn: 2683.0000 - val_fn: 365.0000 - val_auc: 0.8224\n",
      "\n",
      "Epoch 00075: val_auc did not improve from 0.84700\n",
      "Epoch 76/100\n",
      "449/449 [==============================] - 137s 305ms/step - loss: 0.2037 - tp: 1020.9133 - fp: 147.9200 - tn: 5628.4667 - fn: 415.8556 - auc: 0.9486 - val_loss: 0.4070 - val_tp: 322.0000 - val_fp: 175.0000 - val_tn: 2718.0000 - val_fn: 369.0000 - val_auc: 0.8365\n",
      "\n",
      "Epoch 00076: val_auc did not improve from 0.84700\n",
      "Epoch 77/100\n",
      "449/449 [==============================] - 137s 304ms/step - loss: 0.2120 - tp: 962.9200 - fp: 126.8356 - tn: 5690.5111 - fn: 432.9756 - auc: 0.9430 - val_loss: 0.4127 - val_tp: 305.0000 - val_fp: 159.0000 - val_tn: 2731.0000 - val_fn: 389.0000 - val_auc: 0.8309\n",
      "\n",
      "Epoch 00077: val_auc did not improve from 0.84700\n",
      "Epoch 78/100\n",
      "449/449 [==============================] - 139s 309ms/step - loss: 0.1839 - tp: 1036.3022 - fp: 148.0422 - tn: 5652.5756 - fn: 370.7178 - auc: 0.9588 - val_loss: 0.4332 - val_tp: 314.0000 - val_fp: 184.0000 - val_tn: 2707.0000 - val_fn: 379.0000 - val_auc: 0.8157\n",
      "\n",
      "Epoch 00078: val_auc did not improve from 0.84700\n",
      "Epoch 79/100\n",
      "449/449 [==============================] - 138s 307ms/step - loss: 0.1761 - tp: 1015.7867 - fp: 124.4467 - tn: 5696.9689 - fn: 371.3311 - auc: 0.9601 - val_loss: 0.4575 - val_tp: 352.0000 - val_fp: 242.0000 - val_tn: 2650.0000 - val_fn: 340.0000 - val_auc: 0.8214\n",
      "\n",
      "Epoch 00079: val_auc did not improve from 0.84700\n",
      "Epoch 80/100\n",
      "449/449 [==============================] - 137s 305ms/step - loss: 0.2033 - tp: 1009.1400 - fp: 160.1111 - tn: 5628.6778 - fn: 405.7511 - auc: 0.9501 - val_loss: 0.4562 - val_tp: 334.0000 - val_fp: 205.0000 - val_tn: 2687.0000 - val_fn: 358.0000 - val_auc: 0.8253\n",
      "\n",
      "Epoch 00080: val_auc did not improve from 0.84700\n",
      "Epoch 81/100\n",
      "449/449 [==============================] - 137s 305ms/step - loss: 0.1666 - tp: 1063.3978 - fp: 118.7556 - tn: 5683.5844 - fn: 343.4311 - auc: 0.9650 - val_loss: 0.4826 - val_tp: 263.0000 - val_fp: 121.0000 - val_tn: 2768.0000 - val_fn: 432.0000 - val_auc: 0.8088\n",
      "\n",
      "Epoch 00081: val_auc did not improve from 0.84700\n",
      "Epoch 82/100\n",
      "449/449 [==============================] - 138s 307ms/step - loss: 0.1765 - tp: 1041.2267 - fp: 131.3089 - tn: 5682.1022 - fn: 354.2711 - auc: 0.9616 - val_loss: 0.5005 - val_tp: 331.0000 - val_fp: 243.0000 - val_tn: 2648.0000 - val_fn: 362.0000 - val_auc: 0.7969\n",
      "\n",
      "Epoch 00082: val_auc did not improve from 0.84700\n",
      "Epoch 83/100\n",
      "449/449 [==============================] - 137s 306ms/step - loss: 0.1681 - tp: 1043.9978 - fp: 133.7311 - tn: 5703.6822 - fn: 330.8200 - auc: 0.9620 - val_loss: 0.5118 - val_tp: 335.0000 - val_fp: 226.0000 - val_tn: 2666.0000 - val_fn: 357.0000 - val_auc: 0.8179\n",
      "\n",
      "Epoch 00083: val_auc did not improve from 0.84700\n",
      "Epoch 84/100\n",
      "449/449 [==============================] - 137s 305ms/step - loss: 0.1798 - tp: 1042.2400 - fp: 136.2667 - tn: 5671.9711 - fn: 358.1133 - auc: 0.9591 - val_loss: 0.5666 - val_tp: 224.0000 - val_fp: 97.0000 - val_tn: 2794.0000 - val_fn: 469.0000 - val_auc: 0.7860\n",
      "\n",
      "Epoch 00084: val_auc did not improve from 0.84700\n",
      "Epoch 85/100\n",
      "449/449 [==============================] - 137s 305ms/step - loss: 0.1570 - tp: 1084.1756 - fp: 120.5556 - tn: 5697.4289 - fn: 306.0556 - auc: 0.9693 - val_loss: 0.6150 - val_tp: 176.0000 - val_fp: 69.0000 - val_tn: 2822.0000 - val_fn: 517.0000 - val_auc: 0.7656\n",
      "\n",
      "Epoch 00085: val_auc did not improve from 0.84700\n",
      "Epoch 86/100\n",
      "449/449 [==============================] - 137s 306ms/step - loss: 0.1804 - tp: 1044.7889 - fp: 140.5578 - tn: 5665.7689 - fn: 353.4889 - auc: 0.9622 - val_loss: 0.5436 - val_tp: 249.0000 - val_fp: 125.0000 - val_tn: 2765.0000 - val_fn: 445.0000 - val_auc: 0.7869\n",
      "\n",
      "Epoch 00086: val_auc did not improve from 0.84700\n",
      "Epoch 87/100\n",
      "449/449 [==============================] - 138s 308ms/step - loss: 0.1598 - tp: 1098.1467 - fp: 117.7467 - tn: 5697.0956 - fn: 296.4689 - auc: 0.9687 - val_loss: 0.5164 - val_tp: 363.0000 - val_fp: 257.0000 - val_tn: 2634.0000 - val_fn: 330.0000 - val_auc: 0.8102\n",
      "\n",
      "Epoch 00087: val_auc did not improve from 0.84700\n",
      "Epoch 88/100\n",
      "449/449 [==============================] - 137s 306ms/step - loss: 0.1462 - tp: 1120.4756 - fp: 119.6889 - tn: 5691.3200 - fn: 277.6267 - auc: 0.9738 - val_loss: 0.5198 - val_tp: 320.0000 - val_fp: 239.0000 - val_tn: 2651.0000 - val_fn: 374.0000 - val_auc: 0.7892\n",
      "\n",
      "Epoch 00088: val_auc did not improve from 0.84700\n",
      "Epoch 89/100\n",
      "449/449 [==============================] - 136s 303ms/step - loss: 0.1483 - tp: 1097.1222 - fp: 119.7000 - tn: 5704.8644 - fn: 288.2622 - auc: 0.9717 - val_loss: 0.5506 - val_tp: 332.0000 - val_fp: 237.0000 - val_tn: 2652.0000 - val_fn: 363.0000 - val_auc: 0.7886\n",
      "\n",
      "Epoch 00089: val_auc did not improve from 0.84700\n",
      "Epoch 90/100\n",
      "449/449 [==============================] - 137s 304ms/step - loss: 0.1482 - tp: 1107.7356 - fp: 126.5556 - tn: 5676.1333 - fn: 295.4511 - auc: 0.9737 - val_loss: 0.5318 - val_tp: 307.0000 - val_fp: 186.0000 - val_tn: 2703.0000 - val_fn: 388.0000 - val_auc: 0.7988\n",
      "\n",
      "Epoch 00090: val_auc did not improve from 0.84700\n",
      "Epoch 91/100\n",
      "449/449 [==============================] - 137s 306ms/step - loss: 0.1256 - tp: 1144.7067 - fp: 110.0756 - tn: 5717.2556 - fn: 234.7333 - auc: 0.9802 - val_loss: 0.6068 - val_tp: 377.0000 - val_fp: 333.0000 - val_tn: 2558.0000 - val_fn: 316.0000 - val_auc: 0.8014\n",
      "\n",
      "Epoch 00091: val_auc did not improve from 0.84700\n",
      "Epoch 92/100\n",
      "449/449 [==============================] - 138s 307ms/step - loss: 0.1549 - tp: 1110.5533 - fp: 127.9689 - tn: 5668.4467 - fn: 306.4467 - auc: 0.9707 - val_loss: 0.5887 - val_tp: 321.0000 - val_fp: 191.0000 - val_tn: 2701.0000 - val_fn: 371.0000 - val_auc: 0.8042\n",
      "\n",
      "Epoch 00092: val_auc did not improve from 0.84700\n",
      "Epoch 93/100\n",
      "449/449 [==============================] - 138s 306ms/step - loss: 0.1192 - tp: 1143.3822 - fp: 94.2844 - tn: 5750.0978 - fn: 221.0289 - auc: 0.9813 - val_loss: 0.5385 - val_tp: 364.0000 - val_fp: 231.0000 - val_tn: 2658.0000 - val_fn: 331.0000 - val_auc: 0.8076\n",
      "\n",
      "Epoch 00093: val_auc did not improve from 0.84700\n",
      "Epoch 94/100\n",
      "449/449 [==============================] - 137s 306ms/step - loss: 0.1105 - tp: 1171.5956 - fp: 102.6667 - tn: 5719.6400 - fn: 214.8622 - auc: 0.9844 - val_loss: 0.5114 - val_tp: 341.0000 - val_fp: 251.0000 - val_tn: 2639.0000 - val_fn: 353.0000 - val_auc: 0.8003\n",
      "\n",
      "Epoch 00094: val_auc did not improve from 0.84700\n",
      "Epoch 95/100\n",
      "449/449 [==============================] - 139s 309ms/step - loss: 0.1354 - tp: 1124.8333 - fp: 114.7133 - tn: 5705.4622 - fn: 263.2933 - auc: 0.9782 - val_loss: 0.5219 - val_tp: 287.0000 - val_fp: 144.0000 - val_tn: 2746.0000 - val_fn: 407.0000 - val_auc: 0.8010\n",
      "\n",
      "Epoch 00095: val_auc did not improve from 0.84700\n",
      "Epoch 96/100\n",
      "449/449 [==============================] - 139s 309ms/step - loss: 0.1770 - tp: 1076.1867 - fp: 139.3067 - tn: 5682.6778 - fn: 305.2778 - auc: 0.9647 - val_loss: 0.5973 - val_tp: 384.0000 - val_fp: 346.0000 - val_tn: 2545.0000 - val_fn: 309.0000 - val_auc: 0.8019\n",
      "\n",
      "Epoch 00096: val_auc did not improve from 0.84700\n",
      "Epoch 97/100\n",
      "449/449 [==============================] - 139s 309ms/step - loss: 0.1153 - tp: 1159.6778 - fp: 89.9844 - tn: 5741.2933 - fn: 215.3533 - auc: 0.9827 - val_loss: 0.6106 - val_tp: 397.0000 - val_fp: 337.0000 - val_tn: 2554.0000 - val_fn: 296.0000 - val_auc: 0.8111\n",
      "\n",
      "Epoch 00097: val_auc did not improve from 0.84700\n",
      "Epoch 98/100\n",
      "449/449 [==============================] - 135s 300ms/step - loss: 0.1283 - tp: 1180.4667 - fp: 110.3711 - tn: 5678.8511 - fn: 239.7978 - auc: 0.9820 - val_loss: 0.6145 - val_tp: 260.0000 - val_fp: 133.0000 - val_tn: 2758.0000 - val_fn: 433.0000 - val_auc: 0.7563\n",
      "\n",
      "Epoch 00098: val_auc did not improve from 0.84700\n",
      "Epoch 99/100\n",
      "449/449 [==============================] - 135s 301ms/step - loss: 0.1104 - tp: 1205.7578 - fp: 84.1400 - tn: 5707.9889 - fn: 210.7044 - auc: 0.9839 - val_loss: 0.6169 - val_tp: 326.0000 - val_fp: 200.0000 - val_tn: 2692.0000 - val_fn: 366.0000 - val_auc: 0.7992\n",
      "\n",
      "Epoch 00099: val_auc did not improve from 0.84700\n",
      "Epoch 100/100\n",
      "449/449 [==============================] - 138s 307ms/step - loss: 0.1135 - tp: 1196.9489 - fp: 94.4156 - tn: 5704.2200 - fn: 209.4533 - auc: 0.9842 - val_loss: 0.5882 - val_tp: 300.0000 - val_fp: 206.0000 - val_tn: 2684.0000 - val_fn: 394.0000 - val_auc: 0.7744\n",
      "\n",
      "Epoch 00100: val_auc did not improve from 0.84700\n"
     ]
    }
   ],
   "source": [
    "history = model.fit(train_generator,  \n",
    "                    validation_data =valid_generator,\n",
    "                    steps_per_epoch=STEP_SIZE_TRAIN, \n",
    "                    validation_steps=STEP_SIZE_VALID,\n",
    "                    callbacks=[model_checkpoint_callback],\n",
    "                    epochs = 100)"
   ]
  },
  {
   "cell_type": "code",
   "execution_count": 17,
   "id": "28bf60e1",
   "metadata": {
    "execution": {
     "iopub.execute_input": "2021-11-25T02:39:12.778621Z",
     "iopub.status.busy": "2021-11-25T02:39:12.777831Z",
     "iopub.status.idle": "2021-11-25T02:39:12.999563Z",
     "shell.execute_reply": "2021-11-25T02:39:12.999129Z",
     "shell.execute_reply.started": "2021-11-24T22:47:40.243394Z"
    },
    "papermill": {
     "duration": 12.452839,
     "end_time": "2021-11-25T02:39:12.999686",
     "exception": false,
     "start_time": "2021-11-25T02:39:00.546847",
     "status": "completed"
    },
    "tags": []
   },
   "outputs": [
    {
     "data": {
      "image/png": "[encoded data removed]",
      "text/plain": [
       "<Figure size 432x288 with 1 Axes>"
      ]
     },
     "metadata": {
      "needs_background": "light"
     },
     "output_type": "display_data"
    }
   ],
   "source": [
    "plt.plot(history.history['auc'], \n",
    "         label='Training AUC (area = {:.3f})'.format(history.history['auc'][-1]))\n",
    "plt.plot(history.history['val_auc'], \n",
    "         label='Validation AUC ( area = {:.3f})'.format(history.history['val_auc'][-1]))\n",
    "plt.title('Base model')\n",
    "plt.ylabel('AUC')\n",
    "plt.xlabel('epoch')\n",
    "plt.grid()\n",
    "plt.legend(loc='best')\n",
    "\n",
    "plt.show()"
   ]
  },
  {
   "cell_type": "code",
   "execution_count": 18,
   "id": "10c1dd83",
   "metadata": {
    "execution": {
     "iopub.execute_input": "2021-11-25T02:39:37.913495Z",
     "iopub.status.busy": "2021-11-25T02:39:37.912643Z",
     "iopub.status.idle": "2021-11-25T02:39:38.152687Z",
     "shell.execute_reply": "2021-11-25T02:39:38.151838Z",
     "shell.execute_reply.started": "2021-11-24T22:47:40.245653Z"
    },
    "papermill": {
     "duration": 12.419536,
     "end_time": "2021-11-25T02:39:38.152891",
     "exception": false,
     "start_time": "2021-11-25T02:39:25.733355",
     "status": "completed"
    },
    "tags": []
   },
   "outputs": [
    {
     "data": {
      "image/png": "[encoded data removed]",
      "text/plain": [
       "<Figure size 432x288 with 1 Axes>"
      ]
     },
     "metadata": {
      "needs_background": "light"
     },
     "output_type": "display_data"
    }
   ],
   "source": [
    "plt.plot(history.history['loss'], label='Training loss (loss = {:.3f})'.format(history.history['loss'][-1]))\n",
    "plt.plot(history.history['val_loss'], label='Validation loss (loss = {:.3f})'.format(history.history['val_loss'][-1]))\n",
    "plt.title('Model loss')\n",
    "plt.ylabel('loss')\n",
    "plt.xlabel('epoch')\n",
    "plt.grid()\n",
    "plt.legend(loc='best')\n",
    "\n",
    "plt.show()"
   ]
  },
  {
   "cell_type": "markdown",
   "id": "3a2ad719",
   "metadata": {
    "papermill": {
     "duration": 12.114883,
     "end_time": "2021-11-25T02:40:03.116567",
     "exception": false,
     "start_time": "2021-11-25T02:39:51.001684",
     "status": "completed"
    },
    "tags": []
   },
   "source": [
    "## <font color=red>4. </font>Evaluar el modelo"
   ]
  },
  {
   "cell_type": "code",
   "execution_count": 19,
   "id": "0c7a9ac5",
   "metadata": {
    "execution": {
     "iopub.execute_input": "2021-11-25T02:40:28.130192Z",
     "iopub.status.busy": "2021-11-25T02:40:28.128710Z",
     "iopub.status.idle": "2021-11-25T02:40:57.806476Z",
     "shell.execute_reply": "2021-11-25T02:40:57.805983Z",
     "shell.execute_reply.started": "2021-11-24T22:47:40.247351Z"
    },
    "papermill": {
     "duration": 42.324183,
     "end_time": "2021-11-25T02:40:57.806611",
     "exception": false,
     "start_time": "2021-11-25T02:40:15.482428",
     "status": "completed"
    },
    "tags": []
   },
   "outputs": [
    {
     "name": "stdout",
     "output_type": "stream",
     "text": [
      "140/140 [==============================] - 29s 210ms/step - loss: 0.6546 - tp: 331.0000 - fp: 268.0000 - tn: 3345.0000 - fn: 536.0000 - auc: 0.7453\n"
     ]
    }
   ],
   "source": [
    "eval_metrics = model.evaluate(test_generator, \n",
    "                              steps=STEP_SIZE_TEST,\n",
    "                              return_dict=True,\n",
    "                              use_multiprocessing=False,\n",
    "                              verbose=1)"
   ]
  },
  {
   "cell_type": "markdown",
   "id": "b69bb0db",
   "metadata": {
    "papermill": {
     "duration": 12.117249,
     "end_time": "2021-11-25T02:41:22.135509",
     "exception": false,
     "start_time": "2021-11-25T02:41:10.018260",
     "status": "completed"
    },
    "tags": []
   },
   "source": [
    "#### Se obtiene las predicciones y las etiquetas del conjunto de prueba."
   ]
  },
  {
   "cell_type": "code",
   "execution_count": 20,
   "id": "3bafef54",
   "metadata": {
    "execution": {
     "iopub.execute_input": "2021-11-25T02:41:47.208505Z",
     "iopub.status.busy": "2021-11-25T02:41:47.206871Z",
     "iopub.status.idle": "2021-11-25T02:42:01.619154Z",
     "shell.execute_reply": "2021-11-25T02:42:01.619974Z",
     "shell.execute_reply.started": "2021-11-24T22:47:40.249389Z"
    },
    "papermill": {
     "duration": 26.591647,
     "end_time": "2021-11-25T02:42:01.620192",
     "exception": false,
     "start_time": "2021-11-25T02:41:35.028545",
     "status": "completed"
    },
    "tags": []
   },
   "outputs": [
    {
     "name": "stdout",
     "output_type": "stream",
     "text": [
      "141/141 [==============================] - 14s 91ms/step\n"
     ]
    }
   ],
   "source": [
    "true_labels = test_generator.classes\n",
    "predict = model.predict(test_generator,\n",
    "                        verbose=1)"
   ]
  },
  {
   "cell_type": "markdown",
   "id": "881a9474",
   "metadata": {
    "papermill": {
     "duration": 12.303388,
     "end_time": "2021-11-25T02:42:26.118490",
     "exception": false,
     "start_time": "2021-11-25T02:42:13.815102",
     "status": "completed"
    },
    "tags": []
   },
   "source": [
    "#### Finalmente, se observa la curva ROC-AUC y la matriz de confusión."
   ]
  },
  {
   "cell_type": "code",
   "execution_count": 21,
   "id": "4630a6d4",
   "metadata": {
    "execution": {
     "iopub.execute_input": "2021-11-25T02:42:51.231629Z",
     "iopub.status.busy": "2021-11-25T02:42:51.230930Z",
     "iopub.status.idle": "2021-11-25T02:42:51.446920Z",
     "shell.execute_reply": "2021-11-25T02:42:51.446039Z",
     "shell.execute_reply.started": "2021-11-24T22:47:40.250958Z"
    },
    "papermill": {
     "duration": 12.520673,
     "end_time": "2021-11-25T02:42:51.447050",
     "exception": false,
     "start_time": "2021-11-25T02:42:38.926377",
     "status": "completed"
    },
    "tags": []
   },
   "outputs": [
    {
     "data": {
      "image/png": "[encoded data removed]",
      "text/plain": [
       "<Figure size 432x288 with 1 Axes>"
      ]
     },
     "metadata": {
      "needs_background": "light"
     },
     "output_type": "display_data"
    }
   ],
   "source": [
    "from sklearn import metrics\n",
    "\n",
    "fpr, tpr, tr = metrics.roc_curve(true_labels, predict)\n",
    "auc = metrics.roc_auc_score(true_labels, predict)\n",
    "plt.plot(fpr,tpr,'b',label=\"AUC=\"+str(auc))\n",
    "plt.plot([0,1],[0,1],'k--')\n",
    "plt.title('Test evaluation')\n",
    "plt.grid()\n",
    "plt.legend(loc='best')\n",
    "plt.show()"
   ]
  },
  {
   "cell_type": "code",
   "execution_count": 22,
   "id": "0362faa5",
   "metadata": {
    "execution": {
     "iopub.execute_input": "2021-11-25T02:43:16.454004Z",
     "iopub.status.busy": "2021-11-25T02:43:16.453456Z",
     "iopub.status.idle": "2021-11-25T02:43:16.808255Z",
     "shell.execute_reply": "2021-11-25T02:43:16.808669Z",
     "shell.execute_reply.started": "2021-11-24T22:47:40.253164Z"
    },
    "papermill": {
     "duration": 12.56751,
     "end_time": "2021-11-25T02:43:16.808836",
     "exception": false,
     "start_time": "2021-11-25T02:43:04.241326",
     "status": "completed"
    },
    "tags": []
   },
   "outputs": [
    {
     "data": {
      "text/plain": [
       "<AxesSubplot:>"
      ]
     },
     "execution_count": 22,
     "metadata": {},
     "output_type": "execute_result"
    },
    {
     "data": {
      "image/png": "[encoded data removed]",
      "text/plain": [
       "<Figure size 432x288 with 2 Axes>"
      ]
     },
     "metadata": {
      "needs_background": "light"
     },
     "output_type": "display_data"
    }
   ],
   "source": [
    "import seaborn as sns\n",
    "\n",
    "cm = [eval_metrics['tn'], eval_metrics['fp'], eval_metrics['fn'], eval_metrics['tp']]\n",
    "\n",
    "group_names = ['True Neg','False Pos','False Neg','True Pos']\n",
    "group_counts = [\"{0:0.0f}\".format(value) for value in cm]\n",
    "group_percentages = [\"{0:.2%}\".format(value) for value in cm/np.sum(cm)]\n",
    "labels = [f\"{v1}\\n{v2}\\n{v3}\" for v1, v2, v3 in zip(group_names,group_counts,group_percentages)]\n",
    "labels = np.asarray(labels).reshape(2,2)\n",
    "\n",
    "sns.heatmap([[cm[0], cm[1]], [cm[2], cm[3]]], annot=labels, fmt='', cmap='Blues')"
   ]
  }
 ],
 "metadata": {
  "kernelspec": {
   "display_name": "Python 3",
   "language": "python",
   "name": "python3"
  },
  "language_info": {
   "codemirror_mode": {
    "name": "ipython",
    "version": 3
   },
   "file_extension": ".py",
   "mimetype": "text/x-python",
   "name": "python",
   "nbconvert_exporter": "python",
   "pygments_lexer": "ipython3",
   "version": "3.7.10"
  },
  "papermill": {
   "default_parameters": {},
   "duration": 14115.052307,
   "end_time": "2021-11-25T02:43:32.803066",
   "environment_variables": {},
   "exception": null,
   "input_path": "__notebook__.ipynb",
   "output_path": "__notebook__.ipynb",
   "parameters": {},
   "start_time": "2021-11-24T22:48:17.750759",
   "version": "2.3.3"
  }
 },
 "nbformat": 4,
 "nbformat_minor": 5
}
