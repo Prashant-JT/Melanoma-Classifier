{
 "cells": [
  {
   "cell_type": "code",
   "execution_count": 1,
   "metadata": {},
   "outputs": [
    {
     "name": "stdout",
     "output_type": "stream",
     "text": [
      "Requirement already satisfied: numpy in c:\\users\\prash\\appdata\\local\\programs\\python\\python39\\lib\\site-packages (1.19.5)\n"
     ]
    },
    {
     "name": "stderr",
     "output_type": "stream",
     "text": [
      "WARNING: You are using pip version 21.1.3; however, version 21.2.4 is available.\n",
      "You should consider upgrading via the 'c:\\users\\prash\\appdata\\local\\programs\\python\\python39\\python.exe -m pip install --upgrade pip' command.\n"
     ]
    },
    {
     "name": "stdout",
     "output_type": "stream",
     "text": [
      "Requirement already satisfied: pandas in c:\\users\\prash\\appdata\\local\\programs\\python\\python39\\lib\\site-packages (1.3.1)\n",
      "Requirement already satisfied: numpy>=1.17.3 in c:\\users\\prash\\appdata\\local\\programs\\python\\python39\\lib\\site-packages (from pandas) (1.19.5)\n",
      "Requirement already satisfied: python-dateutil>=2.7.3 in c:\\users\\prash\\appdata\\local\\programs\\python\\python39\\lib\\site-packages (from pandas) (2.8.2)\n",
      "Requirement already satisfied: pytz>=2017.3 in c:\\users\\prash\\appdata\\local\\programs\\python\\python39\\lib\\site-packages (from pandas) (2021.1)\n",
      "Requirement already satisfied: six>=1.5 in c:\\users\\prash\\appdata\\local\\programs\\python\\python39\\lib\\site-packages (from python-dateutil>=2.7.3->pandas) (1.15.0)\n"
     ]
    },
    {
     "name": "stderr",
     "output_type": "stream",
     "text": [
      "WARNING: You are using pip version 21.1.3; however, version 21.2.4 is available.\n",
      "You should consider upgrading via the 'c:\\users\\prash\\appdata\\local\\programs\\python\\python39\\python.exe -m pip install --upgrade pip' command.\n"
     ]
    },
    {
     "name": "stdout",
     "output_type": "stream",
     "text": [
      "Requirement already satisfied: matplotlib in c:\\users\\prash\\appdata\\local\\programs\\python\\python39\\lib\\site-packages (3.4.2)"
     ]
    },
    {
     "name": "stderr",
     "output_type": "stream",
     "text": [
      "WARNING: You are using pip version 21.1.3; however, version 21.2.4 is available.\n",
      "You should consider upgrading via the 'c:\\users\\prash\\appdata\\local\\programs\\python\\python39\\python.exe -m pip install --upgrade pip' command.\n"
     ]
    },
    {
     "name": "stdout",
     "output_type": "stream",
     "text": [
      "\n",
      "Requirement already satisfied: cycler>=0.10 in c:\\users\\prash\\appdata\\local\\programs\\python\\python39\\lib\\site-packages (from matplotlib) (0.10.0)\n",
      "Requirement already satisfied: kiwisolver>=1.0.1 in c:\\users\\prash\\appdata\\local\\programs\\python\\python39\\lib\\site-packages (from matplotlib) (1.3.1)\n",
      "Requirement already satisfied: python-dateutil>=2.7 in c:\\users\\prash\\appdata\\local\\programs\\python\\python39\\lib\\site-packages (from matplotlib) (2.8.2)\n",
      "Requirement already satisfied: numpy>=1.16 in c:\\users\\prash\\appdata\\local\\programs\\python\\python39\\lib\\site-packages (from matplotlib) (1.19.5)\n",
      "Requirement already satisfied: pyparsing>=2.2.1 in c:\\users\\prash\\appdata\\local\\programs\\python\\python39\\lib\\site-packages (from matplotlib) (2.4.7)\n",
      "Requirement already satisfied: pillow>=6.2.0 in c:\\users\\prash\\appdata\\local\\programs\\python\\python39\\lib\\site-packages (from matplotlib) (8.3.1)\n",
      "Requirement already satisfied: six in c:\\users\\prash\\appdata\\local\\programs\\python\\python39\\lib\\site-packages (from cycler>=0.10->matplotlib) (1.15.0)\n",
      "Requirement already satisfied: scikit-image in c:\\users\\prash\\appdata\\local\\programs\\python\\python39\\lib\\site-packages (0.18.2)\n",
      "Requirement already satisfied: numpy>=1.16.5 in c:\\users\\prash\\appdata\\local\\programs\\python\\python39\\lib\\site-packages (from scikit-image) (1.19.5)\n",
      "Requirement already satisfied: pillow!=7.1.0,!=7.1.1,>=4.3.0 in c:\\users\\prash\\appdata\\local\\programs\\python\\python39\\lib\\site-packages (from scikit-image) (8.3.1)\n",
      "Requirement already satisfied: networkx>=2.0 in c:\\users\\prash\\appdata\\local\\programs\\python\\python39\\lib\\site-packages (from scikit-image) (2.5.1)\n",
      "Requirement already satisfied: scipy>=1.0.1 in c:\\users\\prash\\appdata\\local\\programs\\python\\python39\\lib\\site-packages (from scikit-image) (1.7.0)\n",
      "Requirement already satisfied: tifffile>=2019.7.26 in c:\\users\\prash\\appdata\\local\\programs\\python\\python39\\lib\\site-packages (from scikit-image) (2021.7.2)\n",
      "Requirement already satisfied: PyWavelets>=1.1.1 in c:\\users\\prash\\appdata\\local\\programs\\python\\python39\\lib\\site-packages (from scikit-image) (1.1.1)\n",
      "Requirement already satisfied: imageio>=2.3.0 in c:\\users\\prash\\appdata\\local\\programs\\python\\python39\\lib\\site-packages (from scikit-image) (2.9.0)\n",
      "Requirement already satisfied: matplotlib!=3.0.0,>=2.0.0 in c:\\users\\prash\\appdata\\local\\programs\\python\\python39\\lib\\site-packages (from scikit-image) (3.4.2)\n",
      "Requirement already satisfied: python-dateutil>=2.7 in c:\\users\\prash\\appdata\\local\\programs\\python\\python39\\lib\\site-packages (from matplotlib!=3.0.0,>=2.0.0->scikit-image) (2.8.2)\n",
      "Requirement already satisfied: kiwisolver>=1.0.1 in c:\\users\\prash\\appdata\\local\\programs\\python\\python39\\lib\\site-packages (from matplotlib!=3.0.0,>=2.0.0->scikit-image) (1.3.1)\n",
      "Requirement already satisfied: cycler>=0.10 in c:\\users\\prash\\appdata\\local\\programs\\python\\python39\\lib\\site-packages (from matplotlib!=3.0.0,>=2.0.0->scikit-image) (0.10.0)\n",
      "Requirement already satisfied: pyparsing>=2.2.1 in c:\\users\\prash\\appdata\\local\\programs\\python\\python39\\lib\\site-packages (from matplotlib!=3.0.0,>=2.0.0->scikit-image) (2.4.7)\n",
      "Requirement already satisfied: six in c:\\users\\prash\\appdata\\local\\programs\\python\\python39\\lib\\site-packages (from cycler>=0.10->matplotlib!=3.0.0,>=2.0.0->scikit-image) (1.15.0)\n",
      "Requirement already satisfied: decorator<5,>=4.3 in c:\\users\\prash\\appdata\\local\\programs\\python\\python39\\lib\\site-packages (from networkx>=2.0->scikit-image) (4.4.2)\n"
     ]
    },
    {
     "name": "stderr",
     "output_type": "stream",
     "text": [
      "WARNING: You are using pip version 21.1.3; however, version 21.2.4 is available.\n",
      "You should consider upgrading via the 'c:\\users\\prash\\appdata\\local\\programs\\python\\python39\\python.exe -m pip install --upgrade pip' command.\n"
     ]
    },
    {
     "name": "stdout",
     "output_type": "stream",
     "text": [
      "Collecting skimage\n",
      "  Using cached skimage-0.0.tar.gz (757 bytes)\n"
     ]
    },
    {
     "name": "stderr",
     "output_type": "stream",
     "text": [
      "    ERROR: Command errored out with exit status 1:\n",
      "     command: 'c:\\users\\prash\\appdata\\local\\programs\\python\\python39\\python.exe' -c 'import io, os, sys, setuptools, tokenize; sys.argv[0] = '\"'\"'C:\\\\Users\\\\prash\\\\AppData\\\\Local\\\\Temp\\\\pip-install-2ng_3_ry\\\\skimage_17ba493a449540e694228546d4e1d306\\\\setup.py'\"'\"'; __file__='\"'\"'C:\\\\Users\\\\prash\\\\AppData\\\\Local\\\\Temp\\\\pip-install-2ng_3_ry\\\\skimage_17ba493a449540e694228546d4e1d306\\\\setup.py'\"'\"';f = getattr(tokenize, '\"'\"'open'\"'\"', open)(__file__) if os.path.exists(__file__) else io.StringIO('\"'\"'from setuptools import setup; setup()'\"'\"');code = f.read().replace('\"'\"'\\r\\n'\"'\"', '\"'\"'\\n'\"'\"');f.close();exec(compile(code, __file__, '\"'\"'exec'\"'\"'))' egg_info --egg-base 'C:\\Users\\prash\\AppData\\Local\\Temp\\pip-pip-egg-info-4l3ffcnr'\n",
      "         cwd: C:\\Users\\prash\\AppData\\Local\\Temp\\pip-install-2ng_3_ry\\skimage_17ba493a449540e694228546d4e1d306\\\n",
      "    Complete output (3 lines):\n",
      "    \n",
      "    *** Please install the `scikit-image` package (instead of `skimage`) ***\n",
      "    \n",
      "    ----------------------------------------\n",
      "WARNING: Discarding https://files.pythonhosted.org/packages/3b/ee/edbfa69ba7b7d9726e634bfbeefd04b5a1764e9e74867ec916113eeaf4a1/skimage-0.0.tar.gz#sha256=6c96a11d9deea68489c9b80b38fad1dcdab582c36d4fa093b99b24a3b30c38ec (from https://pypi.org/simple/skimage/). Command errored out with exit status 1: python setup.py egg_info Check the logs for full command output.\n",
      "ERROR: Could not find a version that satisfies the requirement skimage (from versions: 0.0)\n",
      "ERROR: No matching distribution found for skimage\n",
      "WARNING: You are using pip version 21.1.3; however, version 21.2.4 is available.\n",
      "You should consider upgrading via the 'c:\\users\\prash\\appdata\\local\\programs\\python\\python39\\python.exe -m pip install --upgrade pip' command.\n"
     ]
    }
   ],
   "source": [
    "import sys\n",
    "\n",
    "!{sys.executable} -m pip install numpy\n",
    "!{sys.executable} -m pip install pandas\n",
    "!{sys.executable} -m pip install matplotlib\n",
    "!{sys.executable} -m pip install scikit-image\n",
    "!{sys.executable} -m pip install skimage"
   ]
  },
  {
   "cell_type": "code",
   "execution_count": 2,
   "metadata": {
    "_cell_guid": "b1076dfc-b9ad-4769-8c92-a6c4dae69d19",
    "_uuid": "8f2839f25d086af736a60e9eeb907d3b93b6e0e5",
    "execution": {
     "iopub.execute_input": "2021-07-21T10:08:46.577843Z",
     "iopub.status.busy": "2021-07-21T10:08:46.577461Z",
     "iopub.status.idle": "2021-07-21T10:08:47.610616Z",
     "shell.execute_reply": "2021-07-21T10:08:47.609526Z",
     "shell.execute_reply.started": "2021-07-21T10:08:46.577808Z"
    }
   },
   "outputs": [],
   "source": [
    "import numpy as np \n",
    "import pandas as pd\n",
    "import matplotlib.pylab as plt\n",
    "import matplotlib.pyplot as plt2\n",
    "import os\n",
    "from os import listdir\n",
    "from os.path import isfile, join\n",
    "from skimage import io\n",
    "import random\n",
    "#import zipfile\n",
    "#from numba import jit"
   ]
  },
  {
   "cell_type": "markdown",
   "metadata": {},
   "source": [
    "## <font color=red>1. </font>Cargar las imágenes y los datos tabulares (CSV) "
   ]
  },
  {
   "cell_type": "code",
   "execution_count": 3,
   "metadata": {
    "_cell_guid": "79c7e3d0-c299-4dcb-8224-4455121ee9b0",
    "_uuid": "d629ff2d2480ee46fbb7e2d37f6b5fab8052498a",
    "execution": {
     "iopub.execute_input": "2021-07-21T10:08:47.614865Z",
     "iopub.status.busy": "2021-07-21T10:08:47.614587Z",
     "iopub.status.idle": "2021-07-21T10:09:17.633902Z",
     "shell.execute_reply": "2021-07-21T10:09:17.633082Z",
     "shell.execute_reply.started": "2021-07-21T10:08:47.614837Z"
    }
   },
   "outputs": [],
   "source": [
    "# Original images directories\n",
    "#dir_train_images = \"../input/siim-isic-melanoma-classification/train/\"\n",
    "#train_images = [f for f in listdir(dir_train_images) if isfile(join(dir_train_images, f))]\n",
    "#dir_test_images = \"../input/siim-isic-melanoma-classification/test/\"\n",
    "#test_images = [f for f in listdir(dir_test_images) if isfile(join(dir_test_images, f))]\n",
    "\n",
    "# Resized images directories\n",
    "dir_resized_train_images = \"data/train_jpg224x224/\"\n",
    "train_resized_images = [f for f in listdir(dir_resized_train_images) if isfile(join(dir_resized_train_images, f))]\n",
    "dir_resized_test_images = \"data/test_jpg224x224/\"\n",
    "test_resized_images = [f for f in listdir(dir_resized_test_images) if isfile(join(dir_resized_test_images, f))]"
   ]
  },
  {
   "cell_type": "code",
   "execution_count": 4,
   "metadata": {
    "execution": {
     "iopub.execute_input": "2021-07-21T10:09:17.636105Z",
     "iopub.status.busy": "2021-07-21T10:09:17.635830Z",
     "iopub.status.idle": "2021-07-21T10:09:17.739254Z",
     "shell.execute_reply": "2021-07-21T10:09:17.738510Z",
     "shell.execute_reply.started": "2021-07-21T10:09:17.636078Z"
    }
   },
   "outputs": [],
   "source": [
    "train_df = pd.read_csv('data/siim-isic-melanoma-classification/train.csv')\n",
    "test_df = pd.read_csv('data/siim-isic-melanoma-classification/test.csv')"
   ]
  },
  {
   "cell_type": "code",
   "execution_count": 5,
   "metadata": {
    "execution": {
     "iopub.execute_input": "2021-07-21T10:09:17.741385Z",
     "iopub.status.busy": "2021-07-21T10:09:17.741123Z",
     "iopub.status.idle": "2021-07-21T10:09:17.766744Z",
     "shell.execute_reply": "2021-07-21T10:09:17.765298Z",
     "shell.execute_reply.started": "2021-07-21T10:09:17.741359Z"
    }
   },
   "outputs": [
    {
     "data": {
      "text/html": [
       "<div>\n",
       "<style scoped>\n",
       "    .dataframe tbody tr th:only-of-type {\n",
       "        vertical-align: middle;\n",
       "    }\n",
       "\n",
       "    .dataframe tbody tr th {\n",
       "        vertical-align: top;\n",
       "    }\n",
       "\n",
       "    .dataframe thead th {\n",
       "        text-align: right;\n",
       "    }\n",
       "</style>\n",
       "<table border=\"1\" class=\"dataframe\">\n",
       "  <thead>\n",
       "    <tr style=\"text-align: right;\">\n",
       "      <th></th>\n",
       "      <th>image_name</th>\n",
       "      <th>patient_id</th>\n",
       "      <th>sex</th>\n",
       "      <th>age_approx</th>\n",
       "      <th>anatom_site_general_challenge</th>\n",
       "      <th>diagnosis</th>\n",
       "      <th>benign_malignant</th>\n",
       "      <th>target</th>\n",
       "    </tr>\n",
       "  </thead>\n",
       "  <tbody>\n",
       "    <tr>\n",
       "      <th>0</th>\n",
       "      <td>ISIC_2637011</td>\n",
       "      <td>IP_7279968</td>\n",
       "      <td>male</td>\n",
       "      <td>45.0</td>\n",
       "      <td>head/neck</td>\n",
       "      <td>unknown</td>\n",
       "      <td>benign</td>\n",
       "      <td>0</td>\n",
       "    </tr>\n",
       "    <tr>\n",
       "      <th>1</th>\n",
       "      <td>ISIC_0015719</td>\n",
       "      <td>IP_3075186</td>\n",
       "      <td>female</td>\n",
       "      <td>45.0</td>\n",
       "      <td>upper extremity</td>\n",
       "      <td>unknown</td>\n",
       "      <td>benign</td>\n",
       "      <td>0</td>\n",
       "    </tr>\n",
       "    <tr>\n",
       "      <th>2</th>\n",
       "      <td>ISIC_0052212</td>\n",
       "      <td>IP_2842074</td>\n",
       "      <td>female</td>\n",
       "      <td>50.0</td>\n",
       "      <td>lower extremity</td>\n",
       "      <td>nevus</td>\n",
       "      <td>benign</td>\n",
       "      <td>0</td>\n",
       "    </tr>\n",
       "    <tr>\n",
       "      <th>3</th>\n",
       "      <td>ISIC_0068279</td>\n",
       "      <td>IP_6890425</td>\n",
       "      <td>female</td>\n",
       "      <td>45.0</td>\n",
       "      <td>head/neck</td>\n",
       "      <td>unknown</td>\n",
       "      <td>benign</td>\n",
       "      <td>0</td>\n",
       "    </tr>\n",
       "    <tr>\n",
       "      <th>4</th>\n",
       "      <td>ISIC_0074268</td>\n",
       "      <td>IP_8723313</td>\n",
       "      <td>female</td>\n",
       "      <td>55.0</td>\n",
       "      <td>upper extremity</td>\n",
       "      <td>unknown</td>\n",
       "      <td>benign</td>\n",
       "      <td>0</td>\n",
       "    </tr>\n",
       "  </tbody>\n",
       "</table>\n",
       "</div>"
      ],
      "text/plain": [
       "     image_name  patient_id     sex  age_approx anatom_site_general_challenge  \\\n",
       "0  ISIC_2637011  IP_7279968    male        45.0                     head/neck   \n",
       "1  ISIC_0015719  IP_3075186  female        45.0               upper extremity   \n",
       "2  ISIC_0052212  IP_2842074  female        50.0               lower extremity   \n",
       "3  ISIC_0068279  IP_6890425  female        45.0                     head/neck   \n",
       "4  ISIC_0074268  IP_8723313  female        55.0               upper extremity   \n",
       "\n",
       "  diagnosis benign_malignant  target  \n",
       "0   unknown           benign       0  \n",
       "1   unknown           benign       0  \n",
       "2     nevus           benign       0  \n",
       "3   unknown           benign       0  \n",
       "4   unknown           benign       0  "
      ]
     },
     "execution_count": 5,
     "metadata": {},
     "output_type": "execute_result"
    }
   ],
   "source": [
    "train_df.head()"
   ]
  },
  {
   "cell_type": "code",
   "execution_count": 6,
   "metadata": {
    "execution": {
     "iopub.execute_input": "2021-07-21T10:09:17.768831Z",
     "iopub.status.busy": "2021-07-21T10:09:17.768340Z",
     "iopub.status.idle": "2021-07-21T10:09:17.792644Z",
     "shell.execute_reply": "2021-07-21T10:09:17.791804Z",
     "shell.execute_reply.started": "2021-07-21T10:09:17.768791Z"
    }
   },
   "outputs": [],
   "source": [
    "def append_ext(filename):\n",
    "    return filename + \".jpg\"\n",
    "\n",
    "train_df[\"image_name\"] = train_df[\"image_name\"].apply(append_ext)\n",
    "test_df[\"image_name\"] = test_df[\"image_name\"].apply(append_ext)"
   ]
  },
  {
   "cell_type": "code",
   "execution_count": 7,
   "metadata": {
    "execution": {
     "iopub.execute_input": "2021-07-21T10:09:17.794245Z",
     "iopub.status.busy": "2021-07-21T10:09:17.793875Z",
     "iopub.status.idle": "2021-07-21T10:09:17.808235Z",
     "shell.execute_reply": "2021-07-21T10:09:17.807108Z",
     "shell.execute_reply.started": "2021-07-21T10:09:17.794207Z"
    }
   },
   "outputs": [
    {
     "data": {
      "text/html": [
       "<div>\n",
       "<style scoped>\n",
       "    .dataframe tbody tr th:only-of-type {\n",
       "        vertical-align: middle;\n",
       "    }\n",
       "\n",
       "    .dataframe tbody tr th {\n",
       "        vertical-align: top;\n",
       "    }\n",
       "\n",
       "    .dataframe thead th {\n",
       "        text-align: right;\n",
       "    }\n",
       "</style>\n",
       "<table border=\"1\" class=\"dataframe\">\n",
       "  <thead>\n",
       "    <tr style=\"text-align: right;\">\n",
       "      <th></th>\n",
       "      <th>image_name</th>\n",
       "      <th>patient_id</th>\n",
       "      <th>sex</th>\n",
       "      <th>age_approx</th>\n",
       "      <th>anatom_site_general_challenge</th>\n",
       "      <th>diagnosis</th>\n",
       "      <th>benign_malignant</th>\n",
       "      <th>target</th>\n",
       "    </tr>\n",
       "  </thead>\n",
       "  <tbody>\n",
       "    <tr>\n",
       "      <th>0</th>\n",
       "      <td>ISIC_2637011.jpg</td>\n",
       "      <td>IP_7279968</td>\n",
       "      <td>male</td>\n",
       "      <td>45.0</td>\n",
       "      <td>head/neck</td>\n",
       "      <td>unknown</td>\n",
       "      <td>benign</td>\n",
       "      <td>0</td>\n",
       "    </tr>\n",
       "    <tr>\n",
       "      <th>1</th>\n",
       "      <td>ISIC_0015719.jpg</td>\n",
       "      <td>IP_3075186</td>\n",
       "      <td>female</td>\n",
       "      <td>45.0</td>\n",
       "      <td>upper extremity</td>\n",
       "      <td>unknown</td>\n",
       "      <td>benign</td>\n",
       "      <td>0</td>\n",
       "    </tr>\n",
       "    <tr>\n",
       "      <th>2</th>\n",
       "      <td>ISIC_0052212.jpg</td>\n",
       "      <td>IP_2842074</td>\n",
       "      <td>female</td>\n",
       "      <td>50.0</td>\n",
       "      <td>lower extremity</td>\n",
       "      <td>nevus</td>\n",
       "      <td>benign</td>\n",
       "      <td>0</td>\n",
       "    </tr>\n",
       "    <tr>\n",
       "      <th>3</th>\n",
       "      <td>ISIC_0068279.jpg</td>\n",
       "      <td>IP_6890425</td>\n",
       "      <td>female</td>\n",
       "      <td>45.0</td>\n",
       "      <td>head/neck</td>\n",
       "      <td>unknown</td>\n",
       "      <td>benign</td>\n",
       "      <td>0</td>\n",
       "    </tr>\n",
       "    <tr>\n",
       "      <th>4</th>\n",
       "      <td>ISIC_0074268.jpg</td>\n",
       "      <td>IP_8723313</td>\n",
       "      <td>female</td>\n",
       "      <td>55.0</td>\n",
       "      <td>upper extremity</td>\n",
       "      <td>unknown</td>\n",
       "      <td>benign</td>\n",
       "      <td>0</td>\n",
       "    </tr>\n",
       "  </tbody>\n",
       "</table>\n",
       "</div>"
      ],
      "text/plain": [
       "         image_name  patient_id     sex  age_approx  \\\n",
       "0  ISIC_2637011.jpg  IP_7279968    male        45.0   \n",
       "1  ISIC_0015719.jpg  IP_3075186  female        45.0   \n",
       "2  ISIC_0052212.jpg  IP_2842074  female        50.0   \n",
       "3  ISIC_0068279.jpg  IP_6890425  female        45.0   \n",
       "4  ISIC_0074268.jpg  IP_8723313  female        55.0   \n",
       "\n",
       "  anatom_site_general_challenge diagnosis benign_malignant  target  \n",
       "0                     head/neck   unknown           benign       0  \n",
       "1               upper extremity   unknown           benign       0  \n",
       "2               lower extremity     nevus           benign       0  \n",
       "3                     head/neck   unknown           benign       0  \n",
       "4               upper extremity   unknown           benign       0  "
      ]
     },
     "execution_count": 7,
     "metadata": {},
     "output_type": "execute_result"
    }
   ],
   "source": [
    "train_df.head()"
   ]
  },
  {
   "cell_type": "code",
   "execution_count": 8,
   "metadata": {},
   "outputs": [],
   "source": [
    "t = train_df[train_df[\"target\"] == 1]"
   ]
  },
  {
   "cell_type": "code",
   "execution_count": 9,
   "metadata": {},
   "outputs": [],
   "source": [
    "t.to_csv('out.csv', index=False)"
   ]
  },
  {
   "cell_type": "markdown",
   "metadata": {},
   "source": [
    "Use of flow_from_dataframe : https://vijayabhaskar96.medium.com/tutorial-on-keras-flow-from-dataframe-1fd4493d237c"
   ]
  },
  {
   "cell_type": "markdown",
   "metadata": {},
   "source": [
    "## <font color=red>2. </font>Exploración de datos"
   ]
  },
  {
   "cell_type": "code",
   "execution_count": 10,
   "metadata": {
    "execution": {
     "iopub.execute_input": "2021-07-21T10:09:17.810274Z",
     "iopub.status.busy": "2021-07-21T10:09:17.809867Z",
     "iopub.status.idle": "2021-07-21T10:09:17.843259Z",
     "shell.execute_reply": "2021-07-21T10:09:17.842305Z",
     "shell.execute_reply.started": "2021-07-21T10:09:17.810234Z"
    }
   },
   "outputs": [
    {
     "name": "stdout",
     "output_type": "stream",
     "text": [
      "<class 'pandas.core.frame.DataFrame'>\n",
      "RangeIndex: 33126 entries, 0 to 33125\n",
      "Data columns (total 8 columns):\n",
      " #   Column                         Non-Null Count  Dtype  \n",
      "---  ------                         --------------  -----  \n",
      " 0   image_name                     33126 non-null  object \n",
      " 1   patient_id                     33126 non-null  object \n",
      " 2   sex                            33061 non-null  object \n",
      " 3   age_approx                     33058 non-null  float64\n",
      " 4   anatom_site_general_challenge  32599 non-null  object \n",
      " 5   diagnosis                      33126 non-null  object \n",
      " 6   benign_malignant               33126 non-null  object \n",
      " 7   target                         33126 non-null  int64  \n",
      "dtypes: float64(1), int64(1), object(6)\n",
      "memory usage: 2.0+ MB\n"
     ]
    }
   ],
   "source": [
    "train_df.info()"
   ]
  },
  {
   "cell_type": "code",
   "execution_count": 11,
   "metadata": {
    "execution": {
     "iopub.execute_input": "2021-07-21T10:09:17.845097Z",
     "iopub.status.busy": "2021-07-21T10:09:17.844732Z",
     "iopub.status.idle": "2021-07-21T10:09:17.863816Z",
     "shell.execute_reply": "2021-07-21T10:09:17.862768Z",
     "shell.execute_reply.started": "2021-07-21T10:09:17.845060Z"
    }
   },
   "outputs": [
    {
     "name": "stdout",
     "output_type": "stream",
     "text": [
      "Número total de id de pacientes son: 33126  los cuales los id únicos son: 2056\n"
     ]
    }
   ],
   "source": [
    "patient_id_count = train_df['patient_id'].count()\n",
    "patient_id_unique_count = train_df['patient_id'].value_counts().shape[0]\n",
    "print(\"Número total de id de pacientes son:\", patient_id_count, \" los cuales los id únicos son:\", patient_id_unique_count)"
   ]
  },
  {
   "cell_type": "markdown",
   "metadata": {},
   "source": [
    "Vemos que hay pacientes con más de una imagen. Por lo que más adelante, para los pacientes con múltiples registros, habrá que asegurarse de que no aparezcan en los conjuntos de entrenamiento y prueba para evitar *Data Leakage*. "
   ]
  },
  {
   "cell_type": "code",
   "execution_count": 12,
   "metadata": {
    "execution": {
     "iopub.execute_input": "2021-07-21T10:09:17.866183Z",
     "iopub.status.busy": "2021-07-21T10:09:17.865697Z",
     "iopub.status.idle": "2021-07-21T10:09:18.006195Z",
     "shell.execute_reply": "2021-07-21T10:09:18.005512Z",
     "shell.execute_reply.started": "2021-07-21T10:09:17.866083Z"
    }
   },
   "outputs": [
    {
     "data": {
      "text/plain": [
       "<AxesSubplot:>"
      ]
     },
     "execution_count": 12,
     "metadata": {},
     "output_type": "execute_result"
    },
    {
     "data": {
      "image/png": "[encoded data removed]",
      "text/plain": [
       "<Figure size 432x288 with 1 Axes>"
      ]
     },
     "metadata": {
      "needs_background": "light"
     },
     "output_type": "display_data"
    }
   ],
   "source": [
    "train_df.benign_malignant.value_counts().plot.barh(color=['b', 'r'])"
   ]
  },
  {
   "cell_type": "code",
   "execution_count": 13,
   "metadata": {
    "execution": {
     "iopub.execute_input": "2021-07-21T10:09:18.007854Z",
     "iopub.status.busy": "2021-07-21T10:09:18.007425Z",
     "iopub.status.idle": "2021-07-21T10:09:18.026929Z",
     "shell.execute_reply": "2021-07-21T10:09:18.026036Z",
     "shell.execute_reply.started": "2021-07-21T10:09:18.007812Z"
    }
   },
   "outputs": [
    {
     "data": {
      "text/html": [
       "<div>\n",
       "<style scoped>\n",
       "    .dataframe tbody tr th:only-of-type {\n",
       "        vertical-align: middle;\n",
       "    }\n",
       "\n",
       "    .dataframe tbody tr th {\n",
       "        vertical-align: top;\n",
       "    }\n",
       "\n",
       "    .dataframe thead th {\n",
       "        text-align: right;\n",
       "    }\n",
       "</style>\n",
       "<table border=\"1\" class=\"dataframe\">\n",
       "  <thead>\n",
       "    <tr style=\"text-align: right;\">\n",
       "      <th></th>\n",
       "      <th>Tipo</th>\n",
       "      <th>Total de muestras</th>\n",
       "    </tr>\n",
       "  </thead>\n",
       "  <tbody>\n",
       "    <tr>\n",
       "      <th>0</th>\n",
       "      <td>benign</td>\n",
       "      <td>32542</td>\n",
       "    </tr>\n",
       "    <tr>\n",
       "      <th>1</th>\n",
       "      <td>malignant</td>\n",
       "      <td>584</td>\n",
       "    </tr>\n",
       "  </tbody>\n",
       "</table>\n",
       "</div>"
      ],
      "text/plain": [
       "        Tipo  Total de muestras\n",
       "0     benign              32542\n",
       "1  malignant                584"
      ]
     },
     "execution_count": 13,
     "metadata": {},
     "output_type": "execute_result"
    }
   ],
   "source": [
    "train_df.benign_malignant.value_counts().rename_axis('Tipo').reset_index(name='Total de muestras')"
   ]
  },
  {
   "cell_type": "markdown",
   "metadata": {},
   "source": [
    "Al representar el número de muestras de cada tipo, observamos que hay más registros benignos que de malignos. Esto es normal ya que en el mundo real la frecuencia de tumores existe más tumores benignos que malignos. Por lo que produce un desequilibrio del conjunto de datos."
   ]
  },
  {
   "cell_type": "markdown",
   "metadata": {},
   "source": [
    "A continuación, extraemos los datos faltantes del conjunto de datos de entrenamiento y de test."
   ]
  },
  {
   "cell_type": "code",
   "execution_count": 14,
   "metadata": {
    "execution": {
     "iopub.execute_input": "2021-07-21T10:09:18.029910Z",
     "iopub.status.busy": "2021-07-21T10:09:18.029442Z",
     "iopub.status.idle": "2021-07-21T10:09:18.037461Z",
     "shell.execute_reply": "2021-07-21T10:09:18.036361Z",
     "shell.execute_reply.started": "2021-07-21T10:09:18.029872Z"
    }
   },
   "outputs": [],
   "source": [
    "def missing_values(df):\n",
    "    missing_values = df.isnull().sum()\n",
    "    percentage_missing_values = 100 * df.isnull().sum() / len(df)\n",
    "    \n",
    "    missing_values_table = pd.concat([missing_values, percentage_missing_values], axis=1)\n",
    "    missing_values_table.columns = ['Missing values', '% of total missing values']\n",
    "    missing_values_table = missing_values_table.sort_values(by=['Missing values'], ascending=False)\n",
    "    \n",
    "    return missing_values_table"
   ]
  },
  {
   "cell_type": "code",
   "execution_count": 15,
   "metadata": {
    "execution": {
     "iopub.execute_input": "2021-07-21T10:09:18.042297Z",
     "iopub.status.busy": "2021-07-21T10:09:18.041982Z",
     "iopub.status.idle": "2021-07-21T10:09:18.106412Z",
     "shell.execute_reply": "2021-07-21T10:09:18.105533Z",
     "shell.execute_reply.started": "2021-07-21T10:09:18.042264Z"
    }
   },
   "outputs": [
    {
     "data": {
      "text/html": [
       "<div>\n",
       "<style scoped>\n",
       "    .dataframe tbody tr th:only-of-type {\n",
       "        vertical-align: middle;\n",
       "    }\n",
       "\n",
       "    .dataframe tbody tr th {\n",
       "        vertical-align: top;\n",
       "    }\n",
       "\n",
       "    .dataframe thead th {\n",
       "        text-align: right;\n",
       "    }\n",
       "</style>\n",
       "<table border=\"1\" class=\"dataframe\">\n",
       "  <thead>\n",
       "    <tr style=\"text-align: right;\">\n",
       "      <th></th>\n",
       "      <th>Missing values</th>\n",
       "      <th>% of total missing values</th>\n",
       "    </tr>\n",
       "  </thead>\n",
       "  <tbody>\n",
       "    <tr>\n",
       "      <th>anatom_site_general_challenge</th>\n",
       "      <td>527</td>\n",
       "      <td>1.590895</td>\n",
       "    </tr>\n",
       "    <tr>\n",
       "      <th>age_approx</th>\n",
       "      <td>68</td>\n",
       "      <td>0.205277</td>\n",
       "    </tr>\n",
       "    <tr>\n",
       "      <th>sex</th>\n",
       "      <td>65</td>\n",
       "      <td>0.196220</td>\n",
       "    </tr>\n",
       "    <tr>\n",
       "      <th>image_name</th>\n",
       "      <td>0</td>\n",
       "      <td>0.000000</td>\n",
       "    </tr>\n",
       "    <tr>\n",
       "      <th>patient_id</th>\n",
       "      <td>0</td>\n",
       "      <td>0.000000</td>\n",
       "    </tr>\n",
       "    <tr>\n",
       "      <th>diagnosis</th>\n",
       "      <td>0</td>\n",
       "      <td>0.000000</td>\n",
       "    </tr>\n",
       "    <tr>\n",
       "      <th>benign_malignant</th>\n",
       "      <td>0</td>\n",
       "      <td>0.000000</td>\n",
       "    </tr>\n",
       "    <tr>\n",
       "      <th>target</th>\n",
       "      <td>0</td>\n",
       "      <td>0.000000</td>\n",
       "    </tr>\n",
       "  </tbody>\n",
       "</table>\n",
       "</div>"
      ],
      "text/plain": [
       "                               Missing values  % of total missing values\n",
       "anatom_site_general_challenge             527                   1.590895\n",
       "age_approx                                 68                   0.205277\n",
       "sex                                        65                   0.196220\n",
       "image_name                                  0                   0.000000\n",
       "patient_id                                  0                   0.000000\n",
       "diagnosis                                   0                   0.000000\n",
       "benign_malignant                            0                   0.000000\n",
       "target                                      0                   0.000000"
      ]
     },
     "execution_count": 15,
     "metadata": {},
     "output_type": "execute_result"
    }
   ],
   "source": [
    "missing_values(train_df)"
   ]
  },
  {
   "cell_type": "code",
   "execution_count": 16,
   "metadata": {
    "execution": {
     "iopub.execute_input": "2021-07-21T10:09:18.108192Z",
     "iopub.status.busy": "2021-07-21T10:09:18.107843Z",
     "iopub.status.idle": "2021-07-21T10:09:18.129097Z",
     "shell.execute_reply": "2021-07-21T10:09:18.128284Z",
     "shell.execute_reply.started": "2021-07-21T10:09:18.108161Z"
    },
    "scrolled": true
   },
   "outputs": [
    {
     "data": {
      "text/html": [
       "<div>\n",
       "<style scoped>\n",
       "    .dataframe tbody tr th:only-of-type {\n",
       "        vertical-align: middle;\n",
       "    }\n",
       "\n",
       "    .dataframe tbody tr th {\n",
       "        vertical-align: top;\n",
       "    }\n",
       "\n",
       "    .dataframe thead th {\n",
       "        text-align: right;\n",
       "    }\n",
       "</style>\n",
       "<table border=\"1\" class=\"dataframe\">\n",
       "  <thead>\n",
       "    <tr style=\"text-align: right;\">\n",
       "      <th></th>\n",
       "      <th>Missing values</th>\n",
       "      <th>% of total missing values</th>\n",
       "    </tr>\n",
       "  </thead>\n",
       "  <tbody>\n",
       "    <tr>\n",
       "      <th>anatom_site_general_challenge</th>\n",
       "      <td>351</td>\n",
       "      <td>3.196139</td>\n",
       "    </tr>\n",
       "    <tr>\n",
       "      <th>image_name</th>\n",
       "      <td>0</td>\n",
       "      <td>0.000000</td>\n",
       "    </tr>\n",
       "    <tr>\n",
       "      <th>patient_id</th>\n",
       "      <td>0</td>\n",
       "      <td>0.000000</td>\n",
       "    </tr>\n",
       "    <tr>\n",
       "      <th>sex</th>\n",
       "      <td>0</td>\n",
       "      <td>0.000000</td>\n",
       "    </tr>\n",
       "    <tr>\n",
       "      <th>age_approx</th>\n",
       "      <td>0</td>\n",
       "      <td>0.000000</td>\n",
       "    </tr>\n",
       "  </tbody>\n",
       "</table>\n",
       "</div>"
      ],
      "text/plain": [
       "                               Missing values  % of total missing values\n",
       "anatom_site_general_challenge             351                   3.196139\n",
       "image_name                                  0                   0.000000\n",
       "patient_id                                  0                   0.000000\n",
       "sex                                         0                   0.000000\n",
       "age_approx                                  0                   0.000000"
      ]
     },
     "execution_count": 16,
     "metadata": {},
     "output_type": "execute_result"
    }
   ],
   "source": [
    "missing_values(test_df)"
   ]
  },
  {
   "cell_type": "markdown",
   "metadata": {},
   "source": [
    "Se opta por eliminar los registros faltantes ya que son minúsculos:"
   ]
  },
  {
   "cell_type": "code",
   "execution_count": 17,
   "metadata": {
    "execution": {
     "iopub.execute_input": "2021-07-21T10:09:18.130835Z",
     "iopub.status.busy": "2021-07-21T10:09:18.130330Z",
     "iopub.status.idle": "2021-07-21T10:09:18.201989Z",
     "shell.execute_reply": "2021-07-21T10:09:18.201143Z",
     "shell.execute_reply.started": "2021-07-21T10:09:18.130796Z"
    }
   },
   "outputs": [
    {
     "data": {
      "text/html": [
       "<div>\n",
       "<style scoped>\n",
       "    .dataframe tbody tr th:only-of-type {\n",
       "        vertical-align: middle;\n",
       "    }\n",
       "\n",
       "    .dataframe tbody tr th {\n",
       "        vertical-align: top;\n",
       "    }\n",
       "\n",
       "    .dataframe thead th {\n",
       "        text-align: right;\n",
       "    }\n",
       "</style>\n",
       "<table border=\"1\" class=\"dataframe\">\n",
       "  <thead>\n",
       "    <tr style=\"text-align: right;\">\n",
       "      <th></th>\n",
       "      <th>Missing values</th>\n",
       "      <th>% of total missing values</th>\n",
       "    </tr>\n",
       "  </thead>\n",
       "  <tbody>\n",
       "    <tr>\n",
       "      <th>image_name</th>\n",
       "      <td>0</td>\n",
       "      <td>0.0</td>\n",
       "    </tr>\n",
       "    <tr>\n",
       "      <th>patient_id</th>\n",
       "      <td>0</td>\n",
       "      <td>0.0</td>\n",
       "    </tr>\n",
       "    <tr>\n",
       "      <th>sex</th>\n",
       "      <td>0</td>\n",
       "      <td>0.0</td>\n",
       "    </tr>\n",
       "    <tr>\n",
       "      <th>age_approx</th>\n",
       "      <td>0</td>\n",
       "      <td>0.0</td>\n",
       "    </tr>\n",
       "    <tr>\n",
       "      <th>anatom_site_general_challenge</th>\n",
       "      <td>0</td>\n",
       "      <td>0.0</td>\n",
       "    </tr>\n",
       "    <tr>\n",
       "      <th>diagnosis</th>\n",
       "      <td>0</td>\n",
       "      <td>0.0</td>\n",
       "    </tr>\n",
       "    <tr>\n",
       "      <th>benign_malignant</th>\n",
       "      <td>0</td>\n",
       "      <td>0.0</td>\n",
       "    </tr>\n",
       "    <tr>\n",
       "      <th>target</th>\n",
       "      <td>0</td>\n",
       "      <td>0.0</td>\n",
       "    </tr>\n",
       "  </tbody>\n",
       "</table>\n",
       "</div>"
      ],
      "text/plain": [
       "                               Missing values  % of total missing values\n",
       "image_name                                  0                        0.0\n",
       "patient_id                                  0                        0.0\n",
       "sex                                         0                        0.0\n",
       "age_approx                                  0                        0.0\n",
       "anatom_site_general_challenge               0                        0.0\n",
       "diagnosis                                   0                        0.0\n",
       "benign_malignant                            0                        0.0\n",
       "target                                      0                        0.0"
      ]
     },
     "execution_count": 17,
     "metadata": {},
     "output_type": "execute_result"
    }
   ],
   "source": [
    "train_df = train_df.dropna()\n",
    "missing_values(train_df)"
   ]
  },
  {
   "cell_type": "code",
   "execution_count": 68,
   "metadata": {},
   "outputs": [
    {
     "data": {
      "text/html": [
       "<div>\n",
       "<style scoped>\n",
       "    .dataframe tbody tr th:only-of-type {\n",
       "        vertical-align: middle;\n",
       "    }\n",
       "\n",
       "    .dataframe tbody tr th {\n",
       "        vertical-align: top;\n",
       "    }\n",
       "\n",
       "    .dataframe thead th {\n",
       "        text-align: right;\n",
       "    }\n",
       "</style>\n",
       "<table border=\"1\" class=\"dataframe\">\n",
       "  <thead>\n",
       "    <tr style=\"text-align: right;\">\n",
       "      <th></th>\n",
       "      <th>Tipo</th>\n",
       "      <th>Total de muestras</th>\n",
       "    </tr>\n",
       "  </thead>\n",
       "  <tbody>\n",
       "    <tr>\n",
       "      <th>0</th>\n",
       "      <td>benign</td>\n",
       "      <td>31956</td>\n",
       "    </tr>\n",
       "    <tr>\n",
       "      <th>1</th>\n",
       "      <td>malignant</td>\n",
       "      <td>575</td>\n",
       "    </tr>\n",
       "  </tbody>\n",
       "</table>\n",
       "</div>"
      ],
      "text/plain": [
       "        Tipo  Total de muestras\n",
       "0     benign              31956\n",
       "1  malignant                575"
      ]
     },
     "execution_count": 68,
     "metadata": {},
     "output_type": "execute_result"
    }
   ],
   "source": [
    "train_df.benign_malignant.value_counts().rename_axis('Tipo').reset_index(name='Total de muestras')"
   ]
  },
  {
   "cell_type": "markdown",
   "metadata": {},
   "source": [
    "Visualizamos de qué parte del cuerpo provienen la mayoría de las imágenes del conjunto de entrenamiento:"
   ]
  },
  {
   "cell_type": "code",
   "execution_count": 18,
   "metadata": {
    "execution": {
     "iopub.execute_input": "2021-07-21T10:09:18.203991Z",
     "iopub.status.busy": "2021-07-21T10:09:18.203607Z",
     "iopub.status.idle": "2021-07-21T10:09:18.335908Z",
     "shell.execute_reply": "2021-07-21T10:09:18.335038Z",
     "shell.execute_reply.started": "2021-07-21T10:09:18.203952Z"
    }
   },
   "outputs": [
    {
     "data": {
      "text/plain": [
       "<AxesSubplot:>"
      ]
     },
     "execution_count": 18,
     "metadata": {},
     "output_type": "execute_result"
    },
    {
     "data": {
      "image/png": "[encoded data removed]",
      "text/plain": [
       "<Figure size 432x288 with 1 Axes>"
      ]
     },
     "metadata": {
      "needs_background": "light"
     },
     "output_type": "display_data"
    }
   ],
   "source": [
    "train_df.anatom_site_general_challenge.value_counts().plot.barh(color=['b', 'r', 'y', 'g', 'c', 'm'])"
   ]
  },
  {
   "cell_type": "markdown",
   "metadata": {},
   "source": [
    "Vemos que hay un desequilibrio en las partes del cuerpo en el cual se han extraído las imágenes, siendo el más común el torso."
   ]
  },
  {
   "cell_type": "code",
   "execution_count": 19,
   "metadata": {
    "execution": {
     "iopub.execute_input": "2021-07-21T10:09:18.337905Z",
     "iopub.status.busy": "2021-07-21T10:09:18.337525Z",
     "iopub.status.idle": "2021-07-21T10:09:18.552286Z",
     "shell.execute_reply": "2021-07-21T10:09:18.551622Z",
     "shell.execute_reply.started": "2021-07-21T10:09:18.337866Z"
    }
   },
   "outputs": [
    {
     "data": {
      "text/plain": [
       "<AxesSubplot:>"
      ]
     },
     "execution_count": 19,
     "metadata": {},
     "output_type": "execute_result"
    },
    {
     "data": {
      "image/png": "[encoded data removed]",
      "text/plain": [
       "<Figure size 432x288 with 1 Axes>"
      ]
     },
     "metadata": {
      "needs_background": "light"
     },
     "output_type": "display_data"
    }
   ],
   "source": [
    "train_df.diagnosis.value_counts().plot.barh(color=['b', 'r', 'y', 'g', 'c', 'm'])"
   ]
  },
  {
   "cell_type": "code",
   "execution_count": 20,
   "metadata": {
    "execution": {
     "iopub.execute_input": "2021-07-21T10:09:18.553780Z",
     "iopub.status.busy": "2021-07-21T10:09:18.553416Z",
     "iopub.status.idle": "2021-07-21T10:09:18.671460Z",
     "shell.execute_reply": "2021-07-21T10:09:18.670640Z",
     "shell.execute_reply.started": "2021-07-21T10:09:18.553751Z"
    }
   },
   "outputs": [
    {
     "data": {
      "text/plain": [
       "<AxesSubplot:>"
      ]
     },
     "execution_count": 20,
     "metadata": {},
     "output_type": "execute_result"
    },
    {
     "data": {
      "image/png": "[encoded data removed]",
      "text/plain": [
       "<Figure size 432x288 with 1 Axes>"
      ]
     },
     "metadata": {
      "needs_background": "light"
     },
     "output_type": "display_data"
    }
   ],
   "source": [
    "train_df.sex.value_counts().plot.bar(color=['y', 'm'])"
   ]
  },
  {
   "cell_type": "markdown",
   "metadata": {},
   "source": [
    "La distribución del género está equilibrada."
   ]
  },
  {
   "cell_type": "code",
   "execution_count": 21,
   "metadata": {
    "execution": {
     "iopub.execute_input": "2021-07-21T10:09:18.673557Z",
     "iopub.status.busy": "2021-07-21T10:09:18.673187Z",
     "iopub.status.idle": "2021-07-21T10:09:18.815721Z",
     "shell.execute_reply": "2021-07-21T10:09:18.814760Z",
     "shell.execute_reply.started": "2021-07-21T10:09:18.673518Z"
    }
   },
   "outputs": [
    {
     "data": {
      "text/plain": [
       "<AxesSubplot:>"
      ]
     },
     "execution_count": 21,
     "metadata": {},
     "output_type": "execute_result"
    },
    {
     "data": {
      "image/png": "[encoded data removed]",
      "text/plain": [
       "<Figure size 432x288 with 1 Axes>"
      ]
     },
     "metadata": {
      "needs_background": "light"
     },
     "output_type": "display_data"
    }
   ],
   "source": [
    "train_df.age_approx.hist(bins=len(train_df['age_approx'].unique()))"
   ]
  },
  {
   "cell_type": "markdown",
   "metadata": {},
   "source": [
    "Podemos ver que las personas de mediana edad tienen más probabilidades de contraer melanoma (y cáncer en general, como han demostrado los estudios)."
   ]
  },
  {
   "cell_type": "code",
   "execution_count": 22,
   "metadata": {
    "execution": {
     "iopub.execute_input": "2021-07-21T10:09:18.817645Z",
     "iopub.status.busy": "2021-07-21T10:09:18.817257Z",
     "iopub.status.idle": "2021-07-21T10:09:18.826357Z",
     "shell.execute_reply": "2021-07-21T10:09:18.825330Z",
     "shell.execute_reply.started": "2021-07-21T10:09:18.817605Z"
    }
   },
   "outputs": [
    {
     "name": "stdout",
     "output_type": "stream",
     "text": [
      "Train shape: (32531, 8)\n",
      "Test shape: (10982, 5)\n"
     ]
    }
   ],
   "source": [
    "print(\"Train shape:\", train_df.shape)\n",
    "print(\"Test shape:\", test_df.shape)"
   ]
  },
  {
   "cell_type": "markdown",
   "metadata": {},
   "source": [
    "## <font color=red>3.1 </font>Preprocesamiento de datos con JPEG"
   ]
  },
  {
   "cell_type": "markdown",
   "metadata": {},
   "source": [
    "Crea un directorio 'dataset/train' y subdirectorios '0'(benigno) y '1'(maligno)"
   ]
  },
  {
   "cell_type": "code",
   "execution_count": 74,
   "metadata": {},
   "outputs": [],
   "source": [
    "os.makedirs(\"dataset/train\")\n",
    "file_path = \"dataset/train/\"\n",
    "all_target = list(set(train_df[\"target\"]))\n",
    "\n",
    "for x in all_target:\n",
    "    os.mkdir(file_path + str(x))"
   ]
  },
  {
   "cell_type": "code",
   "execution_count": 75,
   "metadata": {},
   "outputs": [],
   "source": [
    "dictionary = train_df.set_index(\"image_name\")[\"target\"].to_dict()"
   ]
  },
  {
   "cell_type": "code",
   "execution_count": 76,
   "metadata": {},
   "outputs": [],
   "source": [
    "import shutil\n",
    "\n",
    "for x in dictionary:\n",
    "    # Get image from the original directory\n",
    "    filename = \"data/train_jpg224x224/\" + str(x)\n",
    "    shutil.copy(filename, file_path + str(dictionary[x]))"
   ]
  },
  {
   "cell_type": "markdown",
   "metadata": {},
   "source": [
    "----------------------------------------"
   ]
  },
  {
   "cell_type": "code",
   "execution_count": 21,
   "metadata": {
    "execution": {
     "iopub.execute_input": "2021-07-21T10:09:18.828053Z",
     "iopub.status.busy": "2021-07-21T10:09:18.827634Z",
     "iopub.status.idle": "2021-07-21T10:09:18.833616Z",
     "shell.execute_reply": "2021-07-21T10:09:18.832331Z",
     "shell.execute_reply.started": "2021-07-21T10:09:18.827973Z"
    }
   },
   "outputs": [],
   "source": [
    "PATH = 'dataset'"
   ]
  },
  {
   "cell_type": "code",
   "execution_count": 22,
   "metadata": {
    "execution": {
     "iopub.execute_input": "2021-07-21T10:09:18.835478Z",
     "iopub.status.busy": "2021-07-21T10:09:18.835100Z",
     "iopub.status.idle": "2021-07-21T10:09:18.859942Z",
     "shell.execute_reply": "2021-07-21T10:09:18.859290Z",
     "shell.execute_reply.started": "2021-07-21T10:09:18.835439Z"
    }
   },
   "outputs": [],
   "source": [
    "train_images_jpeg = os.listdir(f'{PATH}/train_jpg224x224')\n",
    "test_images_jpeg = os.listdir(f'{PATH}/test_jpg224x224')"
   ]
  },
  {
   "cell_type": "code",
   "execution_count": 23,
   "metadata": {
    "execution": {
     "iopub.execute_input": "2021-07-21T10:09:18.861639Z",
     "iopub.status.busy": "2021-07-21T10:09:18.861227Z",
     "iopub.status.idle": "2021-07-21T10:09:19.506225Z",
     "shell.execute_reply": "2021-07-21T10:09:19.505278Z",
     "shell.execute_reply.started": "2021-07-21T10:09:18.861600Z"
    }
   },
   "outputs": [
    {
     "data": {
      "image/png": "[encoded data removed]",
      "text/plain": [
       "<Figure size 1152x288 with 16 Axes>"
      ]
     },
     "metadata": {
      "needs_background": "light"
     },
     "output_type": "display_data"
    }
   ],
   "source": [
    "def show_images_jpg():\n",
    "    row, column = 2, 8\n",
    "    fig = plt.figure(figsize=(2*column, 2*row))\n",
    "    for _r in range(row):\n",
    "        for _c in range(column):\n",
    "            plt.subplot(row, column, _r*column + _c +1)\n",
    "            ran = random.randint(0, len(train_images_jpeg)-1)\n",
    "            name = train_df['image_name'].values[ran]\n",
    "            img = io.imread(f'{PATH}/train_jpg224x224/{name}')\n",
    "            plt.imshow(img)\n",
    "            plt.axis(False)\n",
    "            label = train_df['target'].values[ran]\n",
    "            plt.title(label)\n",
    "\n",
    "    plt.show()\n",
    "\n",
    "show_images_jpg()"
   ]
  },
  {
   "cell_type": "markdown",
   "metadata": {},
   "source": [
    "## <font color=red>4. </font>Entrenamiento de modelos"
   ]
  },
  {
   "cell_type": "code",
   "execution_count": 24,
   "metadata": {
    "scrolled": true
   },
   "outputs": [
    {
     "name": "stdout",
     "output_type": "stream",
     "text": [
      "Requirement already satisfied: tensorflow in c:\\users\\prash\\appdata\\roaming\\python\\python39\\site-packages (2.5.0)\n",
      "Requirement already satisfied: astunparse~=1.6.3 in c:\\users\\prash\\appdata\\roaming\\python\\python39\\site-packages (from tensorflow) (1.6.3)\n",
      "Requirement already satisfied: six~=1.15.0 in c:\\users\\prash\\appdata\\local\\programs\\python\\python39\\lib\\site-packages (from tensorflow) (1.15.0)\n",
      "Requirement already satisfied: tensorflow-estimator<2.6.0,>=2.5.0rc0 in c:\\users\\prash\\appdata\\roaming\\python\\python39\\site-packages (from tensorflow) (2.5.0)\n",
      "Requirement already satisfied: wheel~=0.35 in c:\\users\\prash\\appdata\\local\\programs\\python\\python39\\lib\\site-packages (from tensorflow) (0.36.2)\n",
      "Requirement already satisfied: numpy~=1.19.2 in c:\\users\\prash\\appdata\\local\\programs\\python\\python39\\lib\\site-packages (from tensorflow) (1.19.5)\n",
      "Requirement already satisfied: keras-nightly~=2.5.0.dev in c:\\users\\prash\\appdata\\roaming\\python\\python39\\site-packages (from tensorflow) (2.5.0.dev2021032900)\n",
      "Requirement already satisfied: google-pasta~=0.2 in c:\\users\\prash\\appdata\\roaming\\python\\python39\\site-packages (from tensorflow) (0.2.0)\n",
      "Requirement already satisfied: tensorboard~=2.5 in c:\\users\\prash\\appdata\\roaming\\python\\python39\\site-packages (from tensorflow) (2.5.0)\n",
      "Requirement already satisfied: h5py~=3.1.0 in c:\\users\\prash\\appdata\\roaming\\python\\python39\\site-packages (from tensorflow) (3.1.0)\n",
      "Requirement already satisfied: absl-py~=0.10 in c:\\users\\prash\\appdata\\roaming\\python\\python39\\site-packages (from tensorflow) (0.13.0)\n",
      "Requirement already satisfied: opt-einsum~=3.3.0 in c:\\users\\prash\\appdata\\roaming\\python\\python39\\site-packages (from tensorflow) (3.3.0)\n",
      "Requirement already satisfied: typing-extensions~=3.7.4 in c:\\users\\prash\\appdata\\roaming\\python\\python39\\site-packages (from tensorflow) (3.7.4.3)\n",
      "Requirement already satisfied: protobuf>=3.9.2 in c:\\users\\prash\\appdata\\local\\programs\\python\\python39\\lib\\site-packages (from tensorflow) (3.17.3)\n",
      "Requirement already satisfied: wrapt~=1.12.1 in c:\\users\\prash\\appdata\\roaming\\python\\python39\\site-packages (from tensorflow) (1.12.1)\n",
      "Requirement already satisfied: grpcio~=1.34.0 in c:\\users\\prash\\appdata\\roaming\\python\\python39\\site-packages (from tensorflow) (1.34.1)\n",
      "Requirement already satisfied: termcolor~=1.1.0 in c:\\users\\prash\\appdata\\roaming\\python\\python39\\site-packages (from tensorflow) (1.1.0)\n",
      "Requirement already satisfied: keras-preprocessing~=1.1.2 in c:\\users\\prash\\appdata\\roaming\\python\\python39\\site-packages (from tensorflow) (1.1.2)\n",
      "Requirement already satisfied: gast==0.4.0 in c:\\users\\prash\\appdata\\roaming\\python\\python39\\site-packages (from tensorflow) (0.4.0)\n",
      "Requirement already satisfied: flatbuffers~=1.12.0 in c:\\users\\prash\\appdata\\roaming\\python\\python39\\site-packages (from tensorflow) (1.12)\n",
      "Requirement already satisfied: tensorboard-plugin-wit>=1.6.0 in c:\\users\\prash\\appdata\\local\\programs\\python\\python39\\lib\\site-packages (from tensorboard~=2.5->tensorflow) (1.8.0)\n",
      "Requirement already satisfied: setuptools>=41.0.0 in c:\\users\\prash\\appdata\\local\\programs\\python\\python39\\lib\\site-packages (from tensorboard~=2.5->tensorflow) (56.0.0)\n",
      "Requirement already satisfied: markdown>=2.6.8 in c:\\users\\prash\\appdata\\roaming\\python\\python39\\site-packages (from tensorboard~=2.5->tensorflow) (3.3.4)\n",
      "Requirement already satisfied: google-auth-oauthlib<0.5,>=0.4.1 in c:\\users\\prash\\appdata\\roaming\\python\\python39\\site-packages (from tensorboard~=2.5->tensorflow) (0.4.4)\n",
      "Requirement already satisfied: tensorboard-data-server<0.7.0,>=0.6.0 in c:\\users\\prash\\appdata\\local\\programs\\python\\python39\\lib\\site-packages (from tensorboard~=2.5->tensorflow) (0.6.1)\n",
      "Requirement already satisfied: werkzeug>=0.11.15 in c:\\users\\prash\\appdata\\local\\programs\\python\\python39\\lib\\site-packages (from tensorboard~=2.5->tensorflow) (2.0.1)\n",
      "Requirement already satisfied: google-auth<2,>=1.6.3 in c:\\users\\prash\\appdata\\local\\programs\\python\\python39\\lib\\site-packages (from tensorboard~=2.5->tensorflow) (1.33.1)\n",
      "Requirement already satisfied: requests<3,>=2.21.0 in c:\\users\\prash\\appdata\\local\\programs\\python\\python39\\lib\\site-packages (from tensorboard~=2.5->tensorflow) (2.26.0)\n",
      "Requirement already satisfied: pyasn1-modules>=0.2.1 in c:\\users\\prash\\appdata\\local\\programs\\python\\python39\\lib\\site-packages (from google-auth<2,>=1.6.3->tensorboard~=2.5->tensorflow) (0.2.8)\n",
      "Requirement already satisfied: cachetools<5.0,>=2.0.0 in c:\\users\\prash\\appdata\\local\\programs\\python\\python39\\lib\\site-packages (from google-auth<2,>=1.6.3->tensorboard~=2.5->tensorflow) (4.2.2)\n",
      "Requirement already satisfied: rsa<5,>=3.1.4 in c:\\users\\prash\\appdata\\local\\programs\\python\\python39\\lib\\site-packages (from google-auth<2,>=1.6.3->tensorboard~=2.5->tensorflow) (4.7.2)\n",
      "Requirement already satisfied: requests-oauthlib>=0.7.0 in c:\\users\\prash\\appdata\\local\\programs\\python\\python39\\lib\\site-packages (from google-auth-oauthlib<0.5,>=0.4.1->tensorboard~=2.5->tensorflow) (1.3.0)\n",
      "Requirement already satisfied: pyasn1<0.5.0,>=0.4.6 in c:\\users\\prash\\appdata\\local\\programs\\python\\python39\\lib\\site-packages (from pyasn1-modules>=0.2.1->google-auth<2,>=1.6.3->tensorboard~=2.5->tensorflow) (0.4.8)\n",
      "Requirement already satisfied: idna<4,>=2.5 in c:\\users\\prash\\appdata\\local\\programs\\python\\python39\\lib\\site-packages (from requests<3,>=2.21.0->tensorboard~=2.5->tensorflow) (3.2)\n",
      "Requirement already satisfied: urllib3<1.27,>=1.21.1 in c:\\users\\prash\\appdata\\local\\programs\\python\\python39\\lib\\site-packages (from requests<3,>=2.21.0->tensorboard~=2.5->tensorflow) (1.26.6)\n",
      "Requirement already satisfied: certifi>=2017.4.17 in c:\\users\\prash\\appdata\\local\\programs\\python\\python39\\lib\\site-packages (from requests<3,>=2.21.0->tensorboard~=2.5->tensorflow) (2021.5.30)\n",
      "Requirement already satisfied: charset-normalizer~=2.0.0 in c:\\users\\prash\\appdata\\local\\programs\\python\\python39\\lib\\site-packages (from requests<3,>=2.21.0->tensorboard~=2.5->tensorflow) (2.0.3)\n",
      "Requirement already satisfied: oauthlib>=3.0.0 in c:\\users\\prash\\appdata\\local\\programs\\python\\python39\\lib\\site-packages (from requests-oauthlib>=0.7.0->google-auth-oauthlib<0.5,>=0.4.1->tensorboard~=2.5->tensorflow) (3.1.1)\n"
     ]
    },
    {
     "name": "stderr",
     "output_type": "stream",
     "text": [
      "WARNING: You are using pip version 21.1.3; however, version 21.2.4 is available.\n",
      "You should consider upgrading via the 'c:\\users\\prash\\appdata\\local\\programs\\python\\python39\\python.exe -m pip install --upgrade pip' command.\n"
     ]
    }
   ],
   "source": [
    "!{sys.executable} -m pip install --user tensorflow"
   ]
  },
  {
   "cell_type": "code",
   "execution_count": 25,
   "metadata": {
    "execution": {
     "iopub.execute_input": "2021-07-21T10:09:19.596344Z",
     "iopub.status.busy": "2021-07-21T10:09:19.595989Z",
     "iopub.status.idle": "2021-07-21T10:09:24.530897Z",
     "shell.execute_reply": "2021-07-21T10:09:24.529948Z",
     "shell.execute_reply.started": "2021-07-21T10:09:19.596304Z"
    }
   },
   "outputs": [],
   "source": [
    "import tensorflow as tf\n",
    "from tensorflow import keras\n",
    "from tensorflow.keras.applications import ResNet50V2\n",
    "from tensorflow.keras.applications import DenseNet121 # input size 224x224\n",
    "from keras.layers import Dense, Dropout, Flatten, SpatialDropout2D, SpatialDropout1D, AlphaDropout\n",
    "from keras.models import Sequential, Model, Input\n",
    "from keras.layers import Conv2D, MaxPooling2D, GlobalMaxPooling2D, MaxPool2D\n",
    "from tensorflow.keras.layers.experimental import preprocessing\n",
    "from keras.preprocessing.image import ImageDataGenerator\n",
    "\n",
    "PATH = dir_resized_train_images"
   ]
  },
  {
   "cell_type": "code",
   "execution_count": 26,
   "metadata": {
    "execution": {
     "iopub.execute_input": "2021-07-21T10:09:24.532750Z",
     "iopub.status.busy": "2021-07-21T10:09:24.532364Z",
     "iopub.status.idle": "2021-07-21T10:09:52.361680Z",
     "shell.execute_reply": "2021-07-21T10:09:52.360100Z",
     "shell.execute_reply.started": "2021-07-21T10:09:24.532705Z"
    }
   },
   "outputs": [
    {
     "name": "stdout",
     "output_type": "stream",
     "text": [
      "Found 24399 validated image filenames.\n",
      "Found 8132 validated image filenames.\n",
      "Found 10982 validated image filenames.\n"
     ]
    }
   ],
   "source": [
    "datagen=ImageDataGenerator(rescale=1./255.,validation_split=0.25)\n",
    "\n",
    "train_generator=datagen.flow_from_dataframe(\n",
    "    dataframe=train_df,\n",
    "    directory=\"data/train_jpg224x224\",\n",
    "    x_col=\"image_name\",\n",
    "    y_col=\"target\",\n",
    "    subset=\"training\",\n",
    "    batch_size=32,\n",
    "    seed=42,\n",
    "    shuffle=True,\n",
    "    class_mode=\"raw\",\n",
    "    target_size=(224,224)\n",
    ")\n",
    "\n",
    "valid_generator=datagen.flow_from_dataframe(\n",
    "    dataframe=train_df,\n",
    "    directory=\"data/train_jpg224x224\",\n",
    "    x_col=\"image_name\",\n",
    "    y_col=\"target\",\n",
    "    subset=\"validation\",\n",
    "    batch_size=32,\n",
    "    seed=42,\n",
    "    shuffle=True,\n",
    "    class_mode=\"raw\",\n",
    "    target_size=(224,224)\n",
    ")\n",
    "\n",
    "test_datagen=ImageDataGenerator(rescale=1./255.)\n",
    "\n",
    "test_generator=test_datagen.flow_from_dataframe(\n",
    "    dataframe=test_df,\n",
    "    directory=\"data/test_jpg224x224\",\n",
    "    x_col=\"image_name\",\n",
    "    y_col=None,\n",
    "    batch_size=32,\n",
    "    seed=42,\n",
    "    shuffle=False,\n",
    "    class_mode=None,\n",
    "    target_size=(224,224)\n",
    ")\n",
    "\n",
    "STEP_SIZE_TRAIN=train_generator.n//train_generator.batch_size\n",
    "STEP_SIZE_VALID=valid_generator.n//valid_generator.batch_size\n",
    "STEP_SIZE_TEST=test_generator.n//test_generator.batch_size"
   ]
  },
  {
   "cell_type": "code",
   "execution_count": 27,
   "metadata": {
    "execution": {
     "iopub.execute_input": "2021-07-21T10:09:52.365024Z",
     "iopub.status.busy": "2021-07-21T10:09:52.364729Z",
     "iopub.status.idle": "2021-07-21T10:09:52.370960Z",
     "shell.execute_reply": "2021-07-21T10:09:52.369993Z",
     "shell.execute_reply.started": "2021-07-21T10:09:52.364992Z"
    }
   },
   "outputs": [
    {
     "name": "stdout",
     "output_type": "stream",
     "text": [
      "Original train images 32531\n",
      "Original test images 10982\n"
     ]
    }
   ],
   "source": [
    "print(\"Original train images\", len(train_df))\n",
    "print(\"Original test images\", len(test_df))"
   ]
  },
  {
   "cell_type": "markdown",
   "metadata": {},
   "source": [
    "## <font color=red>4.1 </font>Entrenamiento de modelo con sobremuestreo"
   ]
  },
  {
   "cell_type": "markdown",
   "metadata": {},
   "source": [
    "<center><img src=\"https://miro.medium.com/max/725/1*H6XodlitlGDl9YdbwaZLMw.png\"></center>\n",
    "<center>Técnicas de balanceo de datos</center>"
   ]
  },
  {
   "cell_type": "code",
   "execution_count": null,
   "metadata": {
    "execution": {
     "iopub.execute_input": "2021-07-21T08:55:17.980807Z",
     "iopub.status.busy": "2021-07-21T08:55:17.98016Z",
     "iopub.status.idle": "2021-07-21T08:55:23.109352Z",
     "shell.execute_reply": "2021-07-21T08:55:23.108441Z",
     "shell.execute_reply.started": "2021-07-21T08:55:17.980763Z"
    }
   },
   "outputs": [],
   "source": [
    "encoder = ResNet50V2 (\n",
    "    include_top=False,\n",
    "    input_shape=(None,None,3),\n",
    "    weights='imagenet',\n",
    ")\n",
    "encoder.trainable = False"
   ]
  },
  {
   "cell_type": "code",
   "execution_count": null,
   "metadata": {
    "execution": {
     "iopub.execute_input": "2021-07-21T08:55:23.11142Z",
     "iopub.status.busy": "2021-07-21T08:55:23.111053Z",
     "iopub.status.idle": "2021-07-21T08:55:23.480407Z",
     "shell.execute_reply": "2021-07-21T08:55:23.479642Z",
     "shell.execute_reply.started": "2021-07-21T08:55:23.111379Z"
    }
   },
   "outputs": [],
   "source": [
    "inputs = keras.Input(shape=(224, 224, 3))\n",
    "x = keras.layers.experimental.preprocessing.Rescaling(1./255)(inputs)\n",
    "x = encoder(x, training=False)\n",
    "x = keras.layers.GlobalAveragePooling2D()(x)\n",
    "outputs = keras.layers.Dense(1, activation=\"sigmoid\")(x)\n",
    "\n",
    "model = keras.Model(inputs, outputs)\n",
    "model.summary()"
   ]
  },
  {
   "cell_type": "code",
   "execution_count": null,
   "metadata": {
    "execution": {
     "iopub.execute_input": "2021-07-21T08:55:23.483022Z",
     "iopub.status.busy": "2021-07-21T08:55:23.482619Z",
     "iopub.status.idle": "2021-07-21T08:55:23.513924Z",
     "shell.execute_reply": "2021-07-21T08:55:23.51303Z",
     "shell.execute_reply.started": "2021-07-21T08:55:23.482978Z"
    }
   },
   "outputs": [],
   "source": [
    "model.compile(\n",
    "    optimizer=keras.optimizers.Adam(),\n",
    "    loss=keras.losses.BinaryCrossentropy(),\n",
    "    metrics=[keras.metrics.AUC(name=\"auc\")]\n",
    ")"
   ]
  },
  {
   "cell_type": "code",
   "execution_count": null,
   "metadata": {
    "execution": {
     "iopub.execute_input": "2021-07-21T08:55:23.515771Z",
     "iopub.status.busy": "2021-07-21T08:55:23.515384Z",
     "iopub.status.idle": "2021-07-21T09:10:41.271656Z",
     "shell.execute_reply": "2021-07-21T09:10:41.270475Z",
     "shell.execute_reply.started": "2021-07-21T08:55:23.515733Z"
    }
   },
   "outputs": [],
   "source": [
    "history = model.fit_generator(train_generator, \n",
    "                              validation_data=valid_generator,\n",
    "                              steps_per_epoch=STEP_SIZE_TRAIN, \n",
    "                              validation_steps=STEP_SIZE_VALID, \n",
    "                              epochs = 10)"
   ]
  },
  {
   "cell_type": "code",
   "execution_count": null,
   "metadata": {
    "execution": {
     "iopub.execute_input": "2021-07-21T09:10:41.276361Z",
     "iopub.status.busy": "2021-07-21T09:10:41.274701Z",
     "iopub.status.idle": "2021-07-21T09:10:41.494702Z",
     "shell.execute_reply": "2021-07-21T09:10:41.493626Z",
     "shell.execute_reply.started": "2021-07-21T09:10:41.276279Z"
    }
   },
   "outputs": [],
   "source": [
    "plt.plot(history.history['loss'])\n",
    "plt.ylabel(\"loss\")\n",
    "plt.xlabel(\"epoch\")\n",
    "plt.title(\"Training Loss Curve\")\n",
    "plt.show()"
   ]
  },
  {
   "cell_type": "code",
   "execution_count": null,
   "metadata": {
    "execution": {
     "iopub.execute_input": "2021-07-21T09:10:41.500781Z",
     "iopub.status.busy": "2021-07-21T09:10:41.500448Z",
     "iopub.status.idle": "2021-07-21T09:10:59.214881Z",
     "shell.execute_reply": "2021-07-21T09:10:59.214062Z",
     "shell.execute_reply.started": "2021-07-21T09:10:41.500752Z"
    }
   },
   "outputs": [],
   "source": [
    "model.evaluate_generator(generator=valid_generator, \n",
    "                         steps=STEP_SIZE_TEST)"
   ]
  },
  {
   "cell_type": "code",
   "execution_count": null,
   "metadata": {
    "execution": {
     "iopub.execute_input": "2021-07-21T09:10:59.217098Z",
     "iopub.status.busy": "2021-07-21T09:10:59.216832Z",
     "iopub.status.idle": "2021-07-21T09:12:19.474703Z",
     "shell.execute_reply": "2021-07-21T09:12:19.473927Z",
     "shell.execute_reply.started": "2021-07-21T09:10:59.217072Z"
    }
   },
   "outputs": [],
   "source": [
    "test_generator.reset()\n",
    "predictions = model.predict_generator(generator=test_generator,\n",
    "                                       steps=STEP_SIZE_TEST,\n",
    "                                       verbose=1)"
   ]
  },
  {
   "cell_type": "code",
   "execution_count": null,
   "metadata": {
    "execution": {
     "iopub.execute_input": "2021-07-20T20:15:32.953504Z",
     "iopub.status.busy": "2021-07-20T20:15:32.951709Z",
     "iopub.status.idle": "2021-07-20T20:15:32.962287Z",
     "shell.execute_reply": "2021-07-20T20:15:32.961081Z",
     "shell.execute_reply.started": "2021-07-20T20:15:32.95345Z"
    }
   },
   "outputs": [],
   "source": [
    "predicted_class_indices=np.argmax(predictions,axis=1)"
   ]
  },
  {
   "cell_type": "code",
   "execution_count": null,
   "metadata": {
    "execution": {
     "iopub.execute_input": "2021-07-20T20:18:33.926894Z",
     "iopub.status.busy": "2021-07-20T20:18:33.926557Z",
     "iopub.status.idle": "2021-07-20T20:18:59.124964Z",
     "shell.execute_reply": "2021-07-20T20:18:59.124208Z",
     "shell.execute_reply.started": "2021-07-20T20:18:33.926864Z"
    }
   },
   "outputs": [],
   "source": [
    "predictions = model.predict_generator(generator=train_generator,\n",
    "                                       steps=STEP_SIZE_TEST,\n",
    "                                       verbose=1)"
   ]
  },
  {
   "cell_type": "code",
   "execution_count": null,
   "metadata": {
    "execution": {
     "iopub.execute_input": "2021-07-20T20:19:42.125556Z",
     "iopub.status.busy": "2021-07-20T20:19:42.125178Z",
     "iopub.status.idle": "2021-07-20T20:19:42.129696Z",
     "shell.execute_reply": "2021-07-20T20:19:42.128522Z",
     "shell.execute_reply.started": "2021-07-20T20:19:42.125523Z"
    }
   },
   "outputs": [],
   "source": [
    "from sklearn import metrics\n",
    "\n",
    "#confusion_matrix = metrics.confusion_matrix(train_df['target'], np.rint(predictions))"
   ]
  },
  {
   "cell_type": "code",
   "execution_count": null,
   "metadata": {
    "execution": {
     "iopub.execute_input": "2021-07-04T21:18:40.837102Z",
     "iopub.status.busy": "2021-07-04T21:18:40.836714Z",
     "iopub.status.idle": "2021-07-04T21:18:41.23769Z",
     "shell.execute_reply": "2021-07-04T21:18:41.236711Z",
     "shell.execute_reply.started": "2021-07-04T21:18:40.837068Z"
    }
   },
   "outputs": [],
   "source": [
    "os.makedirs('models/')\n",
    "model.save('models/base_model.h5')"
   ]
  },
  {
   "cell_type": "markdown",
   "metadata": {},
   "source": [
    "## <font color=red>4.2 </font>Entrenamiento de modelo con función de pérdida ponderada"
   ]
  },
  {
   "cell_type": "markdown",
   "metadata": {},
   "source": [
    "AI for Medicine-Specialization : https://github.com/anmspro/AI-for-Medicine-Specialization"
   ]
  },
  {
   "cell_type": "code",
   "execution_count": null,
   "metadata": {
    "execution": {
     "iopub.execute_input": "2021-07-21T09:34:33.664918Z",
     "iopub.status.busy": "2021-07-21T09:34:33.664497Z",
     "iopub.status.idle": "2021-07-21T09:34:33.672491Z",
     "shell.execute_reply": "2021-07-21T09:34:33.671272Z",
     "shell.execute_reply.started": "2021-07-21T09:34:33.66488Z"
    }
   },
   "outputs": [],
   "source": [
    "def compute_class_frequences(labels):\n",
    "    # Total number of patients (rows)\n",
    "    N = labels.shape[0]\n",
    "    \n",
    "    positive_frequencies = np.sum(labels, axis=0) / N\n",
    "    negative_frequencies = 1 - positive_frequencies\n",
    "\n",
    "    return positive_frequencies, negative_frequencies"
   ]
  },
  {
   "cell_type": "code",
   "execution_count": null,
   "metadata": {
    "execution": {
     "iopub.execute_input": "2021-07-21T09:34:44.675318Z",
     "iopub.status.busy": "2021-07-21T09:34:44.674988Z",
     "iopub.status.idle": "2021-07-21T09:34:44.684209Z",
     "shell.execute_reply": "2021-07-21T09:34:44.683088Z",
     "shell.execute_reply.started": "2021-07-21T09:34:44.675288Z"
    }
   },
   "outputs": [],
   "source": [
    "labels = train_df[\"target\"].to_numpy()\n",
    "positive_frequence, negative_frequence = compute_class_frequences(labels)\n",
    "\n",
    "print(\"Frecencia de imágenes con cáncer -\", positive_frequence)\n",
    "print(\"Frecencia de imágenes benignas -\", negative_frequence)"
   ]
  },
  {
   "cell_type": "code",
   "execution_count": null,
   "metadata": {
    "execution": {
     "iopub.execute_input": "2021-07-21T09:34:45.477294Z",
     "iopub.status.busy": "2021-07-21T09:34:45.47698Z",
     "iopub.status.idle": "2021-07-21T09:34:45.485745Z",
     "shell.execute_reply": "2021-07-21T09:34:45.484872Z",
     "shell.execute_reply.started": "2021-07-21T09:34:45.477263Z"
    }
   },
   "outputs": [],
   "source": [
    "def get_weighted_loss(pos_weights, neg_weights, epsilon=1e-7):\n",
    "    def weighted_loss(y_true, y_pred):\n",
    "        loss = 0.0\n",
    "        \n",
    "        for i in range(len(pos_weights)):\n",
    "            # for each class, add average weighted loss for that class\n",
    "            loss_pos = -1 * K.mean(pos_weights[i] * y_true[:, i] * K.log(y_pred[:, i] + epsilon))\n",
    "            loss_neg = -1 * K.mean(neg_weights[i] * (1 - y_true[:, i]) * K.log(1 - y_pred[:, i] + epsilon))\n",
    "            loss += loss_pos + loss_neg\n",
    "        \n",
    "        return loss\n",
    "    return weighted_loss"
   ]
  },
  {
   "cell_type": "code",
   "execution_count": null,
   "metadata": {
    "execution": {
     "iopub.execute_input": "2021-07-21T09:34:46.31441Z",
     "iopub.status.busy": "2021-07-21T09:34:46.314096Z",
     "iopub.status.idle": "2021-07-21T09:34:48.205446Z",
     "shell.execute_reply": "2021-07-21T09:34:48.204562Z",
     "shell.execute_reply.started": "2021-07-21T09:34:46.314381Z"
    }
   },
   "outputs": [],
   "source": [
    "encoder = ResNet50V2 (\n",
    "    include_top=False,\n",
    "    input_shape=(None,None,3),\n",
    "    weights='imagenet',\n",
    ")\n",
    "encoder.trainable = False"
   ]
  },
  {
   "cell_type": "code",
   "execution_count": null,
   "metadata": {
    "execution": {
     "iopub.execute_input": "2021-07-21T09:34:48.207485Z",
     "iopub.status.busy": "2021-07-21T09:34:48.207157Z",
     "iopub.status.idle": "2021-07-21T09:34:48.509095Z",
     "shell.execute_reply": "2021-07-21T09:34:48.507272Z",
     "shell.execute_reply.started": "2021-07-21T09:34:48.207451Z"
    }
   },
   "outputs": [],
   "source": [
    "inputs = keras.Input(shape=(224, 224, 3))\n",
    "x = keras.layers.experimental.preprocessing.Rescaling(1./255)(inputs)\n",
    "x = encoder(x, training=False)\n",
    "x = keras.layers.GlobalAveragePooling2D()(x)\n",
    "outputs = keras.layers.Dense(1, activation=\"sigmoid\")(x)\n",
    "\n",
    "model_weighted_loss = keras.Model(inputs, outputs)\n",
    "model_weighted_loss.summary()"
   ]
  },
  {
   "cell_type": "code",
   "execution_count": null,
   "metadata": {
    "execution": {
     "iopub.execute_input": "2021-07-21T09:34:49.616503Z",
     "iopub.status.busy": "2021-07-21T09:34:49.616188Z",
     "iopub.status.idle": "2021-07-21T09:34:49.640999Z",
     "shell.execute_reply": "2021-07-21T09:34:49.640301Z",
     "shell.execute_reply.started": "2021-07-21T09:34:49.616471Z"
    }
   },
   "outputs": [],
   "source": [
    "model_weighted_loss.compile(\n",
    "    optimizer=keras.optimizers.Adam(),\n",
    "    loss=keras.losses.BinaryCrossentropy(),\n",
    "    metrics=[keras.metrics.AUC(name=\"auc\")]\n",
    ")"
   ]
  },
  {
   "cell_type": "code",
   "execution_count": null,
   "metadata": {
    "execution": {
     "iopub.execute_input": "2021-07-21T09:34:51.382335Z",
     "iopub.status.busy": "2021-07-21T09:34:51.381984Z",
     "iopub.status.idle": "2021-07-21T09:34:51.389588Z",
     "shell.execute_reply": "2021-07-21T09:34:51.388348Z",
     "shell.execute_reply.started": "2021-07-21T09:34:51.382302Z"
    }
   },
   "outputs": [],
   "source": [
    "pos_weights = negative_frequence\n",
    "neg_weights = positive_frequence\n",
    "pos_contribution = positive_frequence * pos_weights \n",
    "neg_contribution = negative_frequence * neg_weights"
   ]
  },
  {
   "cell_type": "code",
   "execution_count": null,
   "metadata": {
    "execution": {
     "iopub.execute_input": "2021-07-21T09:34:52.091349Z",
     "iopub.status.busy": "2021-07-21T09:34:52.090906Z",
     "iopub.status.idle": "2021-07-21T09:34:52.096124Z",
     "shell.execute_reply": "2021-07-21T09:34:52.094877Z",
     "shell.execute_reply.started": "2021-07-21T09:34:52.091305Z"
    }
   },
   "outputs": [],
   "source": [
    "# Da nueve veces más peso a los que son malignos\n",
    "class_weights = {0: 1, 1: 9}"
   ]
  },
  {
   "cell_type": "markdown",
   "metadata": {},
   "source": [
    "https://stackoverflow.com/questions/44716150/how-can-i-assign-a-class-weight-in-keras-in-a-simple-way/44721883"
   ]
  },
  {
   "cell_type": "code",
   "execution_count": null,
   "metadata": {
    "execution": {
     "iopub.execute_input": "2021-07-21T09:34:53.849593Z",
     "iopub.status.busy": "2021-07-21T09:34:53.849256Z",
     "iopub.status.idle": "2021-07-21T09:46:45.85747Z",
     "shell.execute_reply": "2021-07-21T09:46:45.856569Z",
     "shell.execute_reply.started": "2021-07-21T09:34:53.849545Z"
    }
   },
   "outputs": [],
   "source": [
    "history = model_weighted_loss.fit_generator(train_generator, \n",
    "                                            class_weight=class_weights, \n",
    "                                            validation_data=valid_generator,\n",
    "                                            steps_per_epoch=STEP_SIZE_TRAIN, \n",
    "                                            validation_steps=STEP_SIZE_VALID,\n",
    "                                            epochs = 10)"
   ]
  },
  {
   "cell_type": "code",
   "execution_count": null,
   "metadata": {
    "execution": {
     "iopub.execute_input": "2021-07-21T09:46:45.859955Z",
     "iopub.status.busy": "2021-07-21T09:46:45.859553Z",
     "iopub.status.idle": "2021-07-21T09:46:45.980181Z",
     "shell.execute_reply": "2021-07-21T09:46:45.979522Z",
     "shell.execute_reply.started": "2021-07-21T09:46:45.859915Z"
    }
   },
   "outputs": [],
   "source": [
    "plt.plot(history.history['loss'])\n",
    "plt.ylabel(\"loss\")\n",
    "plt.xlabel(\"epoch\")\n",
    "plt.title(\"Training Loss Curve\")\n",
    "\n",
    "plt.show()"
   ]
  },
  {
   "cell_type": "code",
   "execution_count": null,
   "metadata": {
    "execution": {
     "iopub.execute_input": "2021-07-20T20:51:36.48179Z",
     "iopub.status.busy": "2021-07-20T20:51:36.481525Z",
     "iopub.status.idle": "2021-07-20T20:51:53.641204Z",
     "shell.execute_reply": "2021-07-20T20:51:53.640205Z",
     "shell.execute_reply.started": "2021-07-20T20:51:36.481761Z"
    }
   },
   "outputs": [],
   "source": [
    "model_weighted_loss.evaluate_generator(generator=valid_generator, \n",
    "                                       steps=STEP_SIZE_TEST)"
   ]
  },
  {
   "cell_type": "code",
   "execution_count": null,
   "metadata": {
    "execution": {
     "iopub.execute_input": "2021-07-20T20:51:53.644761Z",
     "iopub.status.busy": "2021-07-20T20:51:53.644452Z",
     "iopub.status.idle": "2021-07-20T20:52:18.380624Z",
     "shell.execute_reply": "2021-07-20T20:52:18.379768Z",
     "shell.execute_reply.started": "2021-07-20T20:51:53.644732Z"
    }
   },
   "outputs": [],
   "source": [
    "test_generator.reset()\n",
    "predictions = model_weighted_loss.predict_generator(generator=test_generator,\n",
    "                                                    steps=STEP_SIZE_TEST,\n",
    "                                                    verbose=1)"
   ]
  },
  {
   "cell_type": "code",
   "execution_count": null,
   "metadata": {},
   "outputs": [],
   "source": [
    "os.makedirs('models/')\n",
    "model.save('models/model_weighted_loss.h5')"
   ]
  },
  {
   "cell_type": "markdown",
   "metadata": {},
   "source": [
    "## <font color=red>4.3 </font>Entrenamiento del modelo bayesiano"
   ]
  },
  {
   "cell_type": "code",
   "execution_count": 27,
   "metadata": {
    "execution": {
     "iopub.execute_input": "2021-07-21T10:09:52.373081Z",
     "iopub.status.busy": "2021-07-21T10:09:52.372489Z",
     "iopub.status.idle": "2021-07-21T10:09:56.787082Z",
     "shell.execute_reply": "2021-07-21T10:09:56.786254Z",
     "shell.execute_reply.started": "2021-07-21T10:09:52.373039Z"
    }
   },
   "outputs": [],
   "source": [
    "model_mc = ResNet50V2(input_shape=(None,None,3), \n",
    "                      include_top=False, \n",
    "                      weights='imagenet')"
   ]
  },
  {
   "cell_type": "markdown",
   "metadata": {},
   "source": [
    "Transfer Learning"
   ]
  },
  {
   "cell_type": "code",
   "execution_count": 28,
   "metadata": {
    "execution": {
     "iopub.execute_input": "2021-07-21T10:09:56.788833Z",
     "iopub.status.busy": "2021-07-21T10:09:56.788461Z",
     "iopub.status.idle": "2021-07-21T10:09:57.827664Z",
     "shell.execute_reply": "2021-07-21T10:09:57.826684Z",
     "shell.execute_reply.started": "2021-07-21T10:09:56.788795Z"
    }
   },
   "outputs": [
    {
     "name": "stdout",
     "output_type": "stream",
     "text": [
      "Forma de la última capa: (None, None, None, 2048)\n"
     ]
    }
   ],
   "source": [
    "for layer in model_mc.layers:\n",
    "    model_mc.trainable = False\n",
    "\n",
    "last_layer = model_mc.layers[-1]\n",
    "print(\"Forma de la última capa:\", last_layer.output_shape)"
   ]
  },
  {
   "cell_type": "code",
   "execution_count": null,
   "metadata": {
    "execution": {
     "iopub.status.busy": "2021-07-12T20:45:06.02784Z",
     "iopub.status.idle": "2021-07-12T20:45:06.028633Z"
    }
   },
   "outputs": [],
   "source": [
    "model_mc.summary()"
   ]
  },
  {
   "cell_type": "code",
   "execution_count": 29,
   "metadata": {
    "execution": {
     "iopub.execute_input": "2021-07-21T10:09:57.829588Z",
     "iopub.status.busy": "2021-07-21T10:09:57.829047Z",
     "iopub.status.idle": "2021-07-21T10:09:57.935655Z",
     "shell.execute_reply": "2021-07-21T10:09:57.934658Z",
     "shell.execute_reply.started": "2021-07-21T10:09:57.829530Z"
    }
   },
   "outputs": [],
   "source": [
    "x = GlobalMaxPooling2D()(last_layer.output)\n",
    "x = Dense(1000, activation='relu')(x)\n",
    "x = Dropout(0.3)(x)\n",
    "x = GlobalMaxPooling2D()(last_layer.output)\n",
    "x = Dense(1000, activation='relu')(x)\n",
    "x = Dropout(0.3)(x)\n",
    "x = GlobalMaxPooling2D()(last_layer.output)\n",
    "x = Dense(1000, activation='relu')(x)\n",
    "x = Dropout(0.3)(x)\n",
    "x = GlobalMaxPooling2D()(last_layer.output)\n",
    "x = Dense(1000, activation='relu')(x)\n",
    "x = Dropout(0.3)(x)\n",
    "x = Dense(1, activation='sigmoid')(x)\n",
    "model_mc = Model(model_mc.input, x)"
   ]
  },
  {
   "cell_type": "code",
   "execution_count": 30,
   "metadata": {
    "collapsed": true,
    "execution": {
     "iopub.execute_input": "2021-07-21T10:09:57.938130Z",
     "iopub.status.busy": "2021-07-21T10:09:57.937459Z",
     "iopub.status.idle": "2021-07-21T10:09:57.993676Z",
     "shell.execute_reply": "2021-07-21T10:09:57.992771Z",
     "shell.execute_reply.started": "2021-07-21T10:09:57.938089Z"
    },
    "jupyter": {
     "outputs_hidden": true
    }
   },
   "outputs": [
    {
     "name": "stdout",
     "output_type": "stream",
     "text": [
      "Model: \"functional_1\"\n",
      "__________________________________________________________________________________________________\n",
      "Layer (type)                    Output Shape         Param #     Connected to                     \n",
      "==================================================================================================\n",
      "input_1 (InputLayer)            [(None, None, None,  0                                            \n",
      "__________________________________________________________________________________________________\n",
      "conv1_pad (ZeroPadding2D)       (None, None, None, 3 0           input_1[0][0]                    \n",
      "__________________________________________________________________________________________________\n",
      "conv1_conv (Conv2D)             (None, None, None, 6 9472        conv1_pad[0][0]                  \n",
      "__________________________________________________________________________________________________\n",
      "pool1_pad (ZeroPadding2D)       (None, None, None, 6 0           conv1_conv[0][0]                 \n",
      "__________________________________________________________________________________________________\n",
      "pool1_pool (MaxPooling2D)       (None, None, None, 6 0           pool1_pad[0][0]                  \n",
      "__________________________________________________________________________________________________\n",
      "conv2_block1_preact_bn (BatchNo (None, None, None, 6 256         pool1_pool[0][0]                 \n",
      "__________________________________________________________________________________________________\n",
      "conv2_block1_preact_relu (Activ (None, None, None, 6 0           conv2_block1_preact_bn[0][0]     \n",
      "__________________________________________________________________________________________________\n",
      "conv2_block1_1_conv (Conv2D)    (None, None, None, 6 4096        conv2_block1_preact_relu[0][0]   \n",
      "__________________________________________________________________________________________________\n",
      "conv2_block1_1_bn (BatchNormali (None, None, None, 6 256         conv2_block1_1_conv[0][0]        \n",
      "__________________________________________________________________________________________________\n",
      "conv2_block1_1_relu (Activation (None, None, None, 6 0           conv2_block1_1_bn[0][0]          \n",
      "__________________________________________________________________________________________________\n",
      "conv2_block1_2_pad (ZeroPadding (None, None, None, 6 0           conv2_block1_1_relu[0][0]        \n",
      "__________________________________________________________________________________________________\n",
      "conv2_block1_2_conv (Conv2D)    (None, None, None, 6 36864       conv2_block1_2_pad[0][0]         \n",
      "__________________________________________________________________________________________________\n",
      "conv2_block1_2_bn (BatchNormali (None, None, None, 6 256         conv2_block1_2_conv[0][0]        \n",
      "__________________________________________________________________________________________________\n",
      "conv2_block1_2_relu (Activation (None, None, None, 6 0           conv2_block1_2_bn[0][0]          \n",
      "__________________________________________________________________________________________________\n",
      "conv2_block1_0_conv (Conv2D)    (None, None, None, 2 16640       conv2_block1_preact_relu[0][0]   \n",
      "__________________________________________________________________________________________________\n",
      "conv2_block1_3_conv (Conv2D)    (None, None, None, 2 16640       conv2_block1_2_relu[0][0]        \n",
      "__________________________________________________________________________________________________\n",
      "conv2_block1_out (Add)          (None, None, None, 2 0           conv2_block1_0_conv[0][0]        \n",
      "                                                                 conv2_block1_3_conv[0][0]        \n",
      "__________________________________________________________________________________________________\n",
      "conv2_block2_preact_bn (BatchNo (None, None, None, 2 1024        conv2_block1_out[0][0]           \n",
      "__________________________________________________________________________________________________\n",
      "conv2_block2_preact_relu (Activ (None, None, None, 2 0           conv2_block2_preact_bn[0][0]     \n",
      "__________________________________________________________________________________________________\n",
      "conv2_block2_1_conv (Conv2D)    (None, None, None, 6 16384       conv2_block2_preact_relu[0][0]   \n",
      "__________________________________________________________________________________________________\n",
      "conv2_block2_1_bn (BatchNormali (None, None, None, 6 256         conv2_block2_1_conv[0][0]        \n",
      "__________________________________________________________________________________________________\n",
      "conv2_block2_1_relu (Activation (None, None, None, 6 0           conv2_block2_1_bn[0][0]          \n",
      "__________________________________________________________________________________________________\n",
      "conv2_block2_2_pad (ZeroPadding (None, None, None, 6 0           conv2_block2_1_relu[0][0]        \n",
      "__________________________________________________________________________________________________\n",
      "conv2_block2_2_conv (Conv2D)    (None, None, None, 6 36864       conv2_block2_2_pad[0][0]         \n",
      "__________________________________________________________________________________________________\n",
      "conv2_block2_2_bn (BatchNormali (None, None, None, 6 256         conv2_block2_2_conv[0][0]        \n",
      "__________________________________________________________________________________________________\n",
      "conv2_block2_2_relu (Activation (None, None, None, 6 0           conv2_block2_2_bn[0][0]          \n",
      "__________________________________________________________________________________________________\n",
      "conv2_block2_3_conv (Conv2D)    (None, None, None, 2 16640       conv2_block2_2_relu[0][0]        \n",
      "__________________________________________________________________________________________________\n",
      "conv2_block2_out (Add)          (None, None, None, 2 0           conv2_block1_out[0][0]           \n",
      "                                                                 conv2_block2_3_conv[0][0]        \n",
      "__________________________________________________________________________________________________\n",
      "conv2_block3_preact_bn (BatchNo (None, None, None, 2 1024        conv2_block2_out[0][0]           \n",
      "__________________________________________________________________________________________________\n",
      "conv2_block3_preact_relu (Activ (None, None, None, 2 0           conv2_block3_preact_bn[0][0]     \n",
      "__________________________________________________________________________________________________\n",
      "conv2_block3_1_conv (Conv2D)    (None, None, None, 6 16384       conv2_block3_preact_relu[0][0]   \n",
      "__________________________________________________________________________________________________\n",
      "conv2_block3_1_bn (BatchNormali (None, None, None, 6 256         conv2_block3_1_conv[0][0]        \n",
      "__________________________________________________________________________________________________\n",
      "conv2_block3_1_relu (Activation (None, None, None, 6 0           conv2_block3_1_bn[0][0]          \n",
      "__________________________________________________________________________________________________\n",
      "conv2_block3_2_pad (ZeroPadding (None, None, None, 6 0           conv2_block3_1_relu[0][0]        \n",
      "__________________________________________________________________________________________________\n",
      "conv2_block3_2_conv (Conv2D)    (None, None, None, 6 36864       conv2_block3_2_pad[0][0]         \n",
      "__________________________________________________________________________________________________\n",
      "conv2_block3_2_bn (BatchNormali (None, None, None, 6 256         conv2_block3_2_conv[0][0]        \n",
      "__________________________________________________________________________________________________\n",
      "conv2_block3_2_relu (Activation (None, None, None, 6 0           conv2_block3_2_bn[0][0]          \n",
      "__________________________________________________________________________________________________\n",
      "max_pooling2d (MaxPooling2D)    (None, None, None, 2 0           conv2_block2_out[0][0]           \n",
      "__________________________________________________________________________________________________\n",
      "conv2_block3_3_conv (Conv2D)    (None, None, None, 2 16640       conv2_block3_2_relu[0][0]        \n",
      "__________________________________________________________________________________________________\n",
      "conv2_block3_out (Add)          (None, None, None, 2 0           max_pooling2d[0][0]              \n",
      "                                                                 conv2_block3_3_conv[0][0]        \n",
      "__________________________________________________________________________________________________\n",
      "conv3_block1_preact_bn (BatchNo (None, None, None, 2 1024        conv2_block3_out[0][0]           \n",
      "__________________________________________________________________________________________________\n",
      "conv3_block1_preact_relu (Activ (None, None, None, 2 0           conv3_block1_preact_bn[0][0]     \n",
      "__________________________________________________________________________________________________\n",
      "conv3_block1_1_conv (Conv2D)    (None, None, None, 1 32768       conv3_block1_preact_relu[0][0]   \n",
      "__________________________________________________________________________________________________\n",
      "conv3_block1_1_bn (BatchNormali (None, None, None, 1 512         conv3_block1_1_conv[0][0]        \n",
      "__________________________________________________________________________________________________\n",
      "conv3_block1_1_relu (Activation (None, None, None, 1 0           conv3_block1_1_bn[0][0]          \n",
      "__________________________________________________________________________________________________\n",
      "conv3_block1_2_pad (ZeroPadding (None, None, None, 1 0           conv3_block1_1_relu[0][0]        \n",
      "__________________________________________________________________________________________________\n",
      "conv3_block1_2_conv (Conv2D)    (None, None, None, 1 147456      conv3_block1_2_pad[0][0]         \n",
      "__________________________________________________________________________________________________\n",
      "conv3_block1_2_bn (BatchNormali (None, None, None, 1 512         conv3_block1_2_conv[0][0]        \n",
      "__________________________________________________________________________________________________\n",
      "conv3_block1_2_relu (Activation (None, None, None, 1 0           conv3_block1_2_bn[0][0]          \n",
      "__________________________________________________________________________________________________\n",
      "conv3_block1_0_conv (Conv2D)    (None, None, None, 5 131584      conv3_block1_preact_relu[0][0]   \n",
      "__________________________________________________________________________________________________\n",
      "conv3_block1_3_conv (Conv2D)    (None, None, None, 5 66048       conv3_block1_2_relu[0][0]        \n",
      "__________________________________________________________________________________________________\n",
      "conv3_block1_out (Add)          (None, None, None, 5 0           conv3_block1_0_conv[0][0]        \n",
      "                                                                 conv3_block1_3_conv[0][0]        \n",
      "__________________________________________________________________________________________________\n",
      "conv3_block2_preact_bn (BatchNo (None, None, None, 5 2048        conv3_block1_out[0][0]           \n",
      "__________________________________________________________________________________________________\n",
      "conv3_block2_preact_relu (Activ (None, None, None, 5 0           conv3_block2_preact_bn[0][0]     \n",
      "__________________________________________________________________________________________________\n",
      "conv3_block2_1_conv (Conv2D)    (None, None, None, 1 65536       conv3_block2_preact_relu[0][0]   \n",
      "__________________________________________________________________________________________________\n",
      "conv3_block2_1_bn (BatchNormali (None, None, None, 1 512         conv3_block2_1_conv[0][0]        \n",
      "__________________________________________________________________________________________________\n",
      "conv3_block2_1_relu (Activation (None, None, None, 1 0           conv3_block2_1_bn[0][0]          \n",
      "__________________________________________________________________________________________________\n",
      "conv3_block2_2_pad (ZeroPadding (None, None, None, 1 0           conv3_block2_1_relu[0][0]        \n",
      "__________________________________________________________________________________________________\n",
      "conv3_block2_2_conv (Conv2D)    (None, None, None, 1 147456      conv3_block2_2_pad[0][0]         \n",
      "__________________________________________________________________________________________________\n",
      "conv3_block2_2_bn (BatchNormali (None, None, None, 1 512         conv3_block2_2_conv[0][0]        \n",
      "__________________________________________________________________________________________________\n",
      "conv3_block2_2_relu (Activation (None, None, None, 1 0           conv3_block2_2_bn[0][0]          \n",
      "__________________________________________________________________________________________________\n",
      "conv3_block2_3_conv (Conv2D)    (None, None, None, 5 66048       conv3_block2_2_relu[0][0]        \n",
      "__________________________________________________________________________________________________\n",
      "conv3_block2_out (Add)          (None, None, None, 5 0           conv3_block1_out[0][0]           \n",
      "                                                                 conv3_block2_3_conv[0][0]        \n",
      "__________________________________________________________________________________________________\n",
      "conv3_block3_preact_bn (BatchNo (None, None, None, 5 2048        conv3_block2_out[0][0]           \n",
      "__________________________________________________________________________________________________\n",
      "conv3_block3_preact_relu (Activ (None, None, None, 5 0           conv3_block3_preact_bn[0][0]     \n",
      "__________________________________________________________________________________________________\n",
      "conv3_block3_1_conv (Conv2D)    (None, None, None, 1 65536       conv3_block3_preact_relu[0][0]   \n",
      "__________________________________________________________________________________________________\n",
      "conv3_block3_1_bn (BatchNormali (None, None, None, 1 512         conv3_block3_1_conv[0][0]        \n",
      "__________________________________________________________________________________________________\n",
      "conv3_block3_1_relu (Activation (None, None, None, 1 0           conv3_block3_1_bn[0][0]          \n",
      "__________________________________________________________________________________________________\n",
      "conv3_block3_2_pad (ZeroPadding (None, None, None, 1 0           conv3_block3_1_relu[0][0]        \n",
      "__________________________________________________________________________________________________\n",
      "conv3_block3_2_conv (Conv2D)    (None, None, None, 1 147456      conv3_block3_2_pad[0][0]         \n",
      "__________________________________________________________________________________________________\n",
      "conv3_block3_2_bn (BatchNormali (None, None, None, 1 512         conv3_block3_2_conv[0][0]        \n",
      "__________________________________________________________________________________________________\n",
      "conv3_block3_2_relu (Activation (None, None, None, 1 0           conv3_block3_2_bn[0][0]          \n",
      "__________________________________________________________________________________________________\n",
      "conv3_block3_3_conv (Conv2D)    (None, None, None, 5 66048       conv3_block3_2_relu[0][0]        \n",
      "__________________________________________________________________________________________________\n",
      "conv3_block3_out (Add)          (None, None, None, 5 0           conv3_block2_out[0][0]           \n",
      "                                                                 conv3_block3_3_conv[0][0]        \n",
      "__________________________________________________________________________________________________\n",
      "conv3_block4_preact_bn (BatchNo (None, None, None, 5 2048        conv3_block3_out[0][0]           \n",
      "__________________________________________________________________________________________________\n",
      "conv3_block4_preact_relu (Activ (None, None, None, 5 0           conv3_block4_preact_bn[0][0]     \n",
      "__________________________________________________________________________________________________\n",
      "conv3_block4_1_conv (Conv2D)    (None, None, None, 1 65536       conv3_block4_preact_relu[0][0]   \n",
      "__________________________________________________________________________________________________\n",
      "conv3_block4_1_bn (BatchNormali (None, None, None, 1 512         conv3_block4_1_conv[0][0]        \n",
      "__________________________________________________________________________________________________\n",
      "conv3_block4_1_relu (Activation (None, None, None, 1 0           conv3_block4_1_bn[0][0]          \n",
      "__________________________________________________________________________________________________\n",
      "conv3_block4_2_pad (ZeroPadding (None, None, None, 1 0           conv3_block4_1_relu[0][0]        \n",
      "__________________________________________________________________________________________________\n",
      "conv3_block4_2_conv (Conv2D)    (None, None, None, 1 147456      conv3_block4_2_pad[0][0]         \n",
      "__________________________________________________________________________________________________\n",
      "conv3_block4_2_bn (BatchNormali (None, None, None, 1 512         conv3_block4_2_conv[0][0]        \n",
      "__________________________________________________________________________________________________\n",
      "conv3_block4_2_relu (Activation (None, None, None, 1 0           conv3_block4_2_bn[0][0]          \n",
      "__________________________________________________________________________________________________\n",
      "max_pooling2d_1 (MaxPooling2D)  (None, None, None, 5 0           conv3_block3_out[0][0]           \n",
      "__________________________________________________________________________________________________\n",
      "conv3_block4_3_conv (Conv2D)    (None, None, None, 5 66048       conv3_block4_2_relu[0][0]        \n",
      "__________________________________________________________________________________________________\n",
      "conv3_block4_out (Add)          (None, None, None, 5 0           max_pooling2d_1[0][0]            \n",
      "                                                                 conv3_block4_3_conv[0][0]        \n",
      "__________________________________________________________________________________________________\n",
      "conv4_block1_preact_bn (BatchNo (None, None, None, 5 2048        conv3_block4_out[0][0]           \n",
      "__________________________________________________________________________________________________\n",
      "conv4_block1_preact_relu (Activ (None, None, None, 5 0           conv4_block1_preact_bn[0][0]     \n",
      "__________________________________________________________________________________________________\n",
      "conv4_block1_1_conv (Conv2D)    (None, None, None, 2 131072      conv4_block1_preact_relu[0][0]   \n",
      "__________________________________________________________________________________________________\n",
      "conv4_block1_1_bn (BatchNormali (None, None, None, 2 1024        conv4_block1_1_conv[0][0]        \n",
      "__________________________________________________________________________________________________\n",
      "conv4_block1_1_relu (Activation (None, None, None, 2 0           conv4_block1_1_bn[0][0]          \n",
      "__________________________________________________________________________________________________\n",
      "conv4_block1_2_pad (ZeroPadding (None, None, None, 2 0           conv4_block1_1_relu[0][0]        \n",
      "__________________________________________________________________________________________________\n",
      "conv4_block1_2_conv (Conv2D)    (None, None, None, 2 589824      conv4_block1_2_pad[0][0]         \n",
      "__________________________________________________________________________________________________\n",
      "conv4_block1_2_bn (BatchNormali (None, None, None, 2 1024        conv4_block1_2_conv[0][0]        \n",
      "__________________________________________________________________________________________________\n",
      "conv4_block1_2_relu (Activation (None, None, None, 2 0           conv4_block1_2_bn[0][0]          \n",
      "__________________________________________________________________________________________________\n",
      "conv4_block1_0_conv (Conv2D)    (None, None, None, 1 525312      conv4_block1_preact_relu[0][0]   \n",
      "__________________________________________________________________________________________________\n",
      "conv4_block1_3_conv (Conv2D)    (None, None, None, 1 263168      conv4_block1_2_relu[0][0]        \n",
      "__________________________________________________________________________________________________\n",
      "conv4_block1_out (Add)          (None, None, None, 1 0           conv4_block1_0_conv[0][0]        \n",
      "                                                                 conv4_block1_3_conv[0][0]        \n",
      "__________________________________________________________________________________________________\n",
      "conv4_block2_preact_bn (BatchNo (None, None, None, 1 4096        conv4_block1_out[0][0]           \n",
      "__________________________________________________________________________________________________\n",
      "conv4_block2_preact_relu (Activ (None, None, None, 1 0           conv4_block2_preact_bn[0][0]     \n",
      "__________________________________________________________________________________________________\n",
      "conv4_block2_1_conv (Conv2D)    (None, None, None, 2 262144      conv4_block2_preact_relu[0][0]   \n",
      "__________________________________________________________________________________________________\n",
      "conv4_block2_1_bn (BatchNormali (None, None, None, 2 1024        conv4_block2_1_conv[0][0]        \n",
      "__________________________________________________________________________________________________\n",
      "conv4_block2_1_relu (Activation (None, None, None, 2 0           conv4_block2_1_bn[0][0]          \n",
      "__________________________________________________________________________________________________\n",
      "conv4_block2_2_pad (ZeroPadding (None, None, None, 2 0           conv4_block2_1_relu[0][0]        \n",
      "__________________________________________________________________________________________________\n",
      "conv4_block2_2_conv (Conv2D)    (None, None, None, 2 589824      conv4_block2_2_pad[0][0]         \n",
      "__________________________________________________________________________________________________\n",
      "conv4_block2_2_bn (BatchNormali (None, None, None, 2 1024        conv4_block2_2_conv[0][0]        \n",
      "__________________________________________________________________________________________________\n",
      "conv4_block2_2_relu (Activation (None, None, None, 2 0           conv4_block2_2_bn[0][0]          \n",
      "__________________________________________________________________________________________________\n",
      "conv4_block2_3_conv (Conv2D)    (None, None, None, 1 263168      conv4_block2_2_relu[0][0]        \n",
      "__________________________________________________________________________________________________\n",
      "conv4_block2_out (Add)          (None, None, None, 1 0           conv4_block1_out[0][0]           \n",
      "                                                                 conv4_block2_3_conv[0][0]        \n",
      "__________________________________________________________________________________________________\n",
      "conv4_block3_preact_bn (BatchNo (None, None, None, 1 4096        conv4_block2_out[0][0]           \n",
      "__________________________________________________________________________________________________\n",
      "conv4_block3_preact_relu (Activ (None, None, None, 1 0           conv4_block3_preact_bn[0][0]     \n",
      "__________________________________________________________________________________________________\n",
      "conv4_block3_1_conv (Conv2D)    (None, None, None, 2 262144      conv4_block3_preact_relu[0][0]   \n",
      "__________________________________________________________________________________________________\n",
      "conv4_block3_1_bn (BatchNormali (None, None, None, 2 1024        conv4_block3_1_conv[0][0]        \n",
      "__________________________________________________________________________________________________\n",
      "conv4_block3_1_relu (Activation (None, None, None, 2 0           conv4_block3_1_bn[0][0]          \n",
      "__________________________________________________________________________________________________\n",
      "conv4_block3_2_pad (ZeroPadding (None, None, None, 2 0           conv4_block3_1_relu[0][0]        \n",
      "__________________________________________________________________________________________________\n",
      "conv4_block3_2_conv (Conv2D)    (None, None, None, 2 589824      conv4_block3_2_pad[0][0]         \n",
      "__________________________________________________________________________________________________\n",
      "conv4_block3_2_bn (BatchNormali (None, None, None, 2 1024        conv4_block3_2_conv[0][0]        \n",
      "__________________________________________________________________________________________________\n",
      "conv4_block3_2_relu (Activation (None, None, None, 2 0           conv4_block3_2_bn[0][0]          \n",
      "__________________________________________________________________________________________________\n",
      "conv4_block3_3_conv (Conv2D)    (None, None, None, 1 263168      conv4_block3_2_relu[0][0]        \n",
      "__________________________________________________________________________________________________\n",
      "conv4_block3_out (Add)          (None, None, None, 1 0           conv4_block2_out[0][0]           \n",
      "                                                                 conv4_block3_3_conv[0][0]        \n",
      "__________________________________________________________________________________________________\n",
      "conv4_block4_preact_bn (BatchNo (None, None, None, 1 4096        conv4_block3_out[0][0]           \n",
      "__________________________________________________________________________________________________\n",
      "conv4_block4_preact_relu (Activ (None, None, None, 1 0           conv4_block4_preact_bn[0][0]     \n",
      "__________________________________________________________________________________________________\n",
      "conv4_block4_1_conv (Conv2D)    (None, None, None, 2 262144      conv4_block4_preact_relu[0][0]   \n",
      "__________________________________________________________________________________________________\n",
      "conv4_block4_1_bn (BatchNormali (None, None, None, 2 1024        conv4_block4_1_conv[0][0]        \n",
      "__________________________________________________________________________________________________\n",
      "conv4_block4_1_relu (Activation (None, None, None, 2 0           conv4_block4_1_bn[0][0]          \n",
      "__________________________________________________________________________________________________\n",
      "conv4_block4_2_pad (ZeroPadding (None, None, None, 2 0           conv4_block4_1_relu[0][0]        \n",
      "__________________________________________________________________________________________________\n",
      "conv4_block4_2_conv (Conv2D)    (None, None, None, 2 589824      conv4_block4_2_pad[0][0]         \n",
      "__________________________________________________________________________________________________\n",
      "conv4_block4_2_bn (BatchNormali (None, None, None, 2 1024        conv4_block4_2_conv[0][0]        \n",
      "__________________________________________________________________________________________________\n",
      "conv4_block4_2_relu (Activation (None, None, None, 2 0           conv4_block4_2_bn[0][0]          \n",
      "__________________________________________________________________________________________________\n",
      "conv4_block4_3_conv (Conv2D)    (None, None, None, 1 263168      conv4_block4_2_relu[0][0]        \n",
      "__________________________________________________________________________________________________\n",
      "conv4_block4_out (Add)          (None, None, None, 1 0           conv4_block3_out[0][0]           \n",
      "                                                                 conv4_block4_3_conv[0][0]        \n",
      "__________________________________________________________________________________________________\n",
      "conv4_block5_preact_bn (BatchNo (None, None, None, 1 4096        conv4_block4_out[0][0]           \n",
      "__________________________________________________________________________________________________\n",
      "conv4_block5_preact_relu (Activ (None, None, None, 1 0           conv4_block5_preact_bn[0][0]     \n",
      "__________________________________________________________________________________________________\n",
      "conv4_block5_1_conv (Conv2D)    (None, None, None, 2 262144      conv4_block5_preact_relu[0][0]   \n",
      "__________________________________________________________________________________________________\n",
      "conv4_block5_1_bn (BatchNormali (None, None, None, 2 1024        conv4_block5_1_conv[0][0]        \n",
      "__________________________________________________________________________________________________\n",
      "conv4_block5_1_relu (Activation (None, None, None, 2 0           conv4_block5_1_bn[0][0]          \n",
      "__________________________________________________________________________________________________\n",
      "conv4_block5_2_pad (ZeroPadding (None, None, None, 2 0           conv4_block5_1_relu[0][0]        \n",
      "__________________________________________________________________________________________________\n",
      "conv4_block5_2_conv (Conv2D)    (None, None, None, 2 589824      conv4_block5_2_pad[0][0]         \n",
      "__________________________________________________________________________________________________\n",
      "conv4_block5_2_bn (BatchNormali (None, None, None, 2 1024        conv4_block5_2_conv[0][0]        \n",
      "__________________________________________________________________________________________________\n",
      "conv4_block5_2_relu (Activation (None, None, None, 2 0           conv4_block5_2_bn[0][0]          \n",
      "__________________________________________________________________________________________________\n",
      "conv4_block5_3_conv (Conv2D)    (None, None, None, 1 263168      conv4_block5_2_relu[0][0]        \n",
      "__________________________________________________________________________________________________\n",
      "conv4_block5_out (Add)          (None, None, None, 1 0           conv4_block4_out[0][0]           \n",
      "                                                                 conv4_block5_3_conv[0][0]        \n",
      "__________________________________________________________________________________________________\n",
      "conv4_block6_preact_bn (BatchNo (None, None, None, 1 4096        conv4_block5_out[0][0]           \n",
      "__________________________________________________________________________________________________\n",
      "conv4_block6_preact_relu (Activ (None, None, None, 1 0           conv4_block6_preact_bn[0][0]     \n",
      "__________________________________________________________________________________________________\n",
      "conv4_block6_1_conv (Conv2D)    (None, None, None, 2 262144      conv4_block6_preact_relu[0][0]   \n",
      "__________________________________________________________________________________________________\n",
      "conv4_block6_1_bn (BatchNormali (None, None, None, 2 1024        conv4_block6_1_conv[0][0]        \n",
      "__________________________________________________________________________________________________\n",
      "conv4_block6_1_relu (Activation (None, None, None, 2 0           conv4_block6_1_bn[0][0]          \n",
      "__________________________________________________________________________________________________\n",
      "conv4_block6_2_pad (ZeroPadding (None, None, None, 2 0           conv4_block6_1_relu[0][0]        \n",
      "__________________________________________________________________________________________________\n",
      "conv4_block6_2_conv (Conv2D)    (None, None, None, 2 589824      conv4_block6_2_pad[0][0]         \n",
      "__________________________________________________________________________________________________\n",
      "conv4_block6_2_bn (BatchNormali (None, None, None, 2 1024        conv4_block6_2_conv[0][0]        \n",
      "__________________________________________________________________________________________________\n",
      "conv4_block6_2_relu (Activation (None, None, None, 2 0           conv4_block6_2_bn[0][0]          \n",
      "__________________________________________________________________________________________________\n",
      "max_pooling2d_2 (MaxPooling2D)  (None, None, None, 1 0           conv4_block5_out[0][0]           \n",
      "__________________________________________________________________________________________________\n",
      "conv4_block6_3_conv (Conv2D)    (None, None, None, 1 263168      conv4_block6_2_relu[0][0]        \n",
      "__________________________________________________________________________________________________\n",
      "conv4_block6_out (Add)          (None, None, None, 1 0           max_pooling2d_2[0][0]            \n",
      "                                                                 conv4_block6_3_conv[0][0]        \n",
      "__________________________________________________________________________________________________\n",
      "conv5_block1_preact_bn (BatchNo (None, None, None, 1 4096        conv4_block6_out[0][0]           \n",
      "__________________________________________________________________________________________________\n",
      "conv5_block1_preact_relu (Activ (None, None, None, 1 0           conv5_block1_preact_bn[0][0]     \n",
      "__________________________________________________________________________________________________\n",
      "conv5_block1_1_conv (Conv2D)    (None, None, None, 5 524288      conv5_block1_preact_relu[0][0]   \n",
      "__________________________________________________________________________________________________\n",
      "conv5_block1_1_bn (BatchNormali (None, None, None, 5 2048        conv5_block1_1_conv[0][0]        \n",
      "__________________________________________________________________________________________________\n",
      "conv5_block1_1_relu (Activation (None, None, None, 5 0           conv5_block1_1_bn[0][0]          \n",
      "__________________________________________________________________________________________________\n",
      "conv5_block1_2_pad (ZeroPadding (None, None, None, 5 0           conv5_block1_1_relu[0][0]        \n",
      "__________________________________________________________________________________________________\n",
      "conv5_block1_2_conv (Conv2D)    (None, None, None, 5 2359296     conv5_block1_2_pad[0][0]         \n",
      "__________________________________________________________________________________________________\n",
      "conv5_block1_2_bn (BatchNormali (None, None, None, 5 2048        conv5_block1_2_conv[0][0]        \n",
      "__________________________________________________________________________________________________\n",
      "conv5_block1_2_relu (Activation (None, None, None, 5 0           conv5_block1_2_bn[0][0]          \n",
      "__________________________________________________________________________________________________\n",
      "conv5_block1_0_conv (Conv2D)    (None, None, None, 2 2099200     conv5_block1_preact_relu[0][0]   \n",
      "__________________________________________________________________________________________________\n",
      "conv5_block1_3_conv (Conv2D)    (None, None, None, 2 1050624     conv5_block1_2_relu[0][0]        \n",
      "__________________________________________________________________________________________________\n",
      "conv5_block1_out (Add)          (None, None, None, 2 0           conv5_block1_0_conv[0][0]        \n",
      "                                                                 conv5_block1_3_conv[0][0]        \n",
      "__________________________________________________________________________________________________\n",
      "conv5_block2_preact_bn (BatchNo (None, None, None, 2 8192        conv5_block1_out[0][0]           \n",
      "__________________________________________________________________________________________________\n",
      "conv5_block2_preact_relu (Activ (None, None, None, 2 0           conv5_block2_preact_bn[0][0]     \n",
      "__________________________________________________________________________________________________\n",
      "conv5_block2_1_conv (Conv2D)    (None, None, None, 5 1048576     conv5_block2_preact_relu[0][0]   \n",
      "__________________________________________________________________________________________________\n",
      "conv5_block2_1_bn (BatchNormali (None, None, None, 5 2048        conv5_block2_1_conv[0][0]        \n",
      "__________________________________________________________________________________________________\n",
      "conv5_block2_1_relu (Activation (None, None, None, 5 0           conv5_block2_1_bn[0][0]          \n",
      "__________________________________________________________________________________________________\n",
      "conv5_block2_2_pad (ZeroPadding (None, None, None, 5 0           conv5_block2_1_relu[0][0]        \n",
      "__________________________________________________________________________________________________\n",
      "conv5_block2_2_conv (Conv2D)    (None, None, None, 5 2359296     conv5_block2_2_pad[0][0]         \n",
      "__________________________________________________________________________________________________\n",
      "conv5_block2_2_bn (BatchNormali (None, None, None, 5 2048        conv5_block2_2_conv[0][0]        \n",
      "__________________________________________________________________________________________________\n",
      "conv5_block2_2_relu (Activation (None, None, None, 5 0           conv5_block2_2_bn[0][0]          \n",
      "__________________________________________________________________________________________________\n",
      "conv5_block2_3_conv (Conv2D)    (None, None, None, 2 1050624     conv5_block2_2_relu[0][0]        \n",
      "__________________________________________________________________________________________________\n",
      "conv5_block2_out (Add)          (None, None, None, 2 0           conv5_block1_out[0][0]           \n",
      "                                                                 conv5_block2_3_conv[0][0]        \n",
      "__________________________________________________________________________________________________\n",
      "conv5_block3_preact_bn (BatchNo (None, None, None, 2 8192        conv5_block2_out[0][0]           \n",
      "__________________________________________________________________________________________________\n",
      "conv5_block3_preact_relu (Activ (None, None, None, 2 0           conv5_block3_preact_bn[0][0]     \n",
      "__________________________________________________________________________________________________\n",
      "conv5_block3_1_conv (Conv2D)    (None, None, None, 5 1048576     conv5_block3_preact_relu[0][0]   \n",
      "__________________________________________________________________________________________________\n",
      "conv5_block3_1_bn (BatchNormali (None, None, None, 5 2048        conv5_block3_1_conv[0][0]        \n",
      "__________________________________________________________________________________________________\n",
      "conv5_block3_1_relu (Activation (None, None, None, 5 0           conv5_block3_1_bn[0][0]          \n",
      "__________________________________________________________________________________________________\n",
      "conv5_block3_2_pad (ZeroPadding (None, None, None, 5 0           conv5_block3_1_relu[0][0]        \n",
      "__________________________________________________________________________________________________\n",
      "conv5_block3_2_conv (Conv2D)    (None, None, None, 5 2359296     conv5_block3_2_pad[0][0]         \n",
      "__________________________________________________________________________________________________\n",
      "conv5_block3_2_bn (BatchNormali (None, None, None, 5 2048        conv5_block3_2_conv[0][0]        \n",
      "__________________________________________________________________________________________________\n",
      "conv5_block3_2_relu (Activation (None, None, None, 5 0           conv5_block3_2_bn[0][0]          \n",
      "__________________________________________________________________________________________________\n",
      "conv5_block3_3_conv (Conv2D)    (None, None, None, 2 1050624     conv5_block3_2_relu[0][0]        \n",
      "__________________________________________________________________________________________________\n",
      "conv5_block3_out (Add)          (None, None, None, 2 0           conv5_block2_out[0][0]           \n",
      "                                                                 conv5_block3_3_conv[0][0]        \n",
      "__________________________________________________________________________________________________\n",
      "post_bn (BatchNormalization)    (None, None, None, 2 8192        conv5_block3_out[0][0]           \n",
      "__________________________________________________________________________________________________\n",
      "post_relu (Activation)          (None, None, None, 2 0           post_bn[0][0]                    \n",
      "__________________________________________________________________________________________________\n",
      "global_max_pooling2d_3 (GlobalM (None, 2048)         0           post_relu[0][0]                  \n",
      "__________________________________________________________________________________________________\n",
      "dense_3 (Dense)                 (None, 1000)         2049000     global_max_pooling2d_3[0][0]     \n",
      "__________________________________________________________________________________________________\n",
      "dropout_3 (Dropout)             (None, 1000)         0           dense_3[0][0]                    \n",
      "__________________________________________________________________________________________________\n",
      "dense_4 (Dense)                 (None, 1)            1001        dropout_3[0][0]                  \n",
      "==================================================================================================\n",
      "Total params: 25,614,801\n",
      "Trainable params: 2,050,001\n",
      "Non-trainable params: 23,564,800\n",
      "__________________________________________________________________________________________________\n"
     ]
    }
   ],
   "source": [
    "model_mc.summary()"
   ]
  },
  {
   "cell_type": "code",
   "execution_count": 31,
   "metadata": {
    "execution": {
     "iopub.execute_input": "2021-07-21T10:09:57.995258Z",
     "iopub.status.busy": "2021-07-21T10:09:57.994900Z",
     "iopub.status.idle": "2021-07-21T10:09:58.032017Z",
     "shell.execute_reply": "2021-07-21T10:09:58.031304Z",
     "shell.execute_reply.started": "2021-07-21T10:09:57.995221Z"
    }
   },
   "outputs": [],
   "source": [
    "model_mc.compile(\n",
    "    optimizer=keras.optimizers.Adam(),\n",
    "    loss=keras.losses.BinaryCrossentropy(),\n",
    "    metrics=[keras.metrics.AUC(name=\"auc\")]\n",
    ")"
   ]
  },
  {
   "cell_type": "code",
   "execution_count": 32,
   "metadata": {
    "execution": {
     "iopub.execute_input": "2021-07-21T10:09:58.036650Z",
     "iopub.status.busy": "2021-07-21T10:09:58.036298Z",
     "iopub.status.idle": "2021-07-21T10:24:17.532400Z",
     "shell.execute_reply": "2021-07-21T10:24:17.531373Z",
     "shell.execute_reply.started": "2021-07-21T10:09:58.036611Z"
    }
   },
   "outputs": [
    {
     "name": "stdout",
     "output_type": "stream",
     "text": [
      "Epoch 1/10\n",
      "762/762 [==============================] - 179s 235ms/step - loss: 0.1817 - auc: 0.6804 - val_loss: 0.0747 - val_auc: 0.8005\n",
      "Epoch 2/10\n",
      "762/762 [==============================] - 75s 98ms/step - loss: 0.0847 - auc: 0.7847 - val_loss: 0.0793 - val_auc: 0.7888\n",
      "Epoch 3/10\n",
      "762/762 [==============================] - 76s 99ms/step - loss: 0.0778 - auc: 0.8161 - val_loss: 0.0848 - val_auc: 0.7723\n",
      "Epoch 4/10\n",
      "762/762 [==============================] - 76s 100ms/step - loss: 0.0757 - auc: 0.8284 - val_loss: 0.0758 - val_auc: 0.8174\n",
      "Epoch 5/10\n",
      "762/762 [==============================] - 76s 100ms/step - loss: 0.0701 - auc: 0.8644 - val_loss: 0.0813 - val_auc: 0.8204\n",
      "Epoch 6/10\n",
      "762/762 [==============================] - 75s 98ms/step - loss: 0.0660 - auc: 0.8760 - val_loss: 0.0786 - val_auc: 0.7931\n",
      "Epoch 7/10\n",
      "762/762 [==============================] - 74s 97ms/step - loss: 0.0660 - auc: 0.8802 - val_loss: 0.0782 - val_auc: 0.7992\n",
      "Epoch 8/10\n",
      "762/762 [==============================] - 75s 98ms/step - loss: 0.0617 - auc: 0.8927 - val_loss: 0.0829 - val_auc: 0.7681\n",
      "Epoch 9/10\n",
      "762/762 [==============================] - 73s 96ms/step - loss: 0.0596 - auc: 0.9094 - val_loss: 0.0832 - val_auc: 0.7757\n",
      "Epoch 10/10\n",
      "762/762 [==============================] - 74s 97ms/step - loss: 0.0540 - auc: 0.9243 - val_loss: 0.0907 - val_auc: 0.7401\n"
     ]
    }
   ],
   "source": [
    "history = model_mc.fit(train_generator, \n",
    "                       validation_data=valid_generator,\n",
    "                       steps_per_epoch=STEP_SIZE_TRAIN, \n",
    "                       validation_steps=STEP_SIZE_VALID, \n",
    "                       epochs = 10)"
   ]
  },
  {
   "cell_type": "code",
   "execution_count": 33,
   "metadata": {
    "execution": {
     "iopub.execute_input": "2021-07-21T10:24:17.536421Z",
     "iopub.status.busy": "2021-07-21T10:24:17.536137Z",
     "iopub.status.idle": "2021-07-21T10:24:17.689693Z",
     "shell.execute_reply": "2021-07-21T10:24:17.688799Z",
     "shell.execute_reply.started": "2021-07-21T10:24:17.536387Z"
    }
   },
   "outputs": [
    {
     "data": {
      "image/png": "[encoded data removed]",
      "text/plain": [
       "<Figure size 432x288 with 1 Axes>"
      ]
     },
     "metadata": {
      "needs_background": "light"
     },
     "output_type": "display_data"
    }
   ],
   "source": [
    "plt.plot(history.history['loss'])\n",
    "plt.ylabel(\"loss\")\n",
    "plt.xlabel(\"epoch\")\n",
    "plt.title(\"Training Loss Curve\")\n",
    "\n",
    "plt.show()"
   ]
  },
  {
   "cell_type": "markdown",
   "metadata": {},
   "source": [
    "Fine Tuning"
   ]
  },
  {
   "cell_type": "code",
   "execution_count": null,
   "metadata": {},
   "outputs": [],
   "source": [
    "model_mc_ = ResNet50V2(input_shape=(None,None,3), \n",
    "                      include_top=False, \n",
    "                      weights='imagenet')"
   ]
  },
  {
   "cell_type": "code",
   "execution_count": 34,
   "metadata": {
    "execution": {
     "iopub.execute_input": "2021-07-21T10:24:17.693202Z",
     "iopub.status.busy": "2021-07-21T10:24:17.692727Z",
     "iopub.status.idle": "2021-07-21T10:24:17.697698Z",
     "shell.execute_reply": "2021-07-21T10:24:17.696613Z",
     "shell.execute_reply.started": "2021-07-21T10:24:17.693152Z"
    }
   },
   "outputs": [],
   "source": [
    "for layer in model_mc_.layers:\n",
    "    if layer.name == 'block5_conv1'\n",
    "        break\n",
    "    model_mc_.trainable = False\n",
    "    print(\"Layer \", layer.name, \" frozen\")"
   ]
  },
  {
   "cell_type": "code",
   "execution_count": null,
   "metadata": {},
   "outputs": [],
   "source": [
    "last_layer = model_mc_.layers[-1].output\n",
    "x = GlobalMaxPooling2D()(last_layer)\n",
    "x = Dense(1000, activation='relu')(x)\n",
    "x = Dropout(0.3)(x)\n",
    "x = GlobalMaxPooling2D()(last_layer.output)\n",
    "x = Dense(1000, activation='relu')(x)\n",
    "x = Dropout(0.3)(x)\n",
    "x = GlobalMaxPooling2D()(last_layer.output)\n",
    "x = Dense(1000, activation='relu')(x)\n",
    "x = Dropout(0.3)(x)\n",
    "x = GlobalMaxPooling2D()(last_layer.output)\n",
    "x = Dense(1000, activation='relu')(x)\n",
    "x = Dropout(0.3)(x)\n",
    "x = Dense(1, activation='sigmoid')(x)\n",
    "model_mc_ = Model(model_mc.input, x)"
   ]
  },
  {
   "cell_type": "code",
   "execution_count": null,
   "metadata": {
    "execution": {
     "iopub.execute_input": "2021-07-21T09:58:35.144474Z",
     "iopub.status.busy": "2021-07-21T09:58:35.144159Z",
     "iopub.status.idle": "2021-07-21T09:58:35.150189Z",
     "shell.execute_reply": "2021-07-21T09:58:35.149264Z",
     "shell.execute_reply.started": "2021-07-21T09:58:35.144443Z"
    }
   },
   "outputs": [],
   "source": [
    "#@jit(nopython=True, parallel=True)\n",
    "def predict_proba(X, model, num_samples):\n",
    "    preds = [model(X, training=True) for _ in range(num_samples)]\n",
    "    return np.hstack(preds)\n",
    "\n",
    "#@jit(nopython=True, parallel=True)\n",
    "def predict_class(X, model, num_samples):\n",
    "    proba_preds = predict_proba(X, model, num_samples)\n",
    "    return pred_dist.mean(axis=1)"
   ]
  },
  {
   "cell_type": "code",
   "execution_count": null,
   "metadata": {
    "execution": {
     "iopub.execute_input": "2021-07-21T09:58:35.151822Z",
     "iopub.status.busy": "2021-07-21T09:58:35.151474Z"
    }
   },
   "outputs": [],
   "source": [
    "y_pred_proba = predict_proba(train_generator, model_mc, 50)\n",
    "\n",
    "softmax_output = np.round(model_weighted_loss.predict(train_generator[1:2]), 3)\n",
    "mc_pred_proba = np.round(y_pred_proba[1], 3)\n",
    "\n",
    "#print(mc_pred_proba)\n",
    "print(softmax_output, mc_pred_proba)"
   ]
  },
  {
   "cell_type": "code",
   "execution_count": null,
   "metadata": {
    "execution": {
     "iopub.status.busy": "2021-07-16T20:45:13.258419Z",
     "iopub.status.idle": "2021-07-16T20:45:13.259137Z"
    }
   },
   "outputs": [],
   "source": [
    "model_mc.evaluate(val_generator)"
   ]
  },
  {
   "cell_type": "code",
   "execution_count": null,
   "metadata": {},
   "outputs": [],
   "source": [
    "os.makedirs('models/')\n",
    "model.save('models/bayesian_model.h5')"
   ]
  },
  {
   "cell_type": "markdown",
   "metadata": {},
   "source": [
    "### Comparación de predicciones"
   ]
  },
  {
   "cell_type": "code",
   "execution_count": null,
   "metadata": {
    "execution": {
     "iopub.execute_input": "2021-07-12T20:57:24.891647Z",
     "iopub.status.busy": "2021-07-12T20:57:24.891248Z",
     "iopub.status.idle": "2021-07-12T20:57:24.898043Z",
     "shell.execute_reply": "2021-07-12T20:57:24.897036Z",
     "shell.execute_reply.started": "2021-07-12T20:57:24.891611Z"
    }
   },
   "outputs": [],
   "source": []
  },
  {
   "cell_type": "markdown",
   "metadata": {},
   "source": [
    "## <font color=red>5. </font>Preprocesamiento de datos tabulares"
   ]
  },
  {
   "cell_type": "code",
   "execution_count": null,
   "metadata": {
    "execution": {
     "iopub.execute_input": "2021-07-04T21:26:17.720295Z",
     "iopub.status.busy": "2021-07-04T21:26:17.719953Z",
     "iopub.status.idle": "2021-07-04T21:26:17.726166Z",
     "shell.execute_reply": "2021-07-04T21:26:17.725267Z",
     "shell.execute_reply.started": "2021-07-04T21:26:17.720263Z"
    }
   },
   "outputs": [],
   "source": [
    "def check_for_leakage(df1, df2, patient_col):    \n",
    "    df1_patients_unique = set(df1[patient_col].values)\n",
    "    df2_patients_unique = set(df2[patient_col].values)\n",
    "    \n",
    "    patients_in_both_groups = df1_patients_unique.intersection(df2_patients_unique)\n",
    "\n",
    "    # leakage contains true if there is patient overlap, otherwise false.\n",
    "    leakage = len(patients_in_both_groups) > 0 # boolean (true if there is at least 1 patient in both groups)\n",
    "        \n",
    "    return leakage\n",
    "\n",
    "check_for_leakage(train, test, 'patient_id')"
   ]
  },
  {
   "cell_type": "code",
   "execution_count": null,
   "metadata": {
    "execution": {
     "iopub.execute_input": "2021-07-04T21:26:17.964214Z",
     "iopub.status.busy": "2021-07-04T21:26:17.96389Z",
     "iopub.status.idle": "2021-07-04T21:26:17.98421Z",
     "shell.execute_reply": "2021-07-04T21:26:17.983357Z",
     "shell.execute_reply.started": "2021-07-04T21:26:17.964182Z"
    }
   },
   "outputs": [],
   "source": [
    "train = train.drop(columns=['diagnosis', 'benign_malignant'])\n",
    "train.head()"
   ]
  },
  {
   "cell_type": "code",
   "execution_count": null,
   "metadata": {
    "execution": {
     "iopub.execute_input": "2021-07-04T21:26:18.496891Z",
     "iopub.status.busy": "2021-07-04T21:26:18.496564Z",
     "iopub.status.idle": "2021-07-04T21:26:18.50886Z",
     "shell.execute_reply": "2021-07-04T21:26:18.507848Z",
     "shell.execute_reply.started": "2021-07-04T21:26:18.49686Z"
    }
   },
   "outputs": [],
   "source": [
    "test.head()"
   ]
  },
  {
   "cell_type": "markdown",
   "metadata": {},
   "source": [
    "## <font color=red>[Aux] </font>Resimensionar imágenes"
   ]
  },
  {
   "cell_type": "code",
   "execution_count": null,
   "metadata": {},
   "outputs": [],
   "source": [
    "os.listdir('../input/siim-isic-melanoma-classification/jpeg')\n",
    "PATH = '../input/siim-isic-melanoma-classification/jpeg'"
   ]
  },
  {
   "cell_type": "code",
   "execution_count": null,
   "metadata": {},
   "outputs": [],
   "source": [
    "train_images_jpeg = os.listdir(f'{PATH}/train')\n",
    "test_images_jpeg = os.listdir(f'{PATH}/test')"
   ]
  },
  {
   "cell_type": "code",
   "execution_count": null,
   "metadata": {},
   "outputs": [],
   "source": [
    "def show_images_jpg():\n",
    "    row, column = 2, 8\n",
    "    fig = plt.figure(figsize=(2*column, 2*row))\n",
    "    for _r in range(row):\n",
    "        for _c in range(column):\n",
    "            plt.subplot(row, column, _r*column + _c +1)\n",
    "            ran = random.randint(0, len(train_images_jpeg)-1)\n",
    "            name = train['image_name'].values[ran]\n",
    "            img = io.imread(f'{PATH}/train/{name}.jpg')\n",
    "            plt.imshow(img)\n",
    "            plt.axis(False)\n",
    "            label = train['target'].values[ran]\n",
    "            plt.title(label)\n",
    "\n",
    "    plt.show()\n",
    "\n",
    "show_images_jpg()"
   ]
  },
  {
   "cell_type": "code",
   "execution_count": null,
   "metadata": {},
   "outputs": [],
   "source": [
    "from PIL import Image \n",
    "\n",
    "name = train['image_name'].values[50]\n",
    "img = Image.open(f'{PATH}/train-jpg224x224/{name}.jpg')\n",
    "width, height = img.size\n",
    "print(f'Width = {width} | Height = {height}')\n",
    "plt.imshow(img)\n",
    "plt.axis(False)\n",
    "\n",
    "plt.show()"
   ]
  },
  {
   "cell_type": "code",
   "execution_count": null,
   "metadata": {},
   "outputs": [],
   "source": [
    "# Scale the image to 224*224 pixel size\n",
    "\n",
    "img.thumbnail((224, 224), Image.ANTIALIAS)\n",
    "width, height = img.size\n",
    "print(f'Width = {width} | Height = {height}')\n",
    "plt.imshow(img)\n",
    "plt.axis(False)\n",
    "\n",
    "plt.show()"
   ]
  },
  {
   "cell_type": "code",
   "execution_count": null,
   "metadata": {},
   "outputs": [],
   "source": [
    "def resize_images_jpg(df, file, x, y):\n",
    "    dir_images = '../working/' + file + '/jpg' + str(x) + 'x' + str(y) \n",
    "    try:\n",
    "        os.mkdir('../working/' + file)\n",
    "        print(\"Directory\", file, \"created\") \n",
    "    except FileExistsError:\n",
    "        print(\"Directory\", file, \"already exists\")\n",
    "    \n",
    "    try:\n",
    "        os.mkdir('../working/' + file + '/jpg' + str(x) + 'x' + str(y))\n",
    "        print(\"Directory /jpg\" + str(x) + \"x\" + str(y) + \" created\")\n",
    "        print(\"Resizing images...\")\n",
    "    except FileExistsError:\n",
    "        print(\"Directory of images\", x, \"x\", y, \"already exists\")\n",
    "        return\n",
    "    \n",
    "    \n",
    "    total_images = len(df['image_name'])\n",
    "    total_images_resized = 0\n",
    "    for image in df['image_name'].values:\n",
    "        # Change path to train o test directory\n",
    "        img = Image.open(f'{PATH}/train/{image}.jpg')\n",
    "        img.thumbnail((x, y), Image.ANTIALIAS)\n",
    "        img.save(f'{dir_images}/{image}.jpg')\n",
    "        total_images_resized += 1\n",
    "        percentage_resized = (total_images_resized / total_images) * 100\n",
    "        print(\"Images resized & saved\", percentage_resized, \"%\")\n",
    "\n",
    "    print(\"Images resized\")\n",
    "\n",
    "def delete_images_jpg(file, x, y):\n",
    "    try:\n",
    "        os.system(f'rm -rf ../working/{file}/jpg{x}x{y}')\n",
    "        print(f'Directory {file}/jpg{x}x{y} deleted')\n",
    "    except:\n",
    "        print(\"Could not delete directory\")\n",
    "\n",
    "#delete_images_jpg(\"train_resized\", 224, 224)\n",
    "#delete_images_jpg(\"test_resized\", 224, 224)\n",
    "#images_train_jpg_224x224 = resize_images_jpg(train, \"train_resized\", 224, 224)\n",
    "#images_test_jpg_224x224 = resize_images_jpg(test, \"test_resized\", 224, 224)"
   ]
  },
  {
   "cell_type": "code",
   "execution_count": null,
   "metadata": {},
   "outputs": [],
   "source": [
    "import shutil\n",
    "\n",
    "shutil.make_archive('train_jpg224x224', 'zip', '../working/train_resized/jpg224x224')"
   ]
  },
  {
   "cell_type": "code",
   "execution_count": null,
   "metadata": {},
   "outputs": [],
   "source": [
    "print(\"Total original images\", len(train['image_name']))\n",
    "print(\"Total train resized images\", len(os.listdir('../working/train_resized/jpg224x224')))\n",
    "print(\"Total test original images\", len(test['image_name']))\n",
    "print(\"Total test resized images\", len(os.listdir('../working/test_resized/jpg224x224')))"
   ]
  },
  {
   "cell_type": "code",
   "execution_count": null,
   "metadata": {},
   "outputs": [],
   "source": []
  },
  {
   "cell_type": "code",
   "execution_count": null,
   "metadata": {},
   "outputs": [],
   "source": [
    "BATCH_SIZE = 64\n",
    "AUTO = tf.data.experimental.AUTOTUNE\n",
    "\n",
    "def decode(filename, label):\n",
    "    img = tf.io.read_file(filename)\n",
    "    img = tf.image.decode_jpeg(img, channels=3)\n",
    "    img = tf.cast(img, tf.float32)\n",
    "    img = tf.image.resize(img, size=(224,224), preserve_aspect_ratio=True)\n",
    "    return img, label\n",
    "\n",
    "def load_ds(df):\n",
    "    options = tf.data.Options()\n",
    "    options.experimental_deterministic = False\n",
    "    # Image name and its label\n",
    "    imgs, labels = df[\"image_name\"].values, df[\"target\"].values\n",
    "    # Create full path of images \n",
    "    imgs = [f'{PATH}/{name}.jpg' for name in imgs]\n",
    "    ds = tf.data.Dataset.from_tensor_slices((imgs, labels))\n",
    "    ds = ds.with_options(options)\n",
    "    # Transform paths to images\n",
    "    ds = ds.map(decode, num_parallel_calls=AUTO)\n",
    "    #ds = ds.cache() # cache can be used if images are small\n",
    "    ds = ds.shuffle(2048)\n",
    "    ds = ds.batch(BATCH_SIZE)\n",
    "    ds = ds.prefetch(buffer_size=AUTO)\n",
    "    return ds"
   ]
  }
 ],
 "metadata": {
  "kernelspec": {
   "display_name": "Python 3 (ipykernel)",
   "language": "python",
   "name": "python3"
  },
  "language_info": {
   "codemirror_mode": {
    "name": "ipython",
    "version": 3
   },
   "file_extension": ".py",
   "mimetype": "text/x-python",
   "name": "python",
   "nbconvert_exporter": "python",
   "pygments_lexer": "ipython3",
   "version": "3.9.6"
  }
 },
 "nbformat": 4,
 "nbformat_minor": 4
}
